{
 "cells": [
  {
   "cell_type": "markdown",
   "id": "9454b5c3",
   "metadata": {},
   "source": [
    "# 🛠️ Getting Started\n",
    "Welcome to the BuffConf Workshop! This notebook will help you get everything set up.\n",
    "\n",
    "# 🔐 Step 1: Gather Your API Keys\n",
    "Please retrieve the following API keys. You will need these for the workshop notebooks.\n",
    "\n",
    "(TODO add links to where these keys can be found)\n",
    "\n",
    "OpenAI API Key\n",
    "👉 Shared 1Password Link\n",
    "\n",
    "Turbopuffer API Key\n",
    "👉 Shared 1Password Link\n",
    "\n",
    "Momento API Key\n",
    "👉 Use the code block below to fetch your API key\n",
    "\n",
    "### 🎗️ A note on the Momento API key\n",
    "\n",
    "The Momento API Key allows you to access the Momento service. It is scoped for one hour. You can generate a new key at any time if it expires.\n",
    "\n",
    "Run this code block to fetch your Momento API key:"
   ]
  },
  {
   "cell_type": "code",
   "execution_count": null,
   "id": "65ecc86b",
   "metadata": {},
   "outputs": [],
   "source": [
    "import requests\n",
    "\n",
    "MOMENTO_TOKEN_VENDING_MACHINE_URL = \"https://5s81ye4kh3.execute-api.us-east-1.amazonaws.com/prod/\"\n",
    "response = requests.get(MOMENTO_TOKEN_VENDING_MACHINE_URL)\n",
    "response.raise_for_status()\n",
    "print(f\"Your Momento API key is:\\n\\n{response.json()['authToken']}\")"
   ]
  },
  {
   "cell_type": "markdown",
   "id": "39bff5c6",
   "metadata": {},
   "source": [
    "# 🔄 Step 2: Generate Your Namespace\n",
    "Run the code below to generate a unique namespace for this workshop. This helps isolate your data."
   ]
  },
  {
   "cell_type": "code",
   "execution_count": null,
   "id": "a92e83ef",
   "metadata": {},
   "outputs": [],
   "source": [
    "import random\n",
    "import string\n",
    "\n",
    "def generate_namespace(prefix=\"buffconf-workshop\"):\n",
    "    suffix = ''.join(random.choices(string.ascii_lowercase + string.digits, k=8))\n",
    "    return f\"{prefix}-{suffix}\"\n",
    "\n",
    "namespace = generate_namespace()\n",
    "print(\"✅ Your Turbopuffer namespace:\", namespace)"
   ]
  },
  {
   "cell_type": "markdown",
   "id": "f2cda3de",
   "metadata": {},
   "source": [
    "> Copy the generated namespace — you’ll paste this into your .env file shortly."
   ]
  },
  {
   "cell_type": "markdown",
   "id": "7f6cb418",
   "metadata": {},
   "source": [
    "# 📄 Step 3: Set Up Your Environment File\n",
    "\n",
    "1. In the root of your project directory, copy the provided environment template:"
   ]
  },
  {
   "cell_type": "code",
   "execution_count": null,
   "id": "27ad2aef",
   "metadata": {},
   "outputs": [],
   "source": [
    "%%bash\n",
    "\n",
    "cp ../.env.template ../.env"
   ]
  },
  {
   "cell_type": "markdown",
   "id": "f6b93469",
   "metadata": {},
   "source": [
    "2. Open the `.env` file and fill in the following values:\n",
    "\n",
    "```ini\n",
    "OPENAI_API_KEY=<your OpenAI API key>\n",
    "TURBOPUFFER_API_KEY=<your Turbopuffer API key>\n",
    "TURBOPUFFER_REGION=<can leave default as in the template>\n",
    "TURBOPUFFER_NAMESPACE=<your namespace>\n",
    "MOMENTO_API_KEY=<your Momento API key>\n",
    "```\n",
    "\n",
    "Replace the placeholder values with your real keys. Don't forget to paste in the namespace you generated earlier."
   ]
  }
 ],
 "metadata": {
  "kernelspec": {
   "display_name": "momento-buffconf-workshop-py3.11 (3.11.2)",
   "language": "python",
   "name": "python3"
  },
  "language_info": {
   "codemirror_mode": {
    "name": "ipython",
    "version": 3
   },
   "file_extension": ".py",
   "mimetype": "text/x-python",
   "name": "python",
   "nbconvert_exporter": "python",
   "pygments_lexer": "ipython3",
   "version": "3.11.2"
  }
 },
 "nbformat": 4,
 "nbformat_minor": 5
}
