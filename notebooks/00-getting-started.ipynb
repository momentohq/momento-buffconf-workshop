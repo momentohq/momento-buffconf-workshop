{
 "cells": [
  {
   "cell_type": "markdown",
   "id": "9454b5c3",
   "metadata": {},
   "source": [
    "# 🛠️ Getting Started\n",
    "Welcome to the BuffConf Workshop! This notebook will help you get everything set up.\n",
    "\n",
    "# 📄 Step 1: Set Up Your Environment File\n",
    "\n",
    "In the root of your project directory, copy the provided environment template:"
   ]
  },
  {
   "cell_type": "code",
   "execution_count": null,
   "id": "27ad2aef",
   "metadata": {},
   "outputs": [],
   "source": [
    "%%bash\n",
    "\n",
    "cp ../.env.template ../.env"
   ]
  },
  {
   "cell_type": "markdown",
   "id": "f6b93469",
   "metadata": {},
   "source": [
    "Open the `.env` file and fill in the following values. You'll see the following values from the template. In the next steps we'll fetch the real values you need to fill in.\n",
    "\n",
    "```ini\n",
    "OPENAI_API_KEY=<your OpenAI API key>\n",
    "TURBOPUFFER_API_KEY=<your Turbopuffer API key>\n",
    "TURBOPUFFER_REGION=<can leave default as in the template>\n",
    "TURBOPUFFER_NAMESPACE=<your namespace>\n",
    "MOMENTO_API_KEY=<your Momento API key>\n",
    "```"
   ]
  },
  {
   "cell_type": "markdown",
   "id": "3c4e8eac",
   "metadata": {},
   "source": [
    "# 🔐 Step 2: Gather Your API Keys\n",
    "Please retrieve the following API keys. You will need these for the workshop notebooks.\n",
    "\n",
    "OpenAI API Key\n",
    "👉 [Shared 1Password Link](https://share.1password.com/s#_S5nBtBPTOvvLj_4rOEhMnWj_gvf2ROKE0VqpEKLXQE)\n",
    "\n",
    "Turbopuffer API Key\n",
    "👉 [Shared 1Password Link](https://share.1password.com/s#VTFN0w-brSaUTucJAZU9qkQy8ApZB_RJJi7xD8sGduM)\n",
    "\n",
    "Momento API Key\n",
    "👉 Use this link to fetch your API key"
   ]
  },
  {
   "cell_type": "markdown",
   "id": "39bff5c6",
   "metadata": {},
   "source": [
    "# 🔄 Step 3: Generate Your Namespace\n",
    "Run the code below to generate a unique namespace for this workshop. This helps isolate your data."
   ]
  },
  {
   "cell_type": "code",
   "execution_count": null,
   "id": "a92e83ef",
   "metadata": {},
   "outputs": [],
   "source": [
    "import random\n",
    "import string\n",
    "\n",
    "def generate_namespace(prefix=\"buffconf-workshop\"):\n",
    "    suffix = ''.join(random.choices(string.ascii_lowercase + string.digits, k=8))\n",
    "    return f\"{prefix}-{suffix}\"\n",
    "\n",
    "namespace = generate_namespace()\n",
    "print(\"✅ Your Turbopuffer namespace:\", namespace)"
   ]
  },
  {
   "cell_type": "markdown",
   "id": "f2cda3de",
   "metadata": {},
   "source": [
    "> Copy the generated namespace and paste it into the `.env` file under `TURBOPUFFER_NAMESPACE`."
   ]
  }
 ],
 "metadata": {
  "kernelspec": {
   "display_name": "momento-buffconf-workshop-py3.11 (3.11.2)",
   "language": "python",
   "name": "python3"
  },
  "language_info": {
   "codemirror_mode": {
    "name": "ipython",
    "version": 3
   },
   "file_extension": ".py",
   "mimetype": "text/x-python",
   "name": "python",
   "nbconvert_exporter": "python",
   "pygments_lexer": "ipython3",
   "version": "3.11.2"
  }
 },
 "nbformat": 4,
 "nbformat_minor": 5
}
