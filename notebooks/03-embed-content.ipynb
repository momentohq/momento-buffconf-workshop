{
 "cells": [
  {
   "cell_type": "markdown",
   "id": "680a5f23",
   "metadata": {},
   "source": [
    "# Embed content\n",
    "\n",
    "Turn raw text into dense vectors using a text embedding model. These vectors can be stored in a vector database for efficient similarity search.\n",
    "\n",
    "We use the OpenAI text embedding model `text-embedding-3-small`. You can read about that [here](https://platform.openai.com/docs/models/text-embedding-3-small)."
   ]
  },
  {
   "cell_type": "markdown",
   "id": "3b77130d",
   "metadata": {},
   "source": [
    "## Setup"
   ]
  },
  {
   "cell_type": "code",
   "execution_count": null,
   "id": "5c6744e1",
   "metadata": {},
   "outputs": [
    {
     "name": "stdout",
     "output_type": "stream",
     "text": [
      "🟢 LIVE DEMO — 03-embed-content will generate fresh outputs (📦 snapshot 2025-07-25-14-48-36 (auto))\n"
     ]
    }
   ],
   "source": [
    "from momento_buffconf_workshop import NotebookConfiguration\n",
    "\n",
    "config = NotebookConfiguration.for_embedding(run_demos_live=False)\n",
    "config.print_status_banner()"
   ]
  },
  {
   "cell_type": "code",
   "execution_count": 33,
   "id": "4e1a8ebf",
   "metadata": {},
   "outputs": [],
   "source": [
    "from openai import OpenAI\n",
    "import pandas as pd\n",
    "import tiktoken\n",
    "from tqdm import tqdm\n",
    "\n",
    "from momento_buffconf_workshop import ArticleContent, ArticleEmbeddingProjector"
   ]
  },
  {
   "cell_type": "markdown",
   "id": "c2837d33",
   "metadata": {},
   "source": [
    "## Load scraped content"
   ]
  },
  {
   "cell_type": "markdown",
   "id": "0a4747fe",
   "metadata": {},
   "source": [
    "Load the previously scraped articles from disk"
   ]
  },
  {
   "cell_type": "code",
   "execution_count": 34,
   "id": "57f36b4e",
   "metadata": {},
   "outputs": [],
   "source": [
    "content = ArticleContent.load_json(config.normalized_article_path)"
   ]
  },
  {
   "cell_type": "code",
   "execution_count": 35,
   "id": "2b3b31d6",
   "metadata": {},
   "outputs": [],
   "source": [
    "all_articles = content.all_articles"
   ]
  },
  {
   "cell_type": "markdown",
   "id": "77644082",
   "metadata": {},
   "source": [
    "Note that we use the [langchain](https://github.com/langchain-ai/langchain) `Document` model to store the article content, which includes the title, URL, and text content. This is a convenient way to store the content for embedding and later retrieval.\n",
    "\n"
   ]
  },
  {
   "cell_type": "code",
   "execution_count": 36,
   "id": "8c723121",
   "metadata": {},
   "outputs": [
    {
     "data": {
      "text/plain": [
       "Document(id='18446436944513806969', metadata={'title': 'South Carolina standout Ashlyn Watkins to take a leave of absence and miss 2025-26 season, return in 2026-27', 'link': 'https://www.cbssports.com/womens-college-basketball/news/south-carolina-standout-ashlyn-watkins-to-take-a-leave-of-absence-and-miss-2025-26-season-return-in-2026-27/', 'authors': ['Zachary Pereles', 'Min Read', 'Isabel Gonzalez', 'Erica Ayala', 'Cody Nagel', 'Jack Maloney', 'Steven Taranto'], 'language': 'en', 'description': 'Watkins suffered a torn ACL in early 2025 and said that she wanted to take some time to herself this year', 'publish_date': None, 'feed': 'https://www.cbssports.com/rss/headlines/'}, page_content='South Carolina forward Ashlyn Watkins announced on social media Friday that she will not play in the upcoming season -- what would have been her senior season -- but plans to return in 2026-27.\\n\\n\"As most of you know, this past year has been a roller coaster for me,\" Watkins wrote. \"I usually like to keep my personal life private, but every time I step out into the community, I realize I\\'m not alone in this journey. So many of you have shown me love and encouragement, and because of that, I feel like l owe you a little insight into what\\'s been going on.\\n\\n\"I also want the younger ones who look up to me to know that tough times don\\'t define you, they make you stronger.\\n\\n\"With everything that\\'s happened this year, I\\'m going to take some time off to focus on myself, my community, my faith, and my family, so that I can grow as an individual and attempt to master this journey of life.\\n\\n\"I\\'m so grateful for my coaches, the USC medical team, my teammates, and everyone who\\'s supported me along the way. For now, I\\'ll be cheering on my team and working hard to come back even stronger in the 2026-27 season.\"\\n\\nA terrific defender, Watkins tore her ACL on Jan. 5 against Mississippi State. She finished the season averaging 7.2 points and 6.1 rebounds and 1.9 blocks. The year before, she averaged 9.2 points, 7.4 rebounds and 2.4 blocks, playing a key role for the undefeated national-champion Gamecocks.\\n\\nOn Aug. 31, 2024, Watkins was arrested and charged with first-degree assault and battery and kidnapping after an incident at South Carolina\\'s student housing center. The arrest warrant stated Watkins was \"forcefully grabbing [the victim\\'s] face, pulling her by her arms, and pushing her.\" The kidnapping charges came when Watkins \"grabbed the victim\\'s head and forced her to walk down the hall, thus controlling her movement while preventing her from leaving.\" The victim received medical treatment for non-life threatening injuries.\\n\\nWatkins was suspended from all team activities after the arrest. However, a judge dismissed all charges after Watkins completed a pre-trial intervention program, and Watkins returned to the Gamecocks on Nov. 8, 2024.\\n\\nKey returning frontcourt players Joyce Edwards and Chloe Kitts will take on expanded roles in Watkins\\' absence, as will incoming Mississippi State transfer Madina Okot. South Carolina also brings in five-star freshmen Agot Makeer and Ayla McDowell')"
      ]
     },
     "execution_count": 36,
     "metadata": {},
     "output_type": "execute_result"
    }
   ],
   "source": [
    "all_articles[0]"
   ]
  },
  {
   "cell_type": "markdown",
   "id": "06226323",
   "metadata": {},
   "source": [
    "## Embed articles"
   ]
  },
  {
   "cell_type": "markdown",
   "id": "089385a1",
   "metadata": {},
   "source": [
    "Instantiate the OpenAI client. This loads the OpenAI API key from the environment variable `OPENAI_API_KEY`."
   ]
  },
  {
   "cell_type": "code",
   "execution_count": 37,
   "id": "bbad2c8d",
   "metadata": {},
   "outputs": [],
   "source": [
    "if config.run_demos_live:\n",
    "    client = OpenAI()"
   ]
  },
  {
   "cell_type": "markdown",
   "id": "fdbdcc1c",
   "metadata": {},
   "source": [
    "Since the embeddings API supports embedding batches of text at once, we can save on API calls by grouping the articles into batches. We'll use a batch size of 25 articles for this example.\n",
    "\n",
    "TODO: explain the embeddings API converts text to vectors (as explained before), a point in high dimensional space. 1536-D to be exact. We won't explain how the embedding model does this in this talk."
   ]
  },
  {
   "cell_type": "code",
   "execution_count": 38,
   "id": "9482729b",
   "metadata": {},
   "outputs": [],
   "source": [
    "def truncate_text(text: str, max_tokens: int = 8192) -> str:\n",
    "    encoding = tiktoken.encoding_for_model(\"text-embedding-3-small\")\n",
    "    tokens = encoding.encode(text)\n",
    "    truncated_tokens = tokens[:max_tokens]\n",
    "    truncated_text = encoding.decode(truncated_tokens)\n",
    "\n",
    "    return truncated_text"
   ]
  },
  {
   "cell_type": "code",
   "execution_count": 39,
   "id": "ffa9ca74",
   "metadata": {},
   "outputs": [
    {
     "name": "stderr",
     "output_type": "stream",
     "text": [
      "100%|██████████| 19/19 [00:17<00:00,  1.07it/s]\n"
     ]
    }
   ],
   "source": [
    "if config.run_demos_live:\n",
    "    embeddings = []\n",
    "    batch_size = 25\n",
    "\n",
    "    for i in tqdm(range(0, len(all_articles), batch_size)):\n",
    "        batch = all_articles[i:i + batch_size]\n",
    "        texts = [article.page_content for article in batch]\n",
    "        texts = [truncate_text(text) if text else \"No content available.\" for text in texts]\n",
    "        result = client.embeddings.create(input=texts, model=\"text-embedding-3-small\")\n",
    "        embeddings.extend([data.embedding for data in result.data])\n",
    "else:\n",
    "    # Load precomputed embeddings from a file\n",
    "    embeddings_df = pd.read_parquet(config.embeddings_path)"
   ]
  },
  {
   "cell_type": "code",
   "execution_count": 40,
   "id": "b57d5915",
   "metadata": {},
   "outputs": [
    {
     "name": "stdout",
     "output_type": "stream",
     "text": [
      "455\n"
     ]
    }
   ],
   "source": [
    "if config.run_demos_live:\n",
    "    print(len(embeddings))\n",
    "else:\n",
    "    print(len(embeddings_df))"
   ]
  },
  {
   "cell_type": "markdown",
   "id": "4e0db728",
   "metadata": {},
   "source": [
    "## Explore the embeddings"
   ]
  },
  {
   "cell_type": "code",
   "execution_count": 41,
   "id": "58456528",
   "metadata": {},
   "outputs": [],
   "source": [
    "if config.run_demos_live:\n",
    "    # Export embeddings to a DataFrame where the index is the article ID\n",
    "    embeddings_df = pd.DataFrame(embeddings, index=[article.id for article in all_articles])"
   ]
  },
  {
   "cell_type": "code",
   "execution_count": 42,
   "id": "0f630429",
   "metadata": {},
   "outputs": [
    {
     "data": {
      "text/html": [
       "<div>\n",
       "<style scoped>\n",
       "    .dataframe tbody tr th:only-of-type {\n",
       "        vertical-align: middle;\n",
       "    }\n",
       "\n",
       "    .dataframe tbody tr th {\n",
       "        vertical-align: top;\n",
       "    }\n",
       "\n",
       "    .dataframe thead th {\n",
       "        text-align: right;\n",
       "    }\n",
       "</style>\n",
       "<table border=\"1\" class=\"dataframe\">\n",
       "  <thead>\n",
       "    <tr style=\"text-align: right;\">\n",
       "      <th></th>\n",
       "      <th>0</th>\n",
       "      <th>1</th>\n",
       "      <th>2</th>\n",
       "      <th>3</th>\n",
       "      <th>4</th>\n",
       "      <th>5</th>\n",
       "      <th>6</th>\n",
       "      <th>7</th>\n",
       "      <th>8</th>\n",
       "      <th>9</th>\n",
       "      <th>...</th>\n",
       "      <th>1526</th>\n",
       "      <th>1527</th>\n",
       "      <th>1528</th>\n",
       "      <th>1529</th>\n",
       "      <th>1530</th>\n",
       "      <th>1531</th>\n",
       "      <th>1532</th>\n",
       "      <th>1533</th>\n",
       "      <th>1534</th>\n",
       "      <th>1535</th>\n",
       "    </tr>\n",
       "  </thead>\n",
       "  <tbody>\n",
       "    <tr>\n",
       "      <th>18446436944513806969</th>\n",
       "      <td>0.014505</td>\n",
       "      <td>-0.010380</td>\n",
       "      <td>0.040285</td>\n",
       "      <td>0.070356</td>\n",
       "      <td>-0.043714</td>\n",
       "      <td>0.019082</td>\n",
       "      <td>0.023386</td>\n",
       "      <td>-0.026445</td>\n",
       "      <td>-0.011921</td>\n",
       "      <td>0.024163</td>\n",
       "      <td>...</td>\n",
       "      <td>0.035721</td>\n",
       "      <td>-0.031379</td>\n",
       "      <td>-0.013519</td>\n",
       "      <td>0.017614</td>\n",
       "      <td>0.008548</td>\n",
       "      <td>-0.036190</td>\n",
       "      <td>0.005668</td>\n",
       "      <td>0.008098</td>\n",
       "      <td>0.025656</td>\n",
       "      <td>-0.012002</td>\n",
       "    </tr>\n",
       "    <tr>\n",
       "      <th>9863305215111764759</th>\n",
       "      <td>-0.042906</td>\n",
       "      <td>0.023243</td>\n",
       "      <td>0.034088</td>\n",
       "      <td>0.050112</td>\n",
       "      <td>0.002179</td>\n",
       "      <td>0.014365</td>\n",
       "      <td>0.034159</td>\n",
       "      <td>0.024795</td>\n",
       "      <td>0.011455</td>\n",
       "      <td>0.041341</td>\n",
       "      <td>...</td>\n",
       "      <td>0.006768</td>\n",
       "      <td>-0.003754</td>\n",
       "      <td>0.022958</td>\n",
       "      <td>0.049875</td>\n",
       "      <td>0.004702</td>\n",
       "      <td>0.016072</td>\n",
       "      <td>-0.004154</td>\n",
       "      <td>0.002147</td>\n",
       "      <td>0.003064</td>\n",
       "      <td>0.012078</td>\n",
       "    </tr>\n",
       "    <tr>\n",
       "      <th>8825771502640235889</th>\n",
       "      <td>-0.068393</td>\n",
       "      <td>-0.007680</td>\n",
       "      <td>0.022226</td>\n",
       "      <td>0.019818</td>\n",
       "      <td>0.001039</td>\n",
       "      <td>-0.012905</td>\n",
       "      <td>0.002578</td>\n",
       "      <td>0.021016</td>\n",
       "      <td>-0.006285</td>\n",
       "      <td>-0.038773</td>\n",
       "      <td>...</td>\n",
       "      <td>-0.036377</td>\n",
       "      <td>-0.023125</td>\n",
       "      <td>0.011658</td>\n",
       "      <td>0.028301</td>\n",
       "      <td>0.014905</td>\n",
       "      <td>-0.006710</td>\n",
       "      <td>0.042440</td>\n",
       "      <td>-0.034172</td>\n",
       "      <td>0.005263</td>\n",
       "      <td>0.030314</td>\n",
       "    </tr>\n",
       "    <tr>\n",
       "      <th>12255861714247326958</th>\n",
       "      <td>-0.000293</td>\n",
       "      <td>-0.022754</td>\n",
       "      <td>0.039776</td>\n",
       "      <td>-0.029411</td>\n",
       "      <td>-0.009687</td>\n",
       "      <td>0.000141</td>\n",
       "      <td>0.019970</td>\n",
       "      <td>-0.013500</td>\n",
       "      <td>-0.029949</td>\n",
       "      <td>-0.050118</td>\n",
       "      <td>...</td>\n",
       "      <td>-0.038208</td>\n",
       "      <td>0.010646</td>\n",
       "      <td>-0.006838</td>\n",
       "      <td>0.002806</td>\n",
       "      <td>0.031938</td>\n",
       "      <td>0.018718</td>\n",
       "      <td>0.003045</td>\n",
       "      <td>0.019338</td>\n",
       "      <td>0.013875</td>\n",
       "      <td>0.031774</td>\n",
       "    </tr>\n",
       "    <tr>\n",
       "      <th>6307684363129125181</th>\n",
       "      <td>0.033553</td>\n",
       "      <td>0.006727</td>\n",
       "      <td>0.044166</td>\n",
       "      <td>0.066918</td>\n",
       "      <td>-0.006134</td>\n",
       "      <td>0.009427</td>\n",
       "      <td>-0.008611</td>\n",
       "      <td>-0.010636</td>\n",
       "      <td>0.003813</td>\n",
       "      <td>0.022118</td>\n",
       "      <td>...</td>\n",
       "      <td>0.008136</td>\n",
       "      <td>0.011047</td>\n",
       "      <td>0.033952</td>\n",
       "      <td>0.034844</td>\n",
       "      <td>-0.013982</td>\n",
       "      <td>-0.004649</td>\n",
       "      <td>-0.017645</td>\n",
       "      <td>0.005116</td>\n",
       "      <td>-0.021578</td>\n",
       "      <td>-0.013912</td>\n",
       "    </tr>\n",
       "    <tr>\n",
       "      <th>...</th>\n",
       "      <td>...</td>\n",
       "      <td>...</td>\n",
       "      <td>...</td>\n",
       "      <td>...</td>\n",
       "      <td>...</td>\n",
       "      <td>...</td>\n",
       "      <td>...</td>\n",
       "      <td>...</td>\n",
       "      <td>...</td>\n",
       "      <td>...</td>\n",
       "      <td>...</td>\n",
       "      <td>...</td>\n",
       "      <td>...</td>\n",
       "      <td>...</td>\n",
       "      <td>...</td>\n",
       "      <td>...</td>\n",
       "      <td>...</td>\n",
       "      <td>...</td>\n",
       "      <td>...</td>\n",
       "      <td>...</td>\n",
       "      <td>...</td>\n",
       "    </tr>\n",
       "    <tr>\n",
       "      <th>17544072932115780563</th>\n",
       "      <td>-0.047389</td>\n",
       "      <td>0.001688</td>\n",
       "      <td>0.021347</td>\n",
       "      <td>-0.018627</td>\n",
       "      <td>-0.014171</td>\n",
       "      <td>0.011194</td>\n",
       "      <td>0.007930</td>\n",
       "      <td>-0.001872</td>\n",
       "      <td>0.013836</td>\n",
       "      <td>-0.031145</td>\n",
       "      <td>...</td>\n",
       "      <td>-0.008631</td>\n",
       "      <td>-0.013417</td>\n",
       "      <td>-0.041328</td>\n",
       "      <td>0.006373</td>\n",
       "      <td>0.014770</td>\n",
       "      <td>-0.004315</td>\n",
       "      <td>0.013991</td>\n",
       "      <td>0.014087</td>\n",
       "      <td>0.044825</td>\n",
       "      <td>0.022892</td>\n",
       "    </tr>\n",
       "    <tr>\n",
       "      <th>14436596974385951502</th>\n",
       "      <td>-0.035541</td>\n",
       "      <td>-0.011619</td>\n",
       "      <td>0.042909</td>\n",
       "      <td>-0.028058</td>\n",
       "      <td>-0.030444</td>\n",
       "      <td>0.013589</td>\n",
       "      <td>0.042492</td>\n",
       "      <td>-0.023215</td>\n",
       "      <td>-0.007455</td>\n",
       "      <td>-0.033943</td>\n",
       "      <td>...</td>\n",
       "      <td>-0.034592</td>\n",
       "      <td>0.004894</td>\n",
       "      <td>0.000778</td>\n",
       "      <td>-0.015048</td>\n",
       "      <td>0.034568</td>\n",
       "      <td>0.013994</td>\n",
       "      <td>0.018072</td>\n",
       "      <td>0.024930</td>\n",
       "      <td>0.050694</td>\n",
       "      <td>0.033804</td>\n",
       "    </tr>\n",
       "    <tr>\n",
       "      <th>16798080987382404459</th>\n",
       "      <td>0.009262</td>\n",
       "      <td>-0.011761</td>\n",
       "      <td>-0.004202</td>\n",
       "      <td>0.043145</td>\n",
       "      <td>0.000192</td>\n",
       "      <td>0.026114</td>\n",
       "      <td>0.037271</td>\n",
       "      <td>0.009009</td>\n",
       "      <td>-0.013798</td>\n",
       "      <td>0.002231</td>\n",
       "      <td>...</td>\n",
       "      <td>0.002394</td>\n",
       "      <td>0.023066</td>\n",
       "      <td>0.033667</td>\n",
       "      <td>0.025991</td>\n",
       "      <td>0.005020</td>\n",
       "      <td>-0.020548</td>\n",
       "      <td>0.014896</td>\n",
       "      <td>-0.012341</td>\n",
       "      <td>0.020388</td>\n",
       "      <td>0.014958</td>\n",
       "    </tr>\n",
       "    <tr>\n",
       "      <th>1620991113212866893</th>\n",
       "      <td>0.039479</td>\n",
       "      <td>-0.002255</td>\n",
       "      <td>0.026550</td>\n",
       "      <td>0.030810</td>\n",
       "      <td>-0.000143</td>\n",
       "      <td>0.001861</td>\n",
       "      <td>0.045150</td>\n",
       "      <td>-0.029473</td>\n",
       "      <td>-0.008452</td>\n",
       "      <td>0.024507</td>\n",
       "      <td>...</td>\n",
       "      <td>-0.001624</td>\n",
       "      <td>0.014229</td>\n",
       "      <td>0.013733</td>\n",
       "      <td>0.032891</td>\n",
       "      <td>0.012055</td>\n",
       "      <td>-0.003774</td>\n",
       "      <td>0.033733</td>\n",
       "      <td>-0.018390</td>\n",
       "      <td>0.027194</td>\n",
       "      <td>0.043045</td>\n",
       "    </tr>\n",
       "    <tr>\n",
       "      <th>14710127605235150355</th>\n",
       "      <td>-0.030025</td>\n",
       "      <td>-0.018122</td>\n",
       "      <td>0.036078</td>\n",
       "      <td>-0.025155</td>\n",
       "      <td>-0.037614</td>\n",
       "      <td>0.002435</td>\n",
       "      <td>0.008795</td>\n",
       "      <td>-0.024706</td>\n",
       "      <td>-0.036858</td>\n",
       "      <td>-0.033146</td>\n",
       "      <td>...</td>\n",
       "      <td>-0.024990</td>\n",
       "      <td>0.010006</td>\n",
       "      <td>0.010621</td>\n",
       "      <td>0.009008</td>\n",
       "      <td>0.015604</td>\n",
       "      <td>0.019186</td>\n",
       "      <td>0.011401</td>\n",
       "      <td>0.013630</td>\n",
       "      <td>0.026597</td>\n",
       "      <td>0.045866</td>\n",
       "    </tr>\n",
       "  </tbody>\n",
       "</table>\n",
       "<p>455 rows × 1536 columns</p>\n",
       "</div>"
      ],
      "text/plain": [
       "                          0         1         2         3         4     \\\n",
       "18446436944513806969  0.014505 -0.010380  0.040285  0.070356 -0.043714   \n",
       "9863305215111764759  -0.042906  0.023243  0.034088  0.050112  0.002179   \n",
       "8825771502640235889  -0.068393 -0.007680  0.022226  0.019818  0.001039   \n",
       "12255861714247326958 -0.000293 -0.022754  0.039776 -0.029411 -0.009687   \n",
       "6307684363129125181   0.033553  0.006727  0.044166  0.066918 -0.006134   \n",
       "...                        ...       ...       ...       ...       ...   \n",
       "17544072932115780563 -0.047389  0.001688  0.021347 -0.018627 -0.014171   \n",
       "14436596974385951502 -0.035541 -0.011619  0.042909 -0.028058 -0.030444   \n",
       "16798080987382404459  0.009262 -0.011761 -0.004202  0.043145  0.000192   \n",
       "1620991113212866893   0.039479 -0.002255  0.026550  0.030810 -0.000143   \n",
       "14710127605235150355 -0.030025 -0.018122  0.036078 -0.025155 -0.037614   \n",
       "\n",
       "                          5         6         7         8         9     ...  \\\n",
       "18446436944513806969  0.019082  0.023386 -0.026445 -0.011921  0.024163  ...   \n",
       "9863305215111764759   0.014365  0.034159  0.024795  0.011455  0.041341  ...   \n",
       "8825771502640235889  -0.012905  0.002578  0.021016 -0.006285 -0.038773  ...   \n",
       "12255861714247326958  0.000141  0.019970 -0.013500 -0.029949 -0.050118  ...   \n",
       "6307684363129125181   0.009427 -0.008611 -0.010636  0.003813  0.022118  ...   \n",
       "...                        ...       ...       ...       ...       ...  ...   \n",
       "17544072932115780563  0.011194  0.007930 -0.001872  0.013836 -0.031145  ...   \n",
       "14436596974385951502  0.013589  0.042492 -0.023215 -0.007455 -0.033943  ...   \n",
       "16798080987382404459  0.026114  0.037271  0.009009 -0.013798  0.002231  ...   \n",
       "1620991113212866893   0.001861  0.045150 -0.029473 -0.008452  0.024507  ...   \n",
       "14710127605235150355  0.002435  0.008795 -0.024706 -0.036858 -0.033146  ...   \n",
       "\n",
       "                          1526      1527      1528      1529      1530  \\\n",
       "18446436944513806969  0.035721 -0.031379 -0.013519  0.017614  0.008548   \n",
       "9863305215111764759   0.006768 -0.003754  0.022958  0.049875  0.004702   \n",
       "8825771502640235889  -0.036377 -0.023125  0.011658  0.028301  0.014905   \n",
       "12255861714247326958 -0.038208  0.010646 -0.006838  0.002806  0.031938   \n",
       "6307684363129125181   0.008136  0.011047  0.033952  0.034844 -0.013982   \n",
       "...                        ...       ...       ...       ...       ...   \n",
       "17544072932115780563 -0.008631 -0.013417 -0.041328  0.006373  0.014770   \n",
       "14436596974385951502 -0.034592  0.004894  0.000778 -0.015048  0.034568   \n",
       "16798080987382404459  0.002394  0.023066  0.033667  0.025991  0.005020   \n",
       "1620991113212866893  -0.001624  0.014229  0.013733  0.032891  0.012055   \n",
       "14710127605235150355 -0.024990  0.010006  0.010621  0.009008  0.015604   \n",
       "\n",
       "                          1531      1532      1533      1534      1535  \n",
       "18446436944513806969 -0.036190  0.005668  0.008098  0.025656 -0.012002  \n",
       "9863305215111764759   0.016072 -0.004154  0.002147  0.003064  0.012078  \n",
       "8825771502640235889  -0.006710  0.042440 -0.034172  0.005263  0.030314  \n",
       "12255861714247326958  0.018718  0.003045  0.019338  0.013875  0.031774  \n",
       "6307684363129125181  -0.004649 -0.017645  0.005116 -0.021578 -0.013912  \n",
       "...                        ...       ...       ...       ...       ...  \n",
       "17544072932115780563 -0.004315  0.013991  0.014087  0.044825  0.022892  \n",
       "14436596974385951502  0.013994  0.018072  0.024930  0.050694  0.033804  \n",
       "16798080987382404459 -0.020548  0.014896 -0.012341  0.020388  0.014958  \n",
       "1620991113212866893  -0.003774  0.033733 -0.018390  0.027194  0.043045  \n",
       "14710127605235150355  0.019186  0.011401  0.013630  0.026597  0.045866  \n",
       "\n",
       "[455 rows x 1536 columns]"
      ]
     },
     "execution_count": 42,
     "metadata": {},
     "output_type": "execute_result"
    }
   ],
   "source": [
    "embeddings_df"
   ]
  },
  {
   "cell_type": "markdown",
   "id": "8f142a52",
   "metadata": {},
   "source": [
    "## Visualize the data"
   ]
  },
  {
   "cell_type": "markdown",
   "id": "b98d452c",
   "metadata": {},
   "source": [
    "First project the data to 2-D using t-SNE. This is a common technique for visualizing high-dimensional data. It will help us see the structure of the data in a 2D space.\n",
    "\n",
    "Now let's plot in 2-D and see if the embeddings have captured some structure. We'll use the `plotly` library to create an interactive scatterplot.\n",
    "\n",
    "First let's prepare the data to plot:"
   ]
  },
  {
   "cell_type": "code",
   "execution_count": 43,
   "id": "fb21e9a1",
   "metadata": {},
   "outputs": [],
   "source": [
    "projection = ArticleEmbeddingProjector.fit_transform(embeddings_df, all_articles)"
   ]
  },
  {
   "cell_type": "markdown",
   "id": "6a20fe93",
   "metadata": {},
   "source": [
    "Now let's plot the 2-D projection of the data and see if there's any structure to the embeddings..."
   ]
  },
  {
   "cell_type": "code",
   "execution_count": 44,
   "id": "3dbe9e52",
   "metadata": {},
   "outputs": [
    {
     "data": {
      "application/vnd.plotly.v1+json": {
       "config": {
        "plotlyServerURL": "https://plot.ly"
       },
       "data": [
        {
         "customdata": [
          [
           ""
          ],
          [
           ""
          ],
          [
           ""
          ],
          [
           ""
          ],
          [
           ""
          ],
          [
           ""
          ],
          [
           ""
          ],
          [
           ""
          ],
          [
           ""
          ],
          [
           ""
          ],
          [
           ""
          ],
          [
           ""
          ],
          [
           ""
          ],
          [
           ""
          ],
          [
           ""
          ],
          [
           ""
          ],
          [
           ""
          ],
          [
           ""
          ],
          [
           ""
          ],
          [
           ""
          ],
          [
           ""
          ],
          [
           ""
          ],
          [
           ""
          ],
          [
           ""
          ],
          [
           ""
          ],
          [
           ""
          ],
          [
           ""
          ],
          [
           ""
          ],
          [
           ""
          ],
          [
           ""
          ],
          [
           ""
          ],
          [
           ""
          ],
          [
           ""
          ],
          [
           ""
          ],
          [
           ""
          ],
          [
           ""
          ],
          [
           ""
          ],
          [
           ""
          ],
          [
           ""
          ],
          [
           ""
          ],
          [
           ""
          ],
          [
           ""
          ],
          [
           ""
          ],
          [
           ""
          ],
          [
           ""
          ],
          [
           ""
          ],
          [
           ""
          ],
          [
           ""
          ],
          [
           ""
          ],
          [
           ""
          ],
          [
           ""
          ],
          [
           ""
          ],
          [
           ""
          ],
          [
           ""
          ],
          [
           ""
          ],
          [
           ""
          ],
          [
           ""
          ],
          [
           ""
          ],
          [
           ""
          ],
          [
           ""
          ],
          [
           ""
          ],
          [
           ""
          ],
          [
           ""
          ],
          [
           ""
          ],
          [
           ""
          ],
          [
           ""
          ],
          [
           ""
          ],
          [
           ""
          ],
          [
           ""
          ],
          [
           ""
          ],
          [
           ""
          ],
          [
           ""
          ],
          [
           ""
          ],
          [
           ""
          ],
          [
           ""
          ],
          [
           ""
          ],
          [
           ""
          ],
          [
           ""
          ],
          [
           ""
          ],
          [
           ""
          ],
          [
           ""
          ],
          [
           ""
          ],
          [
           ""
          ],
          [
           ""
          ],
          [
           ""
          ],
          [
           ""
          ],
          [
           ""
          ],
          [
           ""
          ],
          [
           ""
          ],
          [
           ""
          ],
          [
           ""
          ],
          [
           ""
          ],
          [
           ""
          ],
          [
           ""
          ],
          [
           ""
          ],
          [
           ""
          ],
          [
           ""
          ],
          [
           ""
          ],
          [
           ""
          ],
          [
           ""
          ],
          [
           ""
          ],
          [
           ""
          ],
          [
           ""
          ],
          [
           ""
          ],
          [
           ""
          ],
          [
           ""
          ],
          [
           ""
          ],
          [
           ""
          ],
          [
           ""
          ],
          [
           ""
          ],
          [
           ""
          ],
          [
           ""
          ],
          [
           ""
          ],
          [
           ""
          ],
          [
           ""
          ],
          [
           ""
          ],
          [
           ""
          ],
          [
           ""
          ],
          [
           ""
          ],
          [
           ""
          ],
          [
           ""
          ],
          [
           ""
          ],
          [
           ""
          ],
          [
           ""
          ],
          [
           ""
          ],
          [
           ""
          ],
          [
           ""
          ],
          [
           ""
          ],
          [
           ""
          ],
          [
           ""
          ],
          [
           ""
          ],
          [
           ""
          ],
          [
           ""
          ],
          [
           ""
          ],
          [
           ""
          ],
          [
           ""
          ],
          [
           ""
          ],
          [
           ""
          ],
          [
           ""
          ],
          [
           ""
          ],
          [
           ""
          ],
          [
           ""
          ],
          [
           ""
          ],
          [
           ""
          ],
          [
           ""
          ],
          [
           ""
          ],
          [
           ""
          ],
          [
           ""
          ],
          [
           ""
          ],
          [
           ""
          ],
          [
           ""
          ],
          [
           ""
          ],
          [
           ""
          ],
          [
           ""
          ],
          [
           ""
          ],
          [
           ""
          ],
          [
           ""
          ],
          [
           ""
          ],
          [
           ""
          ],
          [
           ""
          ],
          [
           ""
          ],
          [
           ""
          ],
          [
           ""
          ],
          [
           ""
          ],
          [
           ""
          ],
          [
           ""
          ],
          [
           ""
          ],
          [
           ""
          ],
          [
           ""
          ],
          [
           ""
          ],
          [
           ""
          ],
          [
           ""
          ],
          [
           ""
          ],
          [
           ""
          ],
          [
           ""
          ],
          [
           ""
          ],
          [
           ""
          ],
          [
           ""
          ],
          [
           ""
          ],
          [
           ""
          ],
          [
           ""
          ],
          [
           ""
          ],
          [
           ""
          ],
          [
           ""
          ],
          [
           ""
          ],
          [
           ""
          ],
          [
           ""
          ],
          [
           ""
          ],
          [
           ""
          ],
          [
           ""
          ],
          [
           ""
          ],
          [
           ""
          ],
          [
           ""
          ],
          [
           ""
          ],
          [
           ""
          ],
          [
           ""
          ],
          [
           ""
          ],
          [
           ""
          ],
          [
           ""
          ],
          [
           ""
          ],
          [
           ""
          ],
          [
           ""
          ],
          [
           ""
          ],
          [
           ""
          ],
          [
           ""
          ],
          [
           ""
          ],
          [
           ""
          ],
          [
           ""
          ],
          [
           ""
          ],
          [
           ""
          ],
          [
           ""
          ],
          [
           ""
          ],
          [
           ""
          ],
          [
           ""
          ],
          [
           ""
          ],
          [
           ""
          ],
          [
           ""
          ],
          [
           ""
          ],
          [
           ""
          ],
          [
           ""
          ],
          [
           ""
          ],
          [
           ""
          ],
          [
           ""
          ],
          [
           ""
          ],
          [
           ""
          ],
          [
           ""
          ],
          [
           ""
          ],
          [
           ""
          ],
          [
           ""
          ],
          [
           ""
          ],
          [
           ""
          ],
          [
           ""
          ],
          [
           ""
          ],
          [
           ""
          ],
          [
           ""
          ],
          [
           ""
          ],
          [
           ""
          ],
          [
           ""
          ],
          [
           ""
          ],
          [
           ""
          ],
          [
           ""
          ],
          [
           ""
          ],
          [
           ""
          ],
          [
           ""
          ],
          [
           ""
          ],
          [
           ""
          ],
          [
           ""
          ],
          [
           ""
          ],
          [
           ""
          ],
          [
           ""
          ],
          [
           ""
          ],
          [
           ""
          ],
          [
           ""
          ],
          [
           ""
          ],
          [
           ""
          ],
          [
           ""
          ],
          [
           ""
          ],
          [
           ""
          ],
          [
           ""
          ],
          [
           ""
          ],
          [
           ""
          ],
          [
           ""
          ],
          [
           ""
          ],
          [
           ""
          ],
          [
           ""
          ],
          [
           ""
          ],
          [
           ""
          ],
          [
           ""
          ],
          [
           ""
          ],
          [
           ""
          ],
          [
           ""
          ],
          [
           ""
          ],
          [
           ""
          ],
          [
           ""
          ],
          [
           ""
          ],
          [
           ""
          ],
          [
           ""
          ],
          [
           ""
          ],
          [
           ""
          ],
          [
           ""
          ],
          [
           ""
          ],
          [
           ""
          ],
          [
           ""
          ],
          [
           ""
          ],
          [
           ""
          ],
          [
           ""
          ],
          [
           ""
          ],
          [
           ""
          ],
          [
           ""
          ],
          [
           ""
          ],
          [
           ""
          ],
          [
           ""
          ],
          [
           ""
          ],
          [
           ""
          ],
          [
           ""
          ],
          [
           ""
          ],
          [
           ""
          ],
          [
           ""
          ],
          [
           ""
          ],
          [
           ""
          ],
          [
           ""
          ],
          [
           ""
          ],
          [
           ""
          ],
          [
           ""
          ],
          [
           ""
          ],
          [
           ""
          ],
          [
           ""
          ],
          [
           ""
          ],
          [
           ""
          ],
          [
           ""
          ],
          [
           ""
          ],
          [
           ""
          ],
          [
           ""
          ],
          [
           ""
          ],
          [
           ""
          ],
          [
           ""
          ],
          [
           ""
          ],
          [
           ""
          ],
          [
           ""
          ],
          [
           ""
          ],
          [
           ""
          ],
          [
           ""
          ],
          [
           ""
          ],
          [
           ""
          ],
          [
           ""
          ],
          [
           ""
          ],
          [
           ""
          ],
          [
           ""
          ],
          [
           ""
          ],
          [
           ""
          ],
          [
           ""
          ],
          [
           ""
          ],
          [
           ""
          ],
          [
           ""
          ],
          [
           ""
          ],
          [
           ""
          ],
          [
           ""
          ],
          [
           ""
          ],
          [
           ""
          ],
          [
           ""
          ],
          [
           ""
          ],
          [
           ""
          ],
          [
           ""
          ],
          [
           ""
          ],
          [
           ""
          ],
          [
           ""
          ],
          [
           ""
          ],
          [
           ""
          ],
          [
           ""
          ],
          [
           ""
          ],
          [
           ""
          ],
          [
           ""
          ],
          [
           ""
          ],
          [
           ""
          ],
          [
           ""
          ],
          [
           ""
          ],
          [
           ""
          ],
          [
           ""
          ],
          [
           ""
          ],
          [
           ""
          ],
          [
           ""
          ],
          [
           ""
          ],
          [
           ""
          ],
          [
           ""
          ],
          [
           ""
          ],
          [
           ""
          ],
          [
           ""
          ],
          [
           ""
          ],
          [
           ""
          ],
          [
           ""
          ],
          [
           ""
          ],
          [
           ""
          ],
          [
           ""
          ],
          [
           ""
          ],
          [
           ""
          ],
          [
           ""
          ],
          [
           ""
          ],
          [
           ""
          ],
          [
           ""
          ],
          [
           ""
          ],
          [
           ""
          ],
          [
           ""
          ],
          [
           ""
          ],
          [
           ""
          ],
          [
           ""
          ],
          [
           ""
          ],
          [
           ""
          ],
          [
           ""
          ],
          [
           ""
          ],
          [
           ""
          ],
          [
           ""
          ],
          [
           ""
          ],
          [
           ""
          ],
          [
           ""
          ],
          [
           ""
          ],
          [
           ""
          ],
          [
           ""
          ],
          [
           ""
          ],
          [
           ""
          ],
          [
           ""
          ],
          [
           ""
          ],
          [
           ""
          ],
          [
           ""
          ],
          [
           ""
          ],
          [
           ""
          ],
          [
           ""
          ],
          [
           ""
          ],
          [
           ""
          ],
          [
           ""
          ],
          [
           ""
          ],
          [
           ""
          ],
          [
           ""
          ],
          [
           ""
          ],
          [
           ""
          ],
          [
           ""
          ],
          [
           ""
          ],
          [
           ""
          ],
          [
           ""
          ],
          [
           ""
          ],
          [
           ""
          ],
          [
           ""
          ],
          [
           ""
          ],
          [
           ""
          ],
          [
           ""
          ],
          [
           ""
          ],
          [
           ""
          ],
          [
           ""
          ],
          [
           ""
          ],
          [
           ""
          ],
          [
           ""
          ],
          [
           ""
          ],
          [
           ""
          ],
          [
           ""
          ],
          [
           ""
          ],
          [
           ""
          ],
          [
           ""
          ],
          [
           ""
          ],
          [
           ""
          ],
          [
           ""
          ],
          [
           ""
          ],
          [
           ""
          ],
          [
           ""
          ],
          [
           ""
          ],
          [
           ""
          ],
          [
           ""
          ],
          [
           ""
          ],
          [
           ""
          ],
          [
           ""
          ],
          [
           ""
          ],
          [
           ""
          ],
          [
           ""
          ],
          [
           ""
          ],
          [
           ""
          ],
          [
           ""
          ],
          [
           ""
          ]
         ],
         "hovertemplate": "<b>%{hovertext}</b><br><a href='%{customdata[0]}' target='_blank'>open article ↗</a><extra></extra>",
         "hovertext": [
          "South Carolina standout Ashlyn Watkins to take a leave of absence and miss 2025-26 season, return in 2026-27",
          "Dwyane Wade explains why James Harden made Clippers a desirable destination for Bradley Beal",
          "Yankees acquire Ryan McMahon: New York trades for Rockies third baseman to fill infield need",
          "Free MLB player props, odds for July 25: Use Shohei Ohtani, Riley Greene, Juan Soto in Friday MLB player props",
          "Raiders' Jamal Adams to switch positions as coach Pete Carroll cites 'aggressiveness, toughness' in decision",
          "Free MLB home run picks, odds, lines for July 25: Cal Raleigh among best bets for Friday HR player props",
          "Josh Allen explains how Scottie Scheffler's comments about chasing accomplishments spoke to him",
          "Travis Hunter impresses Jaguars with two-way training camp role: 'He's pretty unfazed'",
          "Free MLB picks, predictions, best bets for Friday, July 25: Back the Mets and Red Sox to pull off upsets",
          "CBS Sports - News, Live Scores, Schedules, Fantasy Games, Video and more.",
          "Vikings WR Justin Jefferson suffers hamstring strain, will be re-evaluated next week",
          "Paige Bueckers, Breanna Stewart discuss booming interest in WNBA trading cards as more names enter the market",
          "Yankees trade grades: Ryan McMahon a needed addition in the Bronx, but not the most explosive choice",
          "Commanders training camp: With Terry McLaurin holding out, other pass catchers hope to step up",
          "Today's top games to watch, best bets, odds: Yankees vs. Phillies, Mercury at Liberty and more",
          "Fantasy Baseball Week 19 Preview: Top 10 sleeper pitchers include Slade Cecconi, Joe Boyle",
          "Damian Lillard rejects 'unfair' criticism, reflects on 'unlucky' Bucks stint",
          "Back with the Packers, failed head coach Nathaniel Hackett expected to provide 'cool perspective' in new role",
          "MLB trade deadline rankings: Refreshed list of top 30 most impactful players who could move by July 31",
          "Aaron Rodgers makes drastic change at training camp to piece of equipment not recommended by NFL",
          "Valkyries star Kayla Thornton to miss the rest of the season after suffering knee injury in practice",
          "'Not my problem anymore': Baker Mayfield doesn't seem very interested in talking about the Browns",
          "Rams view Arch Manning as potential Matthew Stafford successor, top QB in 2026 class, per report",
          "Lionel Messi, Jordi Alba suspended for skipping All-Star Game: MLS Commissioner promises 'hard look' at rule",
          "LeBron James' Lakers could reunite him with a teammate from the Cavaliers' 2016 champion squad, per report",
          "Offensive lineman Justin Pugh officially retires after 11 NFL seasons as member of the New York Giants",
          "Dak Prescott wants resolution between Micah Parsons, Cowboys 'sooner rather than later'",
          "NFL fining 100 players, two dozen employees for selling Super Bowl tickets above face value at Super Bowl LIX",
          "Curry brothers teaming up? Warriors interested in signing Seth Curry, per report",
          "Commanders training camp takeaways: Von Miller leads dominant defensive effort amid Terry McLaurin holdout",
          "How to bet the Colts in 2025: Super Bowl odds, win total, props, best bets, predictions for Indianapolis",
          "Marlins vs. Brewers prediction, odds, start time: 2025 MLB picks, best bets for July 25 by proven model",
          "Mike Vrabel says Patriots will 'have a conversation' about veteran and former Raiders DL Christian Wilkins",
          "2025 NFL game-by-game predictions: Expert picks 285 games, reveals win total bets, Super Bowl futures",
          "UFC Fight Night prediction -- Robert Whittaker vs Reinier de Ridder: Fight card, odds, start time, live stream",
          "Aaron Rodgers says only 10 to 12 teams have a chance to win the Super Bowl: Let's identify them",
          "WBO orders Oleksandr Usyk vs. Joseph Parker while Turki Alalshikh eyes Usyk vs. Moses Itauma",
          "Congress introduces bill aimed at amending federal boxing regulations as TKO seeks to start promotion",
          "Trey Hendrickson is training away from Bengals; Four NBA reunions we would like to see",
          "Boxing Pound-for-Pound Rankings: Oleksandr Usyk continues to prove why he is the best of his generation",
          "Boxing schedule for 2025: Canelo Alvarez vs. Terence Crawford, Xander Zayas vs. Jorge Garcia on deck",
          "Scottie Scheffler wins The Open Championship; JC Tretter resigns from NFLPA in shocking move",
          "Manny Pacquiao vs. Mario Barrios: Results, winners, highlights, fight card, complete guide",
          "Sebastian Fundora retains junior middleweight title with TKO of Tim Tszyu in rematch",
          "Manny Pacquiao vs. Mario Barrios start time: Live stream, PPV price, undercard, where to watch, TV channel",
          "Manny Pacquiao vs. Mario Barrios fight predictions, odds, preview, undercard, expert picks, start time",
          "Manny Pacquiao vs. Mario Barrios odds, prediction, betting line, time: July 19 fight picks via boxing expert",
          "Oleksandr Usyk vs. Daniel Dubois 2: Fight card, odds, PPV price, start time, location, date, complete guide",
          "Oleksandr Usyk vs. Daniel Dubois 2 odds, prediction, line, time: July 19 fight picks by proven boxing expert",
          "Oleksandr Usyk vs. Daniel Dubois 2 fight predictions, odds, start time, undercard, preview, where to watch",
          "Boxing predictions, best bets, odds: Top picks to consider for Pacquiao vs. Barrios, Usyk vs. Dubois 2",
          "Why Manny Pacquiao believes that, even at 46, an upset could be brewing against Mario Barrios on Saturday",
          "What is left for Oleksandr Usyk at heavyweight if he beats Daniel Dubois on Saturday?",
          "Sebastian Fundora vs. Tim Tszyu, Jesse Rodriguez return among under the radar fights to watch this weekend",
          "Top storylines to watch this weekend with Manny Pacquiao's return, Oleksandr Usyk vs. Daniel Dubois 2",
          "Shakur Stevenson vs. William Zepeda results, highlights: Champion retains title with impressive performance",
          "Shakur Stevenson vs. William Zepeda fight predictions, undercard, odds, start time, expert picks, PPV price",
          "Katie Taylor vs. Amanda Serrano 3: Results, winners, highlights, fight card, date, complete guide",
          "Katie Taylor vs. Amanda Serrano 3 odds, prediction, betting line, time: July 11 fight picks by boxing expert",
          "Katie Taylor vs. Amanda Serrano 3 fight predictions, odds, undercard, start time, preview, expert picks",
          "Gervonta Davis charged with battery of ex-girlfriend on Father's Day, per police records",
          "Cooper Flagg cold in NBA summer league debut; American Amanda Anisimova reaches Wimbledon final",
          "Naoya Inoue vs. Murodjon Akhmadaliev date set as top fighters vie for undisputed title",
          "Katie Taylor vs. Amanda Serrano 3: What's at stake for the fighters and the sport of women's boxing",
          "Biggest storylines to watch in Katie Taylor vs. Amanda Serrano 3; Edgar Berlanga, Shakur Stevenson returns",
          "Boxing legend Julio César Chávez defends son amid alleged cartel ties, criminal charges in U.S. and Mexico",
          "Julio César Chávez Jr. arrested by ICE, facing deportation: Mexican boxer accused of cartel involvement",
          "Boxing news, rumors: Tyson Fury announces trilogy with Oleksandr Usyk; David Benavidez vs Anthony Yarde set",
          "Shakur Stevenson takes issue with Turki Alalshikh's crackdown on 'Tom and Jerry' fights in boxing",
          "Tyson Fury says he'd only return from retirement for Oleksandr Usyk trilogy: 'I want a fair fight'",
          "Jake Paul earns ranking from sanctioning body, can challenge for cruiserweight world title",
          "101 Days Out: College basketball stars, new faces, contenders, storylines ahead of 2025-26 season",
          "Olivier Rioux, Florida basketball's 7-foot-9 center, works out for Gators football team",
          "Florida guard Boogie Fland sidelined until September after offseason sports hernia surgery",
          "Hulk Hogan dies at 71; Raiders make stunning release; Jets escape devastating injury",
          "Kansas coach Bill Self hospitalized, undergoes heart procedure after experiencing 'concerning symptoms'",
          "NCAA Tournament expansion decision could come 'sometime this fall' as 2026 implementation grows more unlikely",
          "Predicting next coach to win first NCAA Tournament title: Duke's Jon Scheyer, Kentucky's Mark Pope among picks",
          "The Top 25 (And 1) biggest stories in men's college basketball since 2000",
          "Giants name Russell Wilson QB1; NFL Day 1 training camp takeaways; predicting MLB trade deadline deals",
          "Lack of talent in 2026 class creates unique recruiting and roster-building strategy for college programs",
          "Alijah Arenas injury: USC 5-star freshman hurts knee, expected to be sidelined for 6-8 months",
          "Texas A&M mascot Reveille X recovering after eye surgery following glaucoma diagnosis",
          "College basketball's record-setting international influx could see 'massive decrease' amid revenue-sharing",
          "President Donald Trump to sign executive order establishing national NIL standards amid evolving legislation",
          "Why Sammy Jackson, a top-70 recruit, turned down offers from every power conference to commit to VCU",
          "Not all retention is equal in college basketball: The two positions where having returning players is key",
          "Former Alabama, Wake Forest guard Davin Cosby Jr. recovering after 'serious' car accident",
          "ACC commissioner Jim Phillips announces player availability reports, tightens rules on field/court storming",
          "Jerry Jones at odds with Micah Parsons; Brewers take top spot in MLB Power Rankings",
          "How does basketball's next wave of talent measure up? Summer events forecast a relative downturn",
          "Texas A&M NIL figures nearly tripled from 2024, but highlight spending disparity between men's, women's sports",
          "Memphis' bid to join Big 12 falls short as conference leaders rebuff $200 million proposal from school",
          "As college basketball enters its most uncertain era yet, few believe the new rules will stop the flow of money",
          "AAC changes name to 'American Conference,' introduces mascot Soar as part of rebranding intiative",
          "Memphis guard and former McNeese State star Sincere Parker arrested on assault charge, per report",
          "Redrafting the 2025 NBA Draft: Derik Queen moves into top 10, Liam McNeeley makes big jump after summer league",
          "Missouri basketball recruiting: Five-star CG Jason Crowe Jr. commits to Tigers on CBS Sports HQ",
          "Duke five-star freshman Cameron Boozer says Blue Devils are 'very overlooked,' vows to change that in 2025-26",
          "Knicks SF Anton Watson at ease in summer league after going against former Gonzaga teammates",
          "Arkansas' John Calipari says if he 'can't impact' his players, this will be his last year",
          "Dribble Handoff: USC, Virginia expected to be among college basketball's most improved teams for 2025-26",
          "The Open Championship is underway; MLB trade deadline buyers, sellers; Red Sox rise in Power Rankings",
          "Memphis basketball fined, put on probation after NCAA finds softball players were paid to help with coursework",
          "College basketball recruiting: Coaches weigh in on NCAA Tournament size, intel on top prospects and more",
          "Which 68 teams make our first 2026 Bracketology, and which teams may be hoping for NCAA Tournament expansion",
          "Dylan Stewart isn't interested in hype. Just havoc",
          "Freshman phenom Bryce Underwood already has all the tools, but Michigan QB battle won't be won on paper",
          "Boo Carter in limbo at Tennessee: Altercation with teammates, agent change and more at forefront of Vols drama",
          "Purdue DB Tahj Ra-El accused of sending playbook to opposition while at Memphis, American Conference responds",
          "Michigan in 'ongoing discussions' to open 2026 season versus Western Michigan in Germany",
          "Tennessee football 2025: Win total, CFP outlook and how Volunteers can bounce back from Nico Iamaleava saga",
          "Nick Saban says there is no opportunity that would get him to return to coaching 'right now'",
          "President Donald Trump signs executive order prohibiting 'third-party, pay-for-play payments' to athletes",
          "Will Donald Trump's order on college sports have immediate impact? No, but wheels are in motion for change",
          "Greg Sankey jabs at Penn State's James Franklin, Big Ten after coach's SEC comments",
          "Putting controversial Tennessee exit to rest, Nico Iamaleava turns focus to championship aspirations at UCLA",
          "Boston College's Bill O'Brien, Thomas Castellanos trade barbs over QB's heated departure from team",
          "Michigan's Sherrone Moore not yet committing to Bryce Underwood as starting QB: 'It's an open competition'",
          "The surprising reason NC State's Dave Doeren wants to 'beat the s--- out of' East Carolina after bowl brawl",
          "Michigan's Derrick Moore dismisses Ohio State's 2024 national title: 'Not a real win if y'all ain't beat us'",
          "UCLA coach DeShaun Foster finds redemption at Big Ten Media Days by referencing viral gaffe one year earlier",
          "Steve Sarkisian details Jeremiah Smith game plan as Texas seeks repeat performance against Ohio State star",
          "Three East Carolina football players suspended after arrest in gun incident",
          "Everything Bill Belichick said at ACC Media Days: UNC coach sidesteps off-field drama, praises team growth",
          "Steelers training camp: Rookies Will Howard, Jack Sawyer see similarities between Pittsburgh and Ohio State",
          "2025 Big Ten Media Days schedule, where to watch: When coaches, teams will speak in Las Vegas",
          "Big Ten QB rankings: Drew Allar tops list, while Bryce Underwood and Dante Moore have something to prove",
          "Oregon's Dan Lanning seeks College Football Playoff schedule changes, favors Jan. 1 national championship",
          "Ohio State QB battle: Jeremiah Smith believes 'it doesn't matter' who starts, the Buckeyes offense will be OK",
          "P.J. Fleck wants Minnesota to 'be delusional' about College Football Playoff chances",
          "Missouri extends Eliah Drinkwitz through 2029, enhances assistant coaches' salary pool",
          "'Always fuel for the fire,' Dabo Swinney says after LSU's Brian Kelly dubs Clemson 'Death Valley Junior'",
          "How will Bill Belichick's debut season at North Carolina unfold? Game-by-game predictions for 2025 Tar Heels",
          "Big 12 coach rankings 2025: Deion Sanders, Kenny Dillingham among big risers as new No. 1 takes throne",
          "'We're in total control:' How Penn State's Drew Allar is embracing lofty expectations in make-or-break season",
          "2025 College football win total picks, SEC futures bets, predictions, sleepers: Top expert high on Texas, LSU",
          "Pitt's Pat Narduzzi makes cheeky prediction about North Carolina's ACC title chances: 'You got Bill Belichick'",
          "Tennessee star misses 'numerous' team activities, confronted by team leaders ahead of fall camp, per report",
          "2025 3M Open leaderboard: Adam Svensson ties course record for lead with Rickie Fowler, Max Homa in pursuit",
          "3M Open Best Bets from Inside the Lines",
          "2025 3M Open longshot picks, predictions, odds, PGA props: Parlay could return over $1 million on a $10 bet",
          "2025 3M Open TV schedule, coverage, channel, golf live stream, where to watch PGA Tour event",
          "2025 LIV Golf UK preview: TV schedule, where to watch, field of players, teams, prize money, purse",
          "2025 3M Open picks, odds, field, leaderboard: Surprising predictions by computer that's called 16 majors",
          "Today's top games to watch, best bets, odds: Yankees-Blue Jays, WNBA and more",
          "2025 3M Open props, expert picks, predictions: PGA insider high on Max Greyserman to finish in the top 10",
          "2025 LIV Golf UK odds, predictions, free betting picks: Louis Oosthuizen among top longshots to back",
          "2025 3M Open predictions, picks, odds: Emiliano Grillo among longshots to target at TPC Twin Cities",
          "Today's top games to watch, best bets, odds: WNBA marquee showdowns, MLB and more",
          "2025 3M Open predictions, picks, odds, field rankings, golf best bets for TPC Twin Cities as FedEx Cup looms",
          "Future Ryder Cup venues: 2031 event heads to Camiral as Spain welcomes competition for first time in 34 years",
          "Cumulative major leaderboards illustrate Scottie Scheffler's dominance, Rory McIlroy's stellar play in 2025",
          "2025 U.S. Ryder Cup standings: Bryson DeChambeau locked in, path clear for captain Keegan Bradley to play",
          "2025 Open Championship takeaways: Scottie Scheffler's maturity matters, Americans continue dominance in majors",
          "The Open 2025: Staying in his own world, Scottie Scheffler keeps dominating the sport, perplexing his peers",
          "What does Scottie Scheffler need for career grand slam? World No. 1 could join elite group on 30th birthday",
          "The Open 2025: Rory McIlroy falls short of home comeback but leaves Royal Portrush feeling content",
          "2025 British Open purse, prize money: Payouts for winner Scottie Scheffler, players from $17 million pool",
          "Where to watch The Open 2025: TV coverage, schedule, live stream for Rory McIlroy in Round 4 on Sunday",
          "2025 British Open TV schedule, coverage, channel, where to watch, live stream, tee times at Royal Portrush",
          "2025 British Open tee times: Complete schedule, groupings in Round 4 on Sunday at Royal Portrush",
          "2025 Open Championship odds: Surprising picks, Sunday predictions from golf model that nailed 15 majors",
          "2025 Open Championship picks, odds: Rory McIlroy leads golfers capable of catching soaring Scottie Scheffler",
          "The Open 2025: Rory McIlroy contending after strong 66, shockingly hitting two balls on one shot Saturday",
          "Where to watch The Open 2025: TV coverage, schedule, live stream for Rory McIlroy in Round 3 on Saturday",
          "Where to watch The Open 2025: TV coverage, schedule, live stream for Rory McIlroy in Round 2 on Friday",
          "2025 British Open tee times, pairings: Complete schedule, groupings in Round 3 on Saturday at Royal Portrush",
          "2025 Open Championship odds: Surprising picks, weekend predictions from golf model that nailed 15 majors",
          "2025 Open takeaways: Scottie Scheffler appears unstoppable as Rory McIlroy eyes weekend run at Royal Portrush",
          "2025 Open missed cuts: Collin Morikawa, Brooks Koepka among notables not making weekend at Royal Portrush",
          "The Open 2025: Rory McIlroy can exhale entering weekend at Royal Portrush hunting the leaders at home",
          "LOOK: MLB legend Ken Griffey Jr. working as photographer for 2025 Masters at Augusta National",
          "Why Rory McIlroy's early form legitimizes belief that Masters win, career grand slam will finally come in 2025",
          "Golf live streams: Watch live golf games, upcoming schedule",
          "Golf live streams: Watch live golf games, upcoming schedule",
          "Golf live streams: Watch live golf games, upcoming schedule",
          "2023 Masters winner Jon Rahm almost got jinxed by an NFL star, and J.J. Watt has the text receipts to prove it",
          "2022 Masters: Cam Smith's late triple-bogey ruined his green jacket contention, halved his payout",
          "2022 Masters: Rory McIlroy makes green jacket bid with Sunday record low 64 after magical hole out on 18th",
          "2022 Masters, Tiger Woods score: Steady finish to roller coaster day marks 22nd straight made cut at Augusta",
          "WATCH: Stewart Cink drops in thrilling hole-in-one on par-3 16th for first ace at Masters 2022",
          "Masters 2021: Abraham Ancer assessed two-stroke penalty after Round 1 for grazing sand before bunker shot",
          "Masters 2021: Watch as Jordan Spieth drills ball off tree, triple bogeys No. 9 after missing two putts",
          "Masters 2021 scores: Defending champion Dustin Johnson posts first over-par round at Augusta since 2018",
          "2021 Masters weather forecast: Thunderstorms, wind could affect play at Augusta National",
          "Tiger Woods at the 2020 PGA Championship: Odds, wins, news updates, highlights, pairings, tee time",
          "2020 Masters odds: PGA picks, Tiger Woods predictions from dialed-in model that nailed six majors",
          "Tiger Woods wins 2019 Masters: History, highlights and more from fifth Augusta National victory",
          "2019 Masters weather forecast: Watch for late afternoon thunderstorms on Saturday",
          "Masters 2019: What are the logos on the Rory McIlroy, Tiger Woods shirts at Augusta National?",
          "Masters 2018: Jordan Spieth's long birdie putt on No. 16 nearly caps best final round score",
          "2018 Masters tee times: Reed vs. McIlroy highlights final round pairings on Sunday",
          "2018 Masters: The Patrick Reed, Rory McIlroy showdown will captivate Augusta National",
          "Tiger Woods at the 2018 Masters: Watch live, tee time, score, news, highlights, wins",
          "2018 Masters purse, prize money: Payouts for each golfer from $11 million pool",
          "2018 Masters coverage, takeaways: Jordan Spieth hangs tough, major winners top leaderboard",
          "Masters 2018: More patient Rory McIlroy sounds mentally prepared to win at Augusta National",
          "Masters 2018: Watch Sergio Garcia hit five in water for highest score in event history",
          "2018 Masters predictions: One of these nine golfers will win at Augusta National",
          "2018 Masters: Jack Nicklaus cries 'like a baby' as grandson's ace become new No. 1 moment",
          "Masters 2018 tickets: Prices rise as Tiger Woods makes his return to Augusta National",
          "Masters 2018 odds: Complete list, Tiger Woods no longer betting favorite at Augusta",
          "Masters 2018: Mickelson, McIlroy, Spieth pay respects to Tiger Woods at Augusta",
          "Augusta National chairman announces women's amateur event prior to 2019 Masters",
          "Masters 2018: Nine things to love about the Tiger Woods-Phil Mickelson budding bromance",
          "MLB Best Home Run Bets July 25",
          "MLB DFS: Best DraftKings, FanDuel daily Fantasy baseball picks, lineups, advice for Friday, July 25, 2025",
          "Today's best MLB pitcher strikeout props: Back Padres starter against Cardinals at plus odds",
          "MLB picks: Best bets for Friday's schedule, including Cubs taking care of crosstown rival",
          "MLB trade deadline rumors: Mets add bullpen help; Red Sox eye Dodgers rookie; closer '90%' sure he'll be moved",
          "Playing GM for the Blue Jays: Three MLB trade deadline moves for Toronto, including grabbing a pair of Pirates",
          "Playing GM for the Tigers: Three trade deadline moves AL favorites should make as they eye deep October run",
          "MLB Trade Deadline Tracker: Yankees a Good Bet to Win World Series with Ryan McMahon",
          "Josh Naylor traded to Mariners: Diamondbacks send first baseman to Seattle for two pitchers",
          "MLB trade deadline rumors: Yankees check in on Oneil Cruz; Eugenio Suárez sweepstakes heat up",
          "Mariners vs. Angels prediction, odds, props, best bets: Free 2025 MLB picks for Thursday, July 24",
          "Free MLB home run picks, odds, lines for July 24: Jose Altuve among best bets for Thursday HR player props",
          "MLB Best Home Run Bets July 24",
          "Blue Jays vs. Tigers prediction, odds, start time: 2025 MLB picks, best bets for July 24 by proven model",
          "Free MLB picks, predictions, best bets for Thursday, July 24: Back the Padres to upset the Cardinals",
          "Today's top games to watch, best bets, odds: Important WNBA matchup, MLB and more",
          "Free MLB player props, odds for July 24: Use Vladimir Guerrero, Cal Raleigh in Thursday MLB player props",
          "Diamondbacks admit trade deadline sale is 'responsible' decision: Which players could be on the move?",
          "NL East odds: Best bets as Mets retake division lead over Phillies with roller coaster race far from over",
          "MacKenzie Gore trade rumors: Three reasons why the Nationals are smart to listen to offers for their ace",
          "Playing GM for the Cubs: Three MLB trade deadline moves for Chicago after losing NL Central lead",
          "MLB trade deadline: Five burning questions for buyers, sellers and everyone in between with one week left",
          "Playing GM for the Red Sox: Three MLB trade deadline moves as Boston continues to surge without Rafael Devers",
          "Batting Around: Should MLB move the trade deadline or does July 31 make sense?",
          "Orioles vs. Guardians prediction, odds, start time: 2025 MLB picks, best bets for July 24 by proven model",
          "Playing GM for the Dodgers: Three trade deadline moves for reigning champions looking for World Series repeat",
          "UFC Fight Night odds, props, predictions, fight card: Whittaker vs. De Ridder picks, bets from proven expert",
          "UFC veteran Ben Askren leaves hospital after double lung transplant: 'That was a long journey'",
          "UFC 321 fight card: Tom Aspinall to make first title defense against Ciryl Gane in Abu Dhabi",
          "UFC 320 fight card: Alex Pereira, Merab Dvalishvili to headline October PPV in Las Vegas in separate fights",
          "UFC 319 -- Dricus du Plessis vs. Khamzat Chimaev: Fight card, date, odds, location, rumors, complete guide",
          "Jon Jones 'ready for whatever comes next' after Dana White shoots down his inclusion for UFC White House card",
          "2025 UFC event schedule: Robert Whittaker vs. Reinier de Ridder, Dricus du Plessis vs. Khamzat Chimaev on tap",
          "UFC 318 -- Dustin Poirier vs. Max Holloway 3: Results, winners, highlights, fight card, complete guide",
          "UFC 318 odds, props, predictions, fight card: Holloway vs. Poirier 3 picks, bets from proven MMA expert",
          "UFC 318 odds, lines, New Orleans predictions, time: Holloway vs. Poirier 3 picks from expert who's up $21,000",
          "UFC 318 predictions -- Dustin Poirier vs. Max Holloway 3: Fight card, odds, prelims, preview, expert picks",
          "Today's top games to watch, best bets, odds: MLB, WNBA All-Star Game, UFC and more",
          "Dustin Poirier gets to walk off into the sunset as one of MMA's rare good guys: 'I'm just living my life'",
          "Dustin Poirier retirement: Islam Makhachev, Justin Gaethje and more remember legacy of 'The Diamond'",
          "Sean Strickland suspended by Nevada Athletic Commission after attacking regional fighter",
          "Former UFC fighter Diego Sanchez arrested for felony gun charge after shooting",
          "Today's top games to watch, best bets, odds: MLB returns with full slate, WNBA All-Star activities and more",
          "UFC legend Randy Couture released from burn center after serious car crash while training for NHRA debut",
          "UFC 318 fight card: Paulo Costa vs. Roman Kopylov among top undercard fights to watch this weekend",
          "UFC 318 fight card -- Dustin Poirier vs. Max Holloway 3: Five biggest storylines to watch for in New Orleans",
          "UFC Fight Night results, highlights: Derrick Lewis batters Tallison Teixeira for first-round knockout",
          "UFC Fight Night odds, lines, Nashville predictions, time: Lewis vs. Teixeira picks by proven MMA expert",
          "UFC Fight Night prediction -- Derrick Lewis vs. Tallison Teixeira: Card, start time, odds, where to watch",
          "Today's top games to watch, best bets, odds: Phillies vs. Padres leads MLB action, UFC Fight Night and more",
          "UFC star Jon Jones faces additional criminal charges stemming from February car accident, per report",
          "Ben Askren shares health update after pneumonia, double lung transplant: 'I only died four times'",
          "UFC legend Randy Couture airlifted to burn center after car crash",
          "UFC confirms President Donald Trump's plans for White House fight card; Conor McGregor says 'count me in'",
          "UFC Pound-for-Pound Fighter Rankings: Ilia Topuria passes Islam Makhachev for top spot; Jon Jones removed",
          "Former UFC fighter Ben Askren undergoes double lung transplant after pneumonia hospitalization",
          "Spurs' Dylan Harper could make De'Aaron Fox expendable, per report",
          "Resetting the NBA offseason: Best free agents remaining, plus extension-eligible players and trade candidates",
          "Best fits for biggest names in NBA free agency: Ben Simmons to Knicks, Jonathan Kuminga leaves Warriors, more",
          "NBA stars realign as Michael Jordan, Carmelo Anthony lead names moving into media roles amid new TV deals",
          "Jonathan Kuminga in no hurry to re-sign with Warriors, won't accept Golden State's current deal, per report",
          "Suns' Jalen Green addresses Rockets departure after Kevin Durant trade, says Phoenix 'wants me to be me'",
          "Tyrese Haliburton wanted to walk off court like Kobe Bryant after tearing Achilles in NBA Finals",
          "Kyrie Irving reflects on time with Nets: Loyalty to Kevin Durant, lack of due diligence defined short stint",
          "Which NBA stars are playing in EuroBasket 2025? Luka Dončić, Giannis are in, Victor Wembanyama is out",
          "Nebraska QB Dylan Raiola likens relationship with Patrick Mahomes to that of Kobe Bryant, Michael Jordan",
          "Lance Stephenson regrets blowing in LeBron James' ear, and his hysterical story explains why",
          "Nuggets' Nikola Jokic agrees to grant rookie Yang Hansen's special request on one condition",
          "Four NBA reunions we'd like to see: LeBron James takes talents to South Beach, Kevin Durant returns to Thunder",
          "How Bradley Beal welcomed Chris Paul to Clippers with gracious gesture",
          "Lakers' Marcus Smart gives nod to Luka Dončić's recruiting skills for bringing him to L.A.: 'That meant a lot'",
          "Tyrese Haliburton received visit from Kevin Durant as he tries 'to get my mental right' amid Achilles recovery",
          "NBA summer league: Jazz forward Kyle Filipowski earns MVP honors after shining in Las Vegas",
          "Clippers' Chris Paul could sit behind James Harden, Kris Dunn with no playing time guarantees, per report",
          "Kyrie Irving questions whether NBA contracts should be public information: 'It could get a little intrusive'",
          "NBA front office rankings: OKC on top, Lakers and Mavericks low on list, new team falls behind Bulls at No. 30",
          "Celtics, Knicks, Suns among teams interested in Ben Simmons, per report",
          "NBA summer league: Five non-rookies who look ready for potential breakout seasons",
          "LeBron James 'had eyes' for Mavericks before picking up Lakers option, per report",
          "How the Clippers, who keep getting deeper, better and older, are zagging in youth-focused NBA",
          "Damian Lillard reflects on emotional reunion with Trail Blazers after Bucks release: 'Found my way back home'",
          "2025 NBA free agency tracker: Latest moves, player rankings as Chris Paul returns to Clippers",
          "Clippers continue to ace offseason as Chris Paul's homecoming rounds out roster",
          "NBA Las Vegas Summer League winners and losers: Yang Hansen turns heads, Lakers' Dalton Knecht struggles",
          "Steelers sign Chuck Clark: Pittsburgh acquires veteran safety, former Raven during Day 2 of training camp",
          "Browns QB battle: Shedeur Sanders accepts underdog role even with limited first-team reps at training camp",
          "'We're not defending s---': The Eagles are reigning Super Bowl champions, but you wouldn't know it",
          "Raiders make surprising release that will lead to $35.2 million battle, plus takeaways from training camp",
          "Cleveland Browns QB Shedeur Sanders on speeding tickets: 'I really don't even drive like that much anymore'",
          "Best shape of his life? For 330-pound Jordan Davis, who weaned off liquid calories, this camp cliche is true",
          "Jordan Hicks, veteran linebacker and 2017 Eagles Super Bowl champion, retires after 10 NFL seasons",
          "2025 NFL jersey tracker: Here are all of the teams getting a new helmet or uniform for the upcoming season",
          "Justin Fields injury: Jets QB returns to practice one day after suffering dislocated toe",
          "Buccaneers GM Jason Licht wants to extend quarterback Baker Mayfield when 'the time is right'",
          "2025 NFL training camp takeaways: Chiefs adding needed wrinkle to offense, Kyle Pitts back in Falcons' plans",
          "Jared Verse explains why working out with Rams legend Aaron Donald made him want to 'call the police'",
          "Explaining Christian Wilkins' Raiders release: What happened, how do the finances work, and what's next?",
          "Raiders release Christian Wilkins: Franchise reportedly voiding DT's contract amid dispute over foot injury",
          "Steelers training camp: Aaron Rodgers shrugs off rocky first practice; 'Good to get that out of the way'",
          "Predicting Eagles 53-man roster, depth chart after first two days of training camp",
          "Michael Penix Jr. says Falcons' offense 'should be the best in the league ... unstoppable'",
          "Browns GM Andrew Berry addresses Shedeur Sanders' speeding violations: 'Just not smart'",
          "Hockey Canada trial verdict: Five junior team players found not guilty in 2018 encounter",
          "LOOK: Oilers stars Connor McDavid, Leon Draisaitl suit up in beer league game",
          "Goaltender Jaroslav Halak retires after 17 years in the NHL, two years removed from last game",
          "NHL schedule release: Ranking the 10 most anticipated games of the 2025-26 season",
          "2025-26 NHL schedule release: Panthers to raise Stanley Cup banner vs. Blackhawks on opening night",
          "NHL free agency tracker: Bowen Byram re-signs with Sabres amidst trade speculation",
          "Mario Lemieux-led ownership group is 'very interested' in buying back the Penguins, per report",
          "WATCH: NHL legend Joe Pavelski seals American Century Championship win with walk-off eagle putt",
          "NHL offseason grades: Panthers conduct masterclass, Golden Knights swing for fences",
          "Gavin McKenna, projected No. 1 pick in 2026 NHL Draft, commits to play at Penn State in 2025-26",
          "Paolo Banchero gets paid; why the NCAA Tournament field should stay at 68; Wimbledon shocker",
          "2026 Stanley Cup odds: Panthers project as favorites again, Mitch Marner makes Golden Knights attractive",
          "NHL Power Rankings: Reigning champion Panthers remain team to beat after draft, free agency",
          "IIHF finalizes agreement for NHL players to compete in Olympics for the first time in 12 years, what it means",
          "NHL free agency: Connor McDavid, Jack Eichel among superstars who could hit the market in 2026",
          "K'Andre Miller trade grades: Hurricanes banking on return to form from star defenseman after deal with Rangers",
          "NHL coaching carousel 2025: Stars hire Glen Gulutzan to replace Peter DeBoer",
          "Mitch Marner trade: How Maple Leafs can replace void left by star winger",
          "Noah Dobson trade: Canadiens earn high marks in deal for star defenseman from Islanders",
          "2025 NHL Draft props: Best bets, odds for top-five selections",
          "NHL free agency 2025 predictions: Top 10 players set to hit the open market and their projected landing spots",
          "JJ Peterka trade grades: Mammoth add dynamic young scorer, Sabres bet big on Michael Kesselring",
          "NHL trade rumors: Jason Robertson, Marco Rossi among notable players who could be dealt at 2025 NHL Draft",
          "NHL considering 84-game season in CBA negotiations, per report",
          "Hockey Hall of Fame class of 2025: Zdeno Chara, Joe Thornton headline this year's inductees",
          "Trevor Zegras traded to Flyers: Grades for Philadelphia, Anaheim Ducks with deal made just before NHL Draft",
          "NHL free agency 2025: Five best landing spots for Mitch Marner, the most coveted player available",
          "Jonathan Toews to sign with Jets: Longtime Blackhawks star, Stanley Cup winner attempting comeback",
          "Buss family sells Lakers to Mark Walter for record $10 billion valuation; Top 100 prospects for NBA Draft",
          "After another Stanley Cup Final loss, how can Oilers finally get over the hump and end Canada's Cup drought?",
          "Panthers have transformed 'culture' from cliché into catalyst behind back-to-back Stanley Cup runs",
          "Panthers celebrate second straight Stanley Cup championship with epic outing at Fort Lauderdale bar",
          "Connor McDavid says Oilers 'banging our heads against the wall' after second straight Stanley Cup Final loss",
          "Liverpool vs. Milan prediction, where to watch, live stream: TV channel, start time for preseason friendly",
          "Worst transfers in USMNT history: Which moves backfired for U.S. Soccer's stars seeking bigger opportunities?",
          "Ranking all the 2025-26 Serie A managers: Antonio Conte at the top, Massimiliano Allegri, Maurizio Sarri, more",
          "How Evander's 'magic' powers FC Cincinnati: 'When you come from Brazil, there are a lot of expectations'",
          "England, Spain renew rivalry in Sunday's Women's Euro final; Preseason underway for Liverpool, Arsenal, Milan",
          "Five transfers you may have missed during Club World Cup: Real Madrid, Chelsea, Atletico make summer moves",
          "Alexander Isak to Liverpool? Newcastle United star reportedly wants to leave as he misses preseason tour",
          "How Hugo Ekitike fits in at Liverpool: PSG castoff fills striker need as Arne Slot and company go all in",
          "Spain into Women's Euro final after edging Germany: Here's what England must do to stop World Cup champs",
          "2025 MLS All-Star Game prediction, odds, start time: MLS vs. Liga MX picks from proven soccer expert",
          "Germany vs. Spain prediction, odds, start time: 2025 UEFA Women's Euro semifinal picks for Wednesday, July 23",
          "MLS All-Stars vs. Liga MX All-Stars, where to watch, live stream: Lionel Messi not named to final roster",
          "Arsenal's friendly vs. Milan shows why Viktor Gyokeres could be the Gunners' missing piece",
          "England stage another late comeback to reach Women's Euro finals; Spain and Germany meet Wednesday in semis",
          "Spain vs. Germany live stream: Where to watch UEFA women's Euro semifinal, prediction, odds, pick",
          "Where to watch Arsenal vs. Milan: Mikel Arteta concerned about squad depth; Massimo Allegri targets UCL",
          "As England advance to Euro 2025 final, Sarina Wiegman and Lionesses must stop playing with fire",
          "USMNT 2026 World Cup roster projection: Christian Pulisic is in, but some familiar faces may be in big trouble",
          "England vs. Italy live stream: Where to watch Women's Euro semifinals, odds, prediction, pick, lineups",
          "England vs. Italy prediction, odds, start time: 2025 UEFA Women's Euro semifinal picks for Tuesday, July 22",
          "Thomas Muller explains why World Cup glory with Germany was sweetest of his many career trophies",
          "Manchester United Keep or Sell: Can Ruben Amorim's side rebuild before the end of the transfer window?",
          "Barcelona's stadium drama explained: Camp Nou returned delayed yet again over permitting issues",
          "Four players to watch in UEFA Women's Euro semifinals: England's Lauren James, Spain's Claudia Pina and more",
          "England soccer star Paul Gascoigne reportedly out of hospital after early morning collapse",
          "Women's Euros hits semifinals as England face underdogs side Italy with winner of Germany vs. Spain looming",
          "UEFA Women's Euro semifinals schedule: England, Spain, Germany, Italy faceoff in semis ahead of Sunday final",
          "USWNT storylines for 2025: Fresh faces, veterans to battle for playing time under Emma Hayes?",
          "Ranking Women's Euro semifinalists: World Cup winners Spain lead the pack, Italy punch above weight",
          "Ranking potential Euro 2025 finals: England, Spain, Germany and Italy provide thrilling possibilities",
          "Inter Miami vs. New York Red Bulls prediction, odds: Free MLS picks, Messi bets for July 19 by soccer expert",
          "Arsenal all in with huge transfer window; Will USMNT's Gio Reyna go to Serie A as he looks for Dortmund exit?",
          "USL Jagermeister Cup draw: How to watch the quarterfinal draw, everything to know about the competition",
          "Inside Arsenal's aggressive transfer window: Shrewd moves, big-money transfers have Gunners going all in",
          "Venus Williams vs. Magdalena Frech odds, prediction, start time: Expert releases free 2025 Citi DC Open picks",
          "Tennis legend Venus Williams wins first singles match since 2023, delivers nine aces",
          "Revisiting Serena Williams vs. Venus Williams: Here's who has the edge in the legendary sibling rivalry",
          "Venus Williams vs. Peyton Stearns odds, prediction, start time: Expert releases free 2025 Citi DC Open picks",
          "A Serena Williams comeback? Sister Venus Williams won't rule it out amid her own return to tennis court at 45",
          "Jannik Sinner becomes first Italian man to win Wimbledon; PSG's loses ugly in FIFA Club World Cup final",
          "Jannik Sinner takes Wimbledon: The winning formula to oust Carlos Alcaraz after French Open collapse",
          "2025 Wimbledon prize money, payouts: Jannik Sinner, Iga Swiatek earn more than $4 million for wins in London",
          "2025 Wimbledon men's final odds, predictions, time: Sinner vs. Alcaraz picks, bets from proven tennis expert",
          "Wimbledon 2025 results: Iga Świątek makes history vs. Amanda Anisimova with 6-0, 6-0 win for sixth major",
          "Meet Amanda Anisimova, America's best shot at a Wimbledon championship since Serena Williams",
          "Swiatek vs. Anisimova odds, prediction, props, time: Expert reveals free 2025 Wimbledon women's final picks",
          "Venus Williams accepts wild-card invitation to play in DC Open, ex-world No. 1's first event in over a year",
          "2025 Wimbledon results: Jannik Sinner dominates hobbled Novak Djokovic, sets up final with Carlos Alcaraz",
          "Wimbledon 2025 results: Carlos Alcaraz takes down top American Taylor Fritz to reach third straight final",
          "2025 Wimbledon men's semifinal odds, predictions, time: Djokovic vs. Sinner picks from proven tennis expert",
          "Carlos Alcaraz vs. Taylor Fritz odds, prediction, props: Expert reveals free 2025 Wimbledon semifinal picks",
          "Wimbledon 2025 -- Men's semifinals: Schedule, start time, matches, odds, where to watch, live stream",
          "Wimbledon 2025 results: Amanda Anisimova upsets No. 1 Aryna Sabalenka to reach first Grand Slam final",
          "Novak Djokovic injury update: Serbian star cancels pre-semifinal practice at Wimbledon after 'nasty slip'",
          "2025 Wimbledon women's semifinal odds, predictions, time: Swiatek vs. Bencic picks from proven tennis expert",
          "Aryna Sabalenka vs. Amanda Anisimova odds, prediction: Expert reveals free 2025 Wimbledon semifinal picks",
          "Wimbledon 2025 results, takeaways: Jannik Sinner outclasses American Ben Shelton to reach semifinals",
          "Caitlin Clark to return from injury; our 2025 college football Hot Seat Rankings; NFL All-Quarter Century Team",
          "Novak Djokovic vs. Flavio Cobolli odds, prediction: Expert reveals free 2025 Wimbledon quarterfinal picks",
          "Aryna Sabalenka vs. Laura Siegemund odds, prediction: Expert reveals free 2025 Wimbledon quarterfinal picks",
          "Wimbledon 2025 results: Jannik Sinner advances to quarterfinals after injury forces Grigor Dimitrov to retire",
          "2025 Wimbledon picks, odds for July 6: Expert reveals free Sunday tennis bets, upsets, predictions",
          "2025 Wimbledon picks, odds for July 5: Expert reveals free Saturday tennis bets, upsets, predictions",
          "2025 Wimbledon picks, odds for July 4: Expert reveals free Friday tennis bets, upsets, predictions",
          "Wimbledon 2025 results: Taylor Fritz, Madison Keys among remaining Americans after sluggish opening rounds",
          "2025 Wimbledon picks, odds for July 3: Expert reveals free Thursday tennis bets, upsets, predictions",
          "Why Damian Lillard is big winner after Bucks release; Fever claim Commissioner's Cup without Caitlin Clark",
          "Coco Gauff blames early Wimbledon exit on being 'mentally overwhelmed' after French Open title",
          "Dwayne 'The Rock' Johnson pays tribute to Hulk Hogan after legend's death: 'Thank you for the house, brother'",
          "Pro wrestling's greatest star, Hulk Hogan leaves indelible yet complicated legacy behind",
          "Hulk Hogan dies at 71: Vince McMahon, Ric Flair, Triple H, Jake Roberts and more mourn death of WWE icon",
          "Hulk Hogan dies at 71: Most famous professional wrestler in history suffers cardiac arrest at home in Florida",
          "Hulk Hogan dies at 71: Remembering the iconic wrestler's five biggest in-ring moments over storied career",
          "Bianca Belair offers uncertain finger injury update ahead of WWE SummerSlam: 'We might have time'",
          "WATCH: WWE star AJ Styles makes highly anticipated TNA return at Slammiversary",
          "2025 WWE SummerSlam card, date, matches, rumors, match card, predictions, start time, location",
          "Paul Heyman reflects on legacy of Bray Wyatt, the wrestler who 'made us all look bad' before unexpected death",
          "Seth Rollins injury: Paul Heyman reacts after WWE Saturday Night's Main Event setback",
          "Jelly Roll chokeslams Logan Paul through desk on 'Jimmy Kimmel Live!'",
          "Seth Rollins injury update: 'Extended' absence expected after awkward landing at Saturday Night's Main Event",
          "Goldberg expresses frustration with WWE's handling of final match, farewell speech: 'You don't do that'",
          "WWE schedule, list of PPV events for 2025: SummerSlam date, location, start time, where to watch",
          "WWE Evolution 2025 predictions, start time, date, card, matches, where to watch, location, expert picks",
          "WATCH: George Kittle delivers 'sweet chin music' on The Miz during American Century Golf Championship",
          "2025 WWE Evolution card, date, matches, match card, start time, rumors, location, where to watch",
          "Raquel Rodriguez heeds critiques of Kevin Nash before WWE Evolution: 'I fully take that to heart'",
          "Goldberg says only Bron Breakker should use the spear in WWE: 'That's the truth'",
          "2025 WWE Saturday Night's Main Event card, date, matches, rumors, card, start time, match card, location",
          "WWE Saturday Night's Main Event 2025 predictions, start time, card, date, where to watch, matches, location",
          "Inside Goldberg's 'tumultuous' week: Lead-up to WWE retirement vs. Gunther hampered by tragedy, injury",
          "2025 WWE Night of Champions start time, live stream, where to watch online, card, matches",
          "2025 WWE Night of Champions card, date, matches, latest news, location, rumors, match card, latest news",
          "WWE Night of Champions 2025 predictions, expert picks, card, matches, start time, PPV preview, location, date",
          "Mark Henry embraces WWE's 'nepo babies' as second generation stars emerge: 'Why would you not emphasize it?'",
          "Kevin Owens experiencing 'brutal' neck, spinal cord injury symptoms, targets summer surgery",
          "49ers star George Kittle 'would love to' join WWE in some capacity once he retires from NFL",
          "Undertaker confirms talks to join WWE creative team, wife Michelle McCool becomes fellow 'WWE LFG' coach",
          "WWE news, rumors: Liv Morgan suffers apparent shoulder injury, Goldberg returns on Raw to confront Gunther",
          "Logan Paul says John Cena warned him against performing dangerous move at WWE Money in the Bank",
          "Mya Lesnar, daughter of WWE and UFC star Brock Lesnar, wins NCAA national title for shot put",
          "Watch as WWE champion Tiffany Stratton becomes latest entry to infamous ceremonial first pitch list",
          "WWE WrestleMania 42 location: Promotion announces return to Las Vegas for second straight year",
          "How to bet the Texans in 2025: Super Bowl odds, win total, props, best bets, predictions for Houston",
          "Kansas City Chiefs betting preview: 5 hot takes for 2025 NFL season include gaudy numbers for Mahomes, Kelce",
          "Dallas Cowboys betting preview: Five hot takes for the 2025 NFL season, including two award winners",
          "How to bet the Browns in 2025: Super Bowl odds, win total, props, best bets for Cleveland",
          "How to bet Steelers in 2025: Super Bowl odds, win total, props, best bets, predictions for Pittsburgh",
          "2025 CFL picks, betting odds, predictions: Proven expert reveals predictions for every game on Week 8 schedule",
          "Super Bowl 60 picks, futures bets, predictions, sleepers: Top rated NFL expert high on Ravens, Lions, Steelers",
          "Today's best MLB pitcher strikeout props: Back Orioles starter against Guardians at plus odds",
          "Dodgers vs. Twins prediction, odds, props, best bets: Free 2025 MLB picks for Wednesday, July 23",
          "How to bet the Bengals in 2025: Super Bowl odds, win total, props, best bets for Cincinnati",
          "How to bet on the Ravens in 2025: Super Bowl odds, win total, props, best bets for Baltimore",
          "Free MLB picks, predictions, best bets for Wednesday, July 23: Back the Twins to upset the Dodgers"
         ],
         "legendgroup": "",
         "marker": {
          "color": "#636efa",
          "opacity": 0.8,
          "size": 10,
          "symbol": "circle"
         },
         "mode": "markers",
         "name": "",
         "orientation": "v",
         "showlegend": false,
         "type": "scatter",
         "x": {
          "bdata": "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",
          "dtype": "f4"
         },
         "xaxis": "x",
         "y": {
          "bdata": "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",
          "dtype": "f4"
         },
         "yaxis": "y"
        }
       ],
       "layout": {
        "legend": {
         "tracegroupgap": 0
        },
        "template": {
         "data": {
          "bar": [
           {
            "error_x": {
             "color": "#2a3f5f"
            },
            "error_y": {
             "color": "#2a3f5f"
            },
            "marker": {
             "line": {
              "color": "#E5ECF6",
              "width": 0.5
             },
             "pattern": {
              "fillmode": "overlay",
              "size": 10,
              "solidity": 0.2
             }
            },
            "type": "bar"
           }
          ],
          "barpolar": [
           {
            "marker": {
             "line": {
              "color": "#E5ECF6",
              "width": 0.5
             },
             "pattern": {
              "fillmode": "overlay",
              "size": 10,
              "solidity": 0.2
             }
            },
            "type": "barpolar"
           }
          ],
          "carpet": [
           {
            "aaxis": {
             "endlinecolor": "#2a3f5f",
             "gridcolor": "white",
             "linecolor": "white",
             "minorgridcolor": "white",
             "startlinecolor": "#2a3f5f"
            },
            "baxis": {
             "endlinecolor": "#2a3f5f",
             "gridcolor": "white",
             "linecolor": "white",
             "minorgridcolor": "white",
             "startlinecolor": "#2a3f5f"
            },
            "type": "carpet"
           }
          ],
          "choropleth": [
           {
            "colorbar": {
             "outlinewidth": 0,
             "ticks": ""
            },
            "type": "choropleth"
           }
          ],
          "contour": [
           {
            "colorbar": {
             "outlinewidth": 0,
             "ticks": ""
            },
            "colorscale": [
             [
              0,
              "#0d0887"
             ],
             [
              0.1111111111111111,
              "#46039f"
             ],
             [
              0.2222222222222222,
              "#7201a8"
             ],
             [
              0.3333333333333333,
              "#9c179e"
             ],
             [
              0.4444444444444444,
              "#bd3786"
             ],
             [
              0.5555555555555556,
              "#d8576b"
             ],
             [
              0.6666666666666666,
              "#ed7953"
             ],
             [
              0.7777777777777778,
              "#fb9f3a"
             ],
             [
              0.8888888888888888,
              "#fdca26"
             ],
             [
              1,
              "#f0f921"
             ]
            ],
            "type": "contour"
           }
          ],
          "contourcarpet": [
           {
            "colorbar": {
             "outlinewidth": 0,
             "ticks": ""
            },
            "type": "contourcarpet"
           }
          ],
          "heatmap": [
           {
            "colorbar": {
             "outlinewidth": 0,
             "ticks": ""
            },
            "colorscale": [
             [
              0,
              "#0d0887"
             ],
             [
              0.1111111111111111,
              "#46039f"
             ],
             [
              0.2222222222222222,
              "#7201a8"
             ],
             [
              0.3333333333333333,
              "#9c179e"
             ],
             [
              0.4444444444444444,
              "#bd3786"
             ],
             [
              0.5555555555555556,
              "#d8576b"
             ],
             [
              0.6666666666666666,
              "#ed7953"
             ],
             [
              0.7777777777777778,
              "#fb9f3a"
             ],
             [
              0.8888888888888888,
              "#fdca26"
             ],
             [
              1,
              "#f0f921"
             ]
            ],
            "type": "heatmap"
           }
          ],
          "histogram": [
           {
            "marker": {
             "pattern": {
              "fillmode": "overlay",
              "size": 10,
              "solidity": 0.2
             }
            },
            "type": "histogram"
           }
          ],
          "histogram2d": [
           {
            "colorbar": {
             "outlinewidth": 0,
             "ticks": ""
            },
            "colorscale": [
             [
              0,
              "#0d0887"
             ],
             [
              0.1111111111111111,
              "#46039f"
             ],
             [
              0.2222222222222222,
              "#7201a8"
             ],
             [
              0.3333333333333333,
              "#9c179e"
             ],
             [
              0.4444444444444444,
              "#bd3786"
             ],
             [
              0.5555555555555556,
              "#d8576b"
             ],
             [
              0.6666666666666666,
              "#ed7953"
             ],
             [
              0.7777777777777778,
              "#fb9f3a"
             ],
             [
              0.8888888888888888,
              "#fdca26"
             ],
             [
              1,
              "#f0f921"
             ]
            ],
            "type": "histogram2d"
           }
          ],
          "histogram2dcontour": [
           {
            "colorbar": {
             "outlinewidth": 0,
             "ticks": ""
            },
            "colorscale": [
             [
              0,
              "#0d0887"
             ],
             [
              0.1111111111111111,
              "#46039f"
             ],
             [
              0.2222222222222222,
              "#7201a8"
             ],
             [
              0.3333333333333333,
              "#9c179e"
             ],
             [
              0.4444444444444444,
              "#bd3786"
             ],
             [
              0.5555555555555556,
              "#d8576b"
             ],
             [
              0.6666666666666666,
              "#ed7953"
             ],
             [
              0.7777777777777778,
              "#fb9f3a"
             ],
             [
              0.8888888888888888,
              "#fdca26"
             ],
             [
              1,
              "#f0f921"
             ]
            ],
            "type": "histogram2dcontour"
           }
          ],
          "mesh3d": [
           {
            "colorbar": {
             "outlinewidth": 0,
             "ticks": ""
            },
            "type": "mesh3d"
           }
          ],
          "parcoords": [
           {
            "line": {
             "colorbar": {
              "outlinewidth": 0,
              "ticks": ""
             }
            },
            "type": "parcoords"
           }
          ],
          "pie": [
           {
            "automargin": true,
            "type": "pie"
           }
          ],
          "scatter": [
           {
            "fillpattern": {
             "fillmode": "overlay",
             "size": 10,
             "solidity": 0.2
            },
            "type": "scatter"
           }
          ],
          "scatter3d": [
           {
            "line": {
             "colorbar": {
              "outlinewidth": 0,
              "ticks": ""
             }
            },
            "marker": {
             "colorbar": {
              "outlinewidth": 0,
              "ticks": ""
             }
            },
            "type": "scatter3d"
           }
          ],
          "scattercarpet": [
           {
            "marker": {
             "colorbar": {
              "outlinewidth": 0,
              "ticks": ""
             }
            },
            "type": "scattercarpet"
           }
          ],
          "scattergeo": [
           {
            "marker": {
             "colorbar": {
              "outlinewidth": 0,
              "ticks": ""
             }
            },
            "type": "scattergeo"
           }
          ],
          "scattergl": [
           {
            "marker": {
             "colorbar": {
              "outlinewidth": 0,
              "ticks": ""
             }
            },
            "type": "scattergl"
           }
          ],
          "scattermap": [
           {
            "marker": {
             "colorbar": {
              "outlinewidth": 0,
              "ticks": ""
             }
            },
            "type": "scattermap"
           }
          ],
          "scattermapbox": [
           {
            "marker": {
             "colorbar": {
              "outlinewidth": 0,
              "ticks": ""
             }
            },
            "type": "scattermapbox"
           }
          ],
          "scatterpolar": [
           {
            "marker": {
             "colorbar": {
              "outlinewidth": 0,
              "ticks": ""
             }
            },
            "type": "scatterpolar"
           }
          ],
          "scatterpolargl": [
           {
            "marker": {
             "colorbar": {
              "outlinewidth": 0,
              "ticks": ""
             }
            },
            "type": "scatterpolargl"
           }
          ],
          "scatterternary": [
           {
            "marker": {
             "colorbar": {
              "outlinewidth": 0,
              "ticks": ""
             }
            },
            "type": "scatterternary"
           }
          ],
          "surface": [
           {
            "colorbar": {
             "outlinewidth": 0,
             "ticks": ""
            },
            "colorscale": [
             [
              0,
              "#0d0887"
             ],
             [
              0.1111111111111111,
              "#46039f"
             ],
             [
              0.2222222222222222,
              "#7201a8"
             ],
             [
              0.3333333333333333,
              "#9c179e"
             ],
             [
              0.4444444444444444,
              "#bd3786"
             ],
             [
              0.5555555555555556,
              "#d8576b"
             ],
             [
              0.6666666666666666,
              "#ed7953"
             ],
             [
              0.7777777777777778,
              "#fb9f3a"
             ],
             [
              0.8888888888888888,
              "#fdca26"
             ],
             [
              1,
              "#f0f921"
             ]
            ],
            "type": "surface"
           }
          ],
          "table": [
           {
            "cells": {
             "fill": {
              "color": "#EBF0F8"
             },
             "line": {
              "color": "white"
             }
            },
            "header": {
             "fill": {
              "color": "#C8D4E3"
             },
             "line": {
              "color": "white"
             }
            },
            "type": "table"
           }
          ]
         },
         "layout": {
          "annotationdefaults": {
           "arrowcolor": "#2a3f5f",
           "arrowhead": 0,
           "arrowwidth": 1
          },
          "autotypenumbers": "strict",
          "coloraxis": {
           "colorbar": {
            "outlinewidth": 0,
            "ticks": ""
           }
          },
          "colorscale": {
           "diverging": [
            [
             0,
             "#8e0152"
            ],
            [
             0.1,
             "#c51b7d"
            ],
            [
             0.2,
             "#de77ae"
            ],
            [
             0.3,
             "#f1b6da"
            ],
            [
             0.4,
             "#fde0ef"
            ],
            [
             0.5,
             "#f7f7f7"
            ],
            [
             0.6,
             "#e6f5d0"
            ],
            [
             0.7,
             "#b8e186"
            ],
            [
             0.8,
             "#7fbc41"
            ],
            [
             0.9,
             "#4d9221"
            ],
            [
             1,
             "#276419"
            ]
           ],
           "sequential": [
            [
             0,
             "#0d0887"
            ],
            [
             0.1111111111111111,
             "#46039f"
            ],
            [
             0.2222222222222222,
             "#7201a8"
            ],
            [
             0.3333333333333333,
             "#9c179e"
            ],
            [
             0.4444444444444444,
             "#bd3786"
            ],
            [
             0.5555555555555556,
             "#d8576b"
            ],
            [
             0.6666666666666666,
             "#ed7953"
            ],
            [
             0.7777777777777778,
             "#fb9f3a"
            ],
            [
             0.8888888888888888,
             "#fdca26"
            ],
            [
             1,
             "#f0f921"
            ]
           ],
           "sequentialminus": [
            [
             0,
             "#0d0887"
            ],
            [
             0.1111111111111111,
             "#46039f"
            ],
            [
             0.2222222222222222,
             "#7201a8"
            ],
            [
             0.3333333333333333,
             "#9c179e"
            ],
            [
             0.4444444444444444,
             "#bd3786"
            ],
            [
             0.5555555555555556,
             "#d8576b"
            ],
            [
             0.6666666666666666,
             "#ed7953"
            ],
            [
             0.7777777777777778,
             "#fb9f3a"
            ],
            [
             0.8888888888888888,
             "#fdca26"
            ],
            [
             1,
             "#f0f921"
            ]
           ]
          },
          "colorway": [
           "#636efa",
           "#EF553B",
           "#00cc96",
           "#ab63fa",
           "#FFA15A",
           "#19d3f3",
           "#FF6692",
           "#B6E880",
           "#FF97FF",
           "#FECB52"
          ],
          "font": {
           "color": "#2a3f5f"
          },
          "geo": {
           "bgcolor": "white",
           "lakecolor": "white",
           "landcolor": "#E5ECF6",
           "showlakes": true,
           "showland": true,
           "subunitcolor": "white"
          },
          "hoverlabel": {
           "align": "left"
          },
          "hovermode": "closest",
          "mapbox": {
           "style": "light"
          },
          "paper_bgcolor": "white",
          "plot_bgcolor": "#E5ECF6",
          "polar": {
           "angularaxis": {
            "gridcolor": "white",
            "linecolor": "white",
            "ticks": ""
           },
           "bgcolor": "#E5ECF6",
           "radialaxis": {
            "gridcolor": "white",
            "linecolor": "white",
            "ticks": ""
           }
          },
          "scene": {
           "xaxis": {
            "backgroundcolor": "#E5ECF6",
            "gridcolor": "white",
            "gridwidth": 2,
            "linecolor": "white",
            "showbackground": true,
            "ticks": "",
            "zerolinecolor": "white"
           },
           "yaxis": {
            "backgroundcolor": "#E5ECF6",
            "gridcolor": "white",
            "gridwidth": 2,
            "linecolor": "white",
            "showbackground": true,
            "ticks": "",
            "zerolinecolor": "white"
           },
           "zaxis": {
            "backgroundcolor": "#E5ECF6",
            "gridcolor": "white",
            "gridwidth": 2,
            "linecolor": "white",
            "showbackground": true,
            "ticks": "",
            "zerolinecolor": "white"
           }
          },
          "shapedefaults": {
           "line": {
            "color": "#2a3f5f"
           }
          },
          "ternary": {
           "aaxis": {
            "gridcolor": "white",
            "linecolor": "white",
            "ticks": ""
           },
           "baxis": {
            "gridcolor": "white",
            "linecolor": "white",
            "ticks": ""
           },
           "bgcolor": "#E5ECF6",
           "caxis": {
            "gridcolor": "white",
            "linecolor": "white",
            "ticks": ""
           }
          },
          "title": {
           "x": 0.05
          },
          "xaxis": {
           "automargin": true,
           "gridcolor": "white",
           "linecolor": "white",
           "ticks": "",
           "title": {
            "standoff": 15
           },
           "zerolinecolor": "white",
           "zerolinewidth": 2
          },
          "yaxis": {
           "automargin": true,
           "gridcolor": "white",
           "linecolor": "white",
           "ticks": "",
           "title": {
            "standoff": 15
           },
           "zerolinecolor": "white",
           "zerolinewidth": 2
          }
         }
        },
        "title": {
         "text": "t-SNE projection of article embeddings"
        },
        "xaxis": {
         "anchor": "y",
         "domain": [
          0,
          1
         ],
         "title": {
          "text": "x"
         }
        },
        "yaxis": {
         "anchor": "x",
         "domain": [
          0,
          1
         ],
         "title": {
          "text": "y"
         }
        }
       }
      }
     },
     "metadata": {},
     "output_type": "display_data"
    }
   ],
   "source": [
    "projection.plot()"
   ]
  },
  {
   "cell_type": "markdown",
   "id": "d3cd0dfe",
   "metadata": {},
   "source": [
    "There appear to be natural groups in 2-D! That's promising.\n",
    "\n",
    "Hovering over some of the points, it looks like the articles are grouped by sport. This suggests that the embedding model has captured some semantic similarity between the articles.\n",
    "\n",
    "Let's colorize the points by the source RSS feed they came from. This will help us see if the embedding model has captured any structure based on the source of the article."
   ]
  },
  {
   "cell_type": "code",
   "execution_count": 45,
   "id": "085d7108",
   "metadata": {},
   "outputs": [
    {
     "data": {
      "application/vnd.plotly.v1+json": {
       "config": {
        "plotlyServerURL": "https://plot.ly"
       },
       "data": [
        {
         "customdata": [
          [
           ""
          ],
          [
           ""
          ],
          [
           ""
          ],
          [
           ""
          ],
          [
           ""
          ],
          [
           ""
          ],
          [
           ""
          ],
          [
           ""
          ],
          [
           ""
          ],
          [
           ""
          ],
          [
           ""
          ],
          [
           ""
          ],
          [
           ""
          ],
          [
           ""
          ],
          [
           ""
          ],
          [
           ""
          ],
          [
           ""
          ],
          [
           ""
          ],
          [
           ""
          ],
          [
           ""
          ],
          [
           ""
          ],
          [
           ""
          ],
          [
           ""
          ],
          [
           ""
          ],
          [
           ""
          ],
          [
           ""
          ],
          [
           ""
          ],
          [
           ""
          ],
          [
           ""
          ],
          [
           ""
          ],
          [
           ""
          ],
          [
           ""
          ],
          [
           ""
          ],
          [
           ""
          ],
          [
           ""
          ],
          [
           ""
          ],
          [
           ""
          ],
          [
           ""
          ],
          [
           ""
          ],
          [
           ""
          ],
          [
           ""
          ],
          [
           ""
          ],
          [
           ""
          ],
          [
           ""
          ],
          [
           ""
          ],
          [
           ""
          ],
          [
           ""
          ],
          [
           ""
          ],
          [
           ""
          ],
          [
           ""
          ],
          [
           ""
          ],
          [
           ""
          ],
          [
           ""
          ],
          [
           ""
          ],
          [
           ""
          ],
          [
           ""
          ],
          [
           ""
          ],
          [
           ""
          ],
          [
           ""
          ],
          [
           ""
          ],
          [
           ""
          ],
          [
           ""
          ],
          [
           ""
          ],
          [
           ""
          ],
          [
           ""
          ],
          [
           ""
          ],
          [
           ""
          ],
          [
           ""
          ],
          [
           ""
          ],
          [
           ""
          ],
          [
           ""
          ],
          [
           ""
          ],
          [
           ""
          ],
          [
           ""
          ],
          [
           ""
          ],
          [
           ""
          ],
          [
           ""
          ],
          [
           ""
          ],
          [
           ""
          ],
          [
           ""
          ],
          [
           ""
          ],
          [
           ""
          ]
         ],
         "hovertemplate": "<b>%{hovertext}</b><br><a href='%{customdata[0]}' target='_blank'>open article ↗</a><extra></extra>",
         "hovertext": [
          "South Carolina standout Ashlyn Watkins to take a leave of absence and miss 2025-26 season, return in 2026-27",
          "Dwyane Wade explains why James Harden made Clippers a desirable destination for Bradley Beal",
          "Yankees acquire Ryan McMahon: New York trades for Rockies third baseman to fill infield need",
          "Free MLB player props, odds for July 25: Use Shohei Ohtani, Riley Greene, Juan Soto in Friday MLB player props",
          "Raiders' Jamal Adams to switch positions as coach Pete Carroll cites 'aggressiveness, toughness' in decision",
          "Free MLB home run picks, odds, lines for July 25: Cal Raleigh among best bets for Friday HR player props",
          "Josh Allen explains how Scottie Scheffler's comments about chasing accomplishments spoke to him",
          "Travis Hunter impresses Jaguars with two-way training camp role: 'He's pretty unfazed'",
          "Free MLB picks, predictions, best bets for Friday, July 25: Back the Mets and Red Sox to pull off upsets",
          "CBS Sports - News, Live Scores, Schedules, Fantasy Games, Video and more.",
          "Vikings WR Justin Jefferson suffers hamstring strain, will be re-evaluated next week",
          "Paige Bueckers, Breanna Stewart discuss booming interest in WNBA trading cards as more names enter the market",
          "Yankees trade grades: Ryan McMahon a needed addition in the Bronx, but not the most explosive choice",
          "Commanders training camp: With Terry McLaurin holding out, other pass catchers hope to step up",
          "Today's top games to watch, best bets, odds: Yankees vs. Phillies, Mercury at Liberty and more",
          "Fantasy Baseball Week 19 Preview: Top 10 sleeper pitchers include Slade Cecconi, Joe Boyle",
          "Damian Lillard rejects 'unfair' criticism, reflects on 'unlucky' Bucks stint",
          "Back with the Packers, failed head coach Nathaniel Hackett expected to provide 'cool perspective' in new role",
          "MLB trade deadline rankings: Refreshed list of top 30 most impactful players who could move by July 31",
          "Aaron Rodgers makes drastic change at training camp to piece of equipment not recommended by NFL",
          "Valkyries star Kayla Thornton to miss the rest of the season after suffering knee injury in practice",
          "'Not my problem anymore': Baker Mayfield doesn't seem very interested in talking about the Browns",
          "Rams view Arch Manning as potential Matthew Stafford successor, top QB in 2026 class, per report",
          "Lionel Messi, Jordi Alba suspended for skipping All-Star Game: MLS Commissioner promises 'hard look' at rule",
          "LeBron James' Lakers could reunite him with a teammate from the Cavaliers' 2016 champion squad, per report",
          "Offensive lineman Justin Pugh officially retires after 11 NFL seasons as member of the New York Giants",
          "Dak Prescott wants resolution between Micah Parsons, Cowboys 'sooner rather than later'",
          "NFL fining 100 players, two dozen employees for selling Super Bowl tickets above face value at Super Bowl LIX",
          "Curry brothers teaming up? Warriors interested in signing Seth Curry, per report",
          "Commanders training camp takeaways: Von Miller leads dominant defensive effort amid Terry McLaurin holdout",
          "How to bet the Colts in 2025: Super Bowl odds, win total, props, best bets, predictions for Indianapolis",
          "Marlins vs. Brewers prediction, odds, start time: 2025 MLB picks, best bets for July 25 by proven model",
          "Mike Vrabel says Patriots will 'have a conversation' about veteran and former Raiders DL Christian Wilkins",
          "2025 NFL game-by-game predictions: Expert picks 285 games, reveals win total bets, Super Bowl futures",
          "UFC Fight Night prediction -- Robert Whittaker vs Reinier de Ridder: Fight card, odds, start time, live stream",
          "Aaron Rodgers says only 10 to 12 teams have a chance to win the Super Bowl: Let's identify them",
          "LOOK: MLB legend Ken Griffey Jr. working as photographer for 2025 Masters at Augusta National",
          "Why Rory McIlroy's early form legitimizes belief that Masters win, career grand slam will finally come in 2025",
          "Golf live streams: Watch live golf games, upcoming schedule",
          "Golf live streams: Watch live golf games, upcoming schedule",
          "Golf live streams: Watch live golf games, upcoming schedule",
          "2023 Masters winner Jon Rahm almost got jinxed by an NFL star, and J.J. Watt has the text receipts to prove it",
          "2022 Masters: Cam Smith's late triple-bogey ruined his green jacket contention, halved his payout",
          "2022 Masters: Rory McIlroy makes green jacket bid with Sunday record low 64 after magical hole out on 18th",
          "2022 Masters, Tiger Woods score: Steady finish to roller coaster day marks 22nd straight made cut at Augusta",
          "WATCH: Stewart Cink drops in thrilling hole-in-one on par-3 16th for first ace at Masters 2022",
          "Masters 2021: Abraham Ancer assessed two-stroke penalty after Round 1 for grazing sand before bunker shot",
          "Masters 2021: Watch as Jordan Spieth drills ball off tree, triple bogeys No. 9 after missing two putts",
          "Masters 2021 scores: Defending champion Dustin Johnson posts first over-par round at Augusta since 2018",
          "2021 Masters weather forecast: Thunderstorms, wind could affect play at Augusta National",
          "Tiger Woods at the 2020 PGA Championship: Odds, wins, news updates, highlights, pairings, tee time",
          "2020 Masters odds: PGA picks, Tiger Woods predictions from dialed-in model that nailed six majors",
          "Tiger Woods wins 2019 Masters: History, highlights and more from fifth Augusta National victory",
          "2019 Masters weather forecast: Watch for late afternoon thunderstorms on Saturday",
          "Masters 2019: What are the logos on the Rory McIlroy, Tiger Woods shirts at Augusta National?",
          "Masters 2018: Jordan Spieth's long birdie putt on No. 16 nearly caps best final round score",
          "2018 Masters tee times: Reed vs. McIlroy highlights final round pairings on Sunday",
          "2018 Masters: The Patrick Reed, Rory McIlroy showdown will captivate Augusta National",
          "Tiger Woods at the 2018 Masters: Watch live, tee time, score, news, highlights, wins",
          "2018 Masters purse, prize money: Payouts for each golfer from $11 million pool",
          "2018 Masters coverage, takeaways: Jordan Spieth hangs tough, major winners top leaderboard",
          "Masters 2018: More patient Rory McIlroy sounds mentally prepared to win at Augusta National",
          "Masters 2018: Watch Sergio Garcia hit five in water for highest score in event history",
          "2018 Masters predictions: One of these nine golfers will win at Augusta National",
          "2018 Masters: Jack Nicklaus cries 'like a baby' as grandson's ace become new No. 1 moment",
          "Masters 2018 tickets: Prices rise as Tiger Woods makes his return to Augusta National",
          "Masters 2018 odds: Complete list, Tiger Woods no longer betting favorite at Augusta",
          "Masters 2018: Mickelson, McIlroy, Spieth pay respects to Tiger Woods at Augusta",
          "Augusta National chairman announces women's amateur event prior to 2019 Masters",
          "Masters 2018: Nine things to love about the Tiger Woods-Phil Mickelson budding bromance",
          "How to bet the Texans in 2025: Super Bowl odds, win total, props, best bets, predictions for Houston",
          "Kansas City Chiefs betting preview: 5 hot takes for 2025 NFL season include gaudy numbers for Mahomes, Kelce",
          "Dallas Cowboys betting preview: Five hot takes for the 2025 NFL season, including two award winners",
          "How to bet the Browns in 2025: Super Bowl odds, win total, props, best bets for Cleveland",
          "How to bet Steelers in 2025: Super Bowl odds, win total, props, best bets, predictions for Pittsburgh",
          "2025 CFL picks, betting odds, predictions: Proven expert reveals predictions for every game on Week 8 schedule",
          "Super Bowl 60 picks, futures bets, predictions, sleepers: Top rated NFL expert high on Ravens, Lions, Steelers",
          "Today's best MLB pitcher strikeout props: Back Orioles starter against Guardians at plus odds",
          "Dodgers vs. Twins prediction, odds, props, best bets: Free 2025 MLB picks for Wednesday, July 23",
          "How to bet the Bengals in 2025: Super Bowl odds, win total, props, best bets for Cincinnati",
          "How to bet on the Ravens in 2025: Super Bowl odds, win total, props, best bets for Baltimore",
          "Free MLB picks, predictions, best bets for Wednesday, July 23: Back the Twins to upset the Dodgers"
         ],
         "legendgroup": "",
         "marker": {
          "color": "#636efa",
          "opacity": 0.8,
          "size": 10,
          "symbol": "circle"
         },
         "mode": "markers",
         "name": "",
         "orientation": "v",
         "showlegend": false,
         "type": "scatter",
         "x": {
          "bdata": "QxVEwHttDkFlkhlCfAcCQvAZ88FqJgJC6dkOwkxN3cHz9AJCenREQkfC7MHnRD5B6pAZQsmh38EqobpB3jcwQq3sn0C/rO7B5QYxQkpuD8KzEY2/qRn+wRQNqcEWLzpBgk0RQYfTzcHhSSrC5XCPwADOakGi9d7B8IQcwhxSCEKPjO3BULklwq+hJkFarhjCh2Y+wvKCIMIragTC3HoFwitqBMIBKjHC3JIiwoiYIcLOoD/CMs45wgU7T8K0fEvCk5xEwsh1OcIEF0DCtjgqwrsSRMJNiDnCgg04wh47TML7XCPCSVYlwgQyP8LUpCvCYjcrwjt9I8K0ik/C9fYrwvacOML0jDrCJE0rwns+OsJjEy/Chlk2wkilIMJYYCfCtu8nwhE1HcI6ZxnC+J/LQWi7IMKqTRFCGGv3QXNQGsLa9h7Cufn6QQ==",
          "dtype": "f4"
         },
         "xaxis": "x",
         "y": {
          "bdata": "7jUuQvfdREI4bSlBWC4pwJ9fJUJY59m+4LXEv8I66kFuxIbAmOD5QH8F8EHqZgNB8KIpQWe4AkKJcoPArlPgQDKDUUKv+gtCmgwHQU8qAUInWjRCUdO1QVPr50G35zHAi05UQgj3g0GGdAJCM6W1QX9MOEKhIQJCsfvTQXAoz8A40ilClFHuQQQqFcKSivRBre2bwMVCxsDPtpfBuZKTwc+2l8EZVJLAeKjQv+9t87/eYSjBFTFUwBJIKcHnNfTAcTARwZW5gsGzokfB/+xDwQmGOcF7toLBq8TkwPZu5sBFtxfBUaD4wAfVMcGVv2HBaCQMwbit2cDh3wrBTvAtwcmtkMCyQjjBoLhAwcKOF8EPlgPBb+DBwOUt2EF7iu9BbIb6QWtM30HaKu1B3xS/vybV8kFgCNfAXkKjwLr53UFBwuVB2cabwA==",
          "dtype": "f4"
         },
         "yaxis": "y"
        },
        {
         "customdata": [
          [
           ""
          ],
          [
           ""
          ],
          [
           ""
          ],
          [
           ""
          ],
          [
           ""
          ],
          [
           ""
          ],
          [
           ""
          ],
          [
           ""
          ],
          [
           ""
          ],
          [
           ""
          ],
          [
           ""
          ],
          [
           ""
          ],
          [
           ""
          ],
          [
           ""
          ],
          [
           ""
          ],
          [
           ""
          ],
          [
           ""
          ],
          [
           ""
          ],
          [
           ""
          ],
          [
           ""
          ],
          [
           ""
          ],
          [
           ""
          ],
          [
           ""
          ],
          [
           ""
          ],
          [
           ""
          ],
          [
           ""
          ],
          [
           ""
          ],
          [
           ""
          ],
          [
           ""
          ],
          [
           ""
          ],
          [
           ""
          ],
          [
           ""
          ],
          [
           ""
          ],
          [
           ""
          ],
          [
           ""
          ]
         ],
         "hovertemplate": "<b>%{hovertext}</b><br><a href='%{customdata[0]}' target='_blank'>open article ↗</a><extra></extra>",
         "hovertext": [
          "WBO orders Oleksandr Usyk vs. Joseph Parker while Turki Alalshikh eyes Usyk vs. Moses Itauma",
          "Congress introduces bill aimed at amending federal boxing regulations as TKO seeks to start promotion",
          "Trey Hendrickson is training away from Bengals; Four NBA reunions we would like to see",
          "Boxing Pound-for-Pound Rankings: Oleksandr Usyk continues to prove why he is the best of his generation",
          "Boxing schedule for 2025: Canelo Alvarez vs. Terence Crawford, Xander Zayas vs. Jorge Garcia on deck",
          "Scottie Scheffler wins The Open Championship; JC Tretter resigns from NFLPA in shocking move",
          "Manny Pacquiao vs. Mario Barrios: Results, winners, highlights, fight card, complete guide",
          "Sebastian Fundora retains junior middleweight title with TKO of Tim Tszyu in rematch",
          "Manny Pacquiao vs. Mario Barrios start time: Live stream, PPV price, undercard, where to watch, TV channel",
          "Manny Pacquiao vs. Mario Barrios fight predictions, odds, preview, undercard, expert picks, start time",
          "Manny Pacquiao vs. Mario Barrios odds, prediction, betting line, time: July 19 fight picks via boxing expert",
          "Oleksandr Usyk vs. Daniel Dubois 2: Fight card, odds, PPV price, start time, location, date, complete guide",
          "Oleksandr Usyk vs. Daniel Dubois 2 odds, prediction, line, time: July 19 fight picks by proven boxing expert",
          "Oleksandr Usyk vs. Daniel Dubois 2 fight predictions, odds, start time, undercard, preview, where to watch",
          "Boxing predictions, best bets, odds: Top picks to consider for Pacquiao vs. Barrios, Usyk vs. Dubois 2",
          "Why Manny Pacquiao believes that, even at 46, an upset could be brewing against Mario Barrios on Saturday",
          "What is left for Oleksandr Usyk at heavyweight if he beats Daniel Dubois on Saturday?",
          "Sebastian Fundora vs. Tim Tszyu, Jesse Rodriguez return among under the radar fights to watch this weekend",
          "Top storylines to watch this weekend with Manny Pacquiao's return, Oleksandr Usyk vs. Daniel Dubois 2",
          "Shakur Stevenson vs. William Zepeda results, highlights: Champion retains title with impressive performance",
          "Shakur Stevenson vs. William Zepeda fight predictions, undercard, odds, start time, expert picks, PPV price",
          "Katie Taylor vs. Amanda Serrano 3: Results, winners, highlights, fight card, date, complete guide",
          "Katie Taylor vs. Amanda Serrano 3 odds, prediction, betting line, time: July 11 fight picks by boxing expert",
          "Katie Taylor vs. Amanda Serrano 3 fight predictions, odds, undercard, start time, preview, expert picks",
          "Gervonta Davis charged with battery of ex-girlfriend on Father's Day, per police records",
          "Cooper Flagg cold in NBA summer league debut; American Amanda Anisimova reaches Wimbledon final",
          "Naoya Inoue vs. Murodjon Akhmadaliev date set as top fighters vie for undisputed title",
          "Katie Taylor vs. Amanda Serrano 3: What's at stake for the fighters and the sport of women's boxing",
          "Biggest storylines to watch in Katie Taylor vs. Amanda Serrano 3; Edgar Berlanga, Shakur Stevenson returns",
          "Boxing legend Julio César Chávez defends son amid alleged cartel ties, criminal charges in U.S. and Mexico",
          "Julio César Chávez Jr. arrested by ICE, facing deportation: Mexican boxer accused of cartel involvement",
          "Boxing news, rumors: Tyson Fury announces trilogy with Oleksandr Usyk; David Benavidez vs Anthony Yarde set",
          "Shakur Stevenson takes issue with Turki Alalshikh's crackdown on 'Tom and Jerry' fights in boxing",
          "Tyson Fury says he'd only return from retirement for Oleksandr Usyk trilogy: 'I want a fair fight'",
          "Jake Paul earns ranking from sanctioning body, can challenge for cruiserweight world title"
         ],
         "legendgroup": "boxing",
         "marker": {
          "color": "#EF553B",
          "opacity": 0.8,
          "size": 10,
          "symbol": "circle"
         },
         "mode": "markers",
         "name": "boxing",
         "orientation": "v",
         "showlegend": true,
         "type": "scatter",
         "x": {
          "bdata": "zuwmQTyagEGP1oJBOzUYQYEYZ0HdaYRBb/CsQNYegEApxtBAL0rUQLVq6kBfFURBklk8QZcGPEGibvdAHRC8QFmJKkHOwDhBR9FGQQsJbUFVeG1BilurQeQhrEG2A6hBl9cWQEBobUExgyxBP9mhQY/oaUEMs+o/X83nP9m4Z0HSTm9BIWJoQRiuAkE=",
          "dtype": "f4"
         },
         "xaxis": "x",
         "y": {
          "bdata": "8CVVwhCeSMIwbdZA9lJCwjx2TsJtv6NAeBVkwq3uYsJ59GPC3R5hwrnUZMK3M1zC7VNfwi6pXcIokWDCy+BcwrWiU8K+cU3C+eFLwk36PMJH0j/Cn2BPwpKzSsKM8UvC4Ko7wvHarED5DUfCyGRLwn/PSMKzPUPCoIBCwnTdZcKKl0LCdhJmwlQlR8I=",
          "dtype": "f4"
         },
         "yaxis": "y"
        },
        {
         "customdata": [
          [
           ""
          ],
          [
           ""
          ],
          [
           ""
          ],
          [
           ""
          ],
          [
           ""
          ],
          [
           ""
          ],
          [
           ""
          ],
          [
           ""
          ],
          [
           ""
          ],
          [
           ""
          ],
          [
           ""
          ],
          [
           ""
          ],
          [
           ""
          ],
          [
           ""
          ],
          [
           ""
          ],
          [
           ""
          ],
          [
           ""
          ],
          [
           ""
          ],
          [
           ""
          ],
          [
           ""
          ],
          [
           ""
          ],
          [
           ""
          ],
          [
           ""
          ],
          [
           ""
          ],
          [
           ""
          ],
          [
           ""
          ],
          [
           ""
          ],
          [
           ""
          ],
          [
           ""
          ],
          [
           ""
          ],
          [
           ""
          ],
          [
           ""
          ],
          [
           ""
          ],
          [
           ""
          ],
          [
           ""
          ]
         ],
         "hovertemplate": "<b>%{hovertext}</b><br><a href='%{customdata[0]}' target='_blank'>open article ↗</a><extra></extra>",
         "hovertext": [
          "101 Days Out: College basketball stars, new faces, contenders, storylines ahead of 2025-26 season",
          "Olivier Rioux, Florida basketball's 7-foot-9 center, works out for Gators football team",
          "Florida guard Boogie Fland sidelined until September after offseason sports hernia surgery",
          "Hulk Hogan dies at 71; Raiders make stunning release; Jets escape devastating injury",
          "Kansas coach Bill Self hospitalized, undergoes heart procedure after experiencing 'concerning symptoms'",
          "NCAA Tournament expansion decision could come 'sometime this fall' as 2026 implementation grows more unlikely",
          "Predicting next coach to win first NCAA Tournament title: Duke's Jon Scheyer, Kentucky's Mark Pope among picks",
          "The Top 25 (And 1) biggest stories in men's college basketball since 2000",
          "Giants name Russell Wilson QB1; NFL Day 1 training camp takeaways; predicting MLB trade deadline deals",
          "Lack of talent in 2026 class creates unique recruiting and roster-building strategy for college programs",
          "Alijah Arenas injury: USC 5-star freshman hurts knee, expected to be sidelined for 6-8 months",
          "Texas A&M mascot Reveille X recovering after eye surgery following glaucoma diagnosis",
          "College basketball's record-setting international influx could see 'massive decrease' amid revenue-sharing",
          "President Donald Trump to sign executive order establishing national NIL standards amid evolving legislation",
          "Why Sammy Jackson, a top-70 recruit, turned down offers from every power conference to commit to VCU",
          "Not all retention is equal in college basketball: The two positions where having returning players is key",
          "Former Alabama, Wake Forest guard Davin Cosby Jr. recovering after 'serious' car accident",
          "ACC commissioner Jim Phillips announces player availability reports, tightens rules on field/court storming",
          "Jerry Jones at odds with Micah Parsons; Brewers take top spot in MLB Power Rankings",
          "How does basketball's next wave of talent measure up? Summer events forecast a relative downturn",
          "Texas A&M NIL figures nearly tripled from 2024, but highlight spending disparity between men's, women's sports",
          "Memphis' bid to join Big 12 falls short as conference leaders rebuff $200 million proposal from school",
          "As college basketball enters its most uncertain era yet, few believe the new rules will stop the flow of money",
          "AAC changes name to 'American Conference,' introduces mascot Soar as part of rebranding intiative",
          "Memphis guard and former McNeese State star Sincere Parker arrested on assault charge, per report",
          "Redrafting the 2025 NBA Draft: Derik Queen moves into top 10, Liam McNeeley makes big jump after summer league",
          "Missouri basketball recruiting: Five-star CG Jason Crowe Jr. commits to Tigers on CBS Sports HQ",
          "Duke five-star freshman Cameron Boozer says Blue Devils are 'very overlooked,' vows to change that in 2025-26",
          "Knicks SF Anton Watson at ease in summer league after going against former Gonzaga teammates",
          "Arkansas' John Calipari says if he 'can't impact' his players, this will be his last year",
          "Dribble Handoff: USC, Virginia expected to be among college basketball's most improved teams for 2025-26",
          "The Open Championship is underway; MLB trade deadline buyers, sellers; Red Sox rise in Power Rankings",
          "Memphis basketball fined, put on probation after NCAA finds softball players were paid to help with coursework",
          "College basketball recruiting: Coaches weigh in on NCAA Tournament size, intel on top prospects and more",
          "Which 68 teams make our first 2026 Bracketology, and which teams may be hoping for NCAA Tournament expansion"
         ],
         "legendgroup": "college-basketball",
         "marker": {
          "color": "#00cc96",
          "opacity": 0.8,
          "size": 10,
          "symbol": "circle"
         },
         "mode": "markers",
         "name": "college-basketball",
         "orientation": "v",
         "showlegend": true,
         "type": "scatter",
         "x": {
          "bdata": "FYdPwCRj9z48psw+gb6JQdYlrcBcyzDA4TKQwCIYQMDgNZNBNSWyP6JuNMBKBA9A18XMP8i9pr8kTMU+svA7wPmEZ8CSzlPAH2B7QcZ41D+6Gwk/5p+3P9QZSD8ritU/diKAwZmHAEHwesfAlk6gvwv1vECrwAC/vdRjwLoEakFQ5SnAQQITQAgoU8A=",
          "dtype": "f4"
         },
         "xaxis": "x",
         "y": {
          "bdata": "BigAQoinGEIfBxtCdnnuQI4l8EHEN9pBxVv7QQPO9kEy9uVAwa73Qa+FIkJdw6pBt7juQccrm0ECwfNBS64BQmF1I0Lr07dB/h7eQNXz/UHcBqNBI8q7QSGq40H0DrlBrAYoQvoVIUIFIRJC77MEQuwWGULSL+VBFwAFQt6d10Dkyb5B6LABQrGG40E=",
          "dtype": "f4"
         },
         "yaxis": "y"
        },
        {
         "customdata": [
          [
           ""
          ],
          [
           ""
          ],
          [
           ""
          ],
          [
           ""
          ],
          [
           ""
          ],
          [
           ""
          ],
          [
           ""
          ],
          [
           ""
          ],
          [
           ""
          ],
          [
           ""
          ],
          [
           ""
          ],
          [
           ""
          ],
          [
           ""
          ],
          [
           ""
          ],
          [
           ""
          ],
          [
           ""
          ],
          [
           ""
          ],
          [
           ""
          ],
          [
           ""
          ],
          [
           ""
          ],
          [
           ""
          ],
          [
           ""
          ],
          [
           ""
          ],
          [
           ""
          ],
          [
           ""
          ],
          [
           ""
          ],
          [
           ""
          ],
          [
           ""
          ],
          [
           ""
          ],
          [
           ""
          ],
          [
           ""
          ],
          [
           ""
          ],
          [
           ""
          ]
         ],
         "hovertemplate": "<b>%{hovertext}</b><br><a href='%{customdata[0]}' target='_blank'>open article ↗</a><extra></extra>",
         "hovertext": [
          "Dylan Stewart isn't interested in hype. Just havoc",
          "Freshman phenom Bryce Underwood already has all the tools, but Michigan QB battle won't be won on paper",
          "Boo Carter in limbo at Tennessee: Altercation with teammates, agent change and more at forefront of Vols drama",
          "Purdue DB Tahj Ra-El accused of sending playbook to opposition while at Memphis, American Conference responds",
          "Michigan in 'ongoing discussions' to open 2026 season versus Western Michigan in Germany",
          "Tennessee football 2025: Win total, CFP outlook and how Volunteers can bounce back from Nico Iamaleava saga",
          "Nick Saban says there is no opportunity that would get him to return to coaching 'right now'",
          "President Donald Trump signs executive order prohibiting 'third-party, pay-for-play payments' to athletes",
          "Will Donald Trump's order on college sports have immediate impact? No, but wheels are in motion for change",
          "Greg Sankey jabs at Penn State's James Franklin, Big Ten after coach's SEC comments",
          "Putting controversial Tennessee exit to rest, Nico Iamaleava turns focus to championship aspirations at UCLA",
          "Boston College's Bill O'Brien, Thomas Castellanos trade barbs over QB's heated departure from team",
          "Michigan's Sherrone Moore not yet committing to Bryce Underwood as starting QB: 'It's an open competition'",
          "The surprising reason NC State's Dave Doeren wants to 'beat the s--- out of' East Carolina after bowl brawl",
          "Michigan's Derrick Moore dismisses Ohio State's 2024 national title: 'Not a real win if y'all ain't beat us'",
          "UCLA coach DeShaun Foster finds redemption at Big Ten Media Days by referencing viral gaffe one year earlier",
          "Steve Sarkisian details Jeremiah Smith game plan as Texas seeks repeat performance against Ohio State star",
          "Three East Carolina football players suspended after arrest in gun incident",
          "Everything Bill Belichick said at ACC Media Days: UNC coach sidesteps off-field drama, praises team growth",
          "Steelers training camp: Rookies Will Howard, Jack Sawyer see similarities between Pittsburgh and Ohio State",
          "2025 Big Ten Media Days schedule, where to watch: When coaches, teams will speak in Las Vegas",
          "Big Ten QB rankings: Drew Allar tops list, while Bryce Underwood and Dante Moore have something to prove",
          "Oregon's Dan Lanning seeks College Football Playoff schedule changes, favors Jan. 1 national championship",
          "Ohio State QB battle: Jeremiah Smith believes 'it doesn't matter' who starts, the Buckeyes offense will be OK",
          "P.J. Fleck wants Minnesota to 'be delusional' about College Football Playoff chances",
          "Missouri extends Eliah Drinkwitz through 2029, enhances assistant coaches' salary pool",
          "'Always fuel for the fire,' Dabo Swinney says after LSU's Brian Kelly dubs Clemson 'Death Valley Junior'",
          "How will Bill Belichick's debut season at North Carolina unfold? Game-by-game predictions for 2025 Tar Heels",
          "Big 12 coach rankings 2025: Deion Sanders, Kenny Dillingham among big risers as new No. 1 takes throne",
          "'We're in total control:' How Penn State's Drew Allar is embracing lofty expectations in make-or-break season",
          "2025 College football win total picks, SEC futures bets, predictions, sleepers: Top expert high on Texas, LSU",
          "Pitt's Pat Narduzzi makes cheeky prediction about North Carolina's ACC title chances: 'You got Bill Belichick'",
          "Tennessee star misses 'numerous' team activities, confronted by team leaders ahead of fall camp, per report"
         ],
         "legendgroup": "college-football",
         "marker": {
          "color": "#ab63fa",
          "opacity": 0.8,
          "size": 10,
          "symbol": "circle"
         },
         "mode": "markers",
         "name": "college-football",
         "orientation": "v",
         "showlegend": true,
         "type": "scatter",
         "x": {
          "bdata": "V/p8wXlHksEEsZLBISSFwRwKesG4Q5PBxKYZwVHqxL+sIQPA/85NwapykMGreZHBowGSwU8JR8GnU2vBbtiOwaFLncGw+UnB8a9EwcRK/sFDA1rBSjCLwXEtS8Ghtp3BxZlkwW/lzsC/G1XBFhNAwSvvq8AU6ofB6pEmwp7FP8HHrZPB",
          "dtype": "f4"
         },
         "xaxis": "x",
         "y": {
          "bdata": "HwIAQnLv6EFr1B1Ctj0lQuVSzUFQERdCzWEBQusyn0HYcJ5B98zeQYLiD0KQdgFCVU3kQWQGHULWJ9VBA3MOQgwrzEGRhB5C2+YJQjEkB0LryNtB+rXxQf+F0UHmt81BksHpQZfSEUL7gwVCyJAOQoMYAUKeVPhBBDvWQYvlDULhixxC",
          "dtype": "f4"
         },
         "yaxis": "y"
        },
        {
         "customdata": [
          [
           ""
          ],
          [
           ""
          ],
          [
           ""
          ],
          [
           ""
          ],
          [
           ""
          ],
          [
           ""
          ],
          [
           ""
          ],
          [
           ""
          ],
          [
           ""
          ],
          [
           ""
          ],
          [
           ""
          ],
          [
           ""
          ],
          [
           ""
          ],
          [
           ""
          ],
          [
           ""
          ],
          [
           ""
          ],
          [
           ""
          ],
          [
           ""
          ],
          [
           ""
          ],
          [
           ""
          ],
          [
           ""
          ],
          [
           ""
          ],
          [
           ""
          ],
          [
           ""
          ],
          [
           ""
          ],
          [
           ""
          ],
          [
           ""
          ],
          [
           ""
          ],
          [
           ""
          ],
          [
           ""
          ],
          [
           ""
          ],
          [
           ""
          ],
          [
           ""
          ]
         ],
         "hovertemplate": "<b>%{hovertext}</b><br><a href='%{customdata[0]}' target='_blank'>open article ↗</a><extra></extra>",
         "hovertext": [
          "2025 3M Open leaderboard: Adam Svensson ties course record for lead with Rickie Fowler, Max Homa in pursuit",
          "3M Open Best Bets from Inside the Lines",
          "2025 3M Open longshot picks, predictions, odds, PGA props: Parlay could return over $1 million on a $10 bet",
          "2025 3M Open TV schedule, coverage, channel, golf live stream, where to watch PGA Tour event",
          "2025 LIV Golf UK preview: TV schedule, where to watch, field of players, teams, prize money, purse",
          "2025 3M Open picks, odds, field, leaderboard: Surprising predictions by computer that's called 16 majors",
          "Today's top games to watch, best bets, odds: Yankees-Blue Jays, WNBA and more",
          "2025 3M Open props, expert picks, predictions: PGA insider high on Max Greyserman to finish in the top 10",
          "2025 LIV Golf UK odds, predictions, free betting picks: Louis Oosthuizen among top longshots to back",
          "2025 3M Open predictions, picks, odds: Emiliano Grillo among longshots to target at TPC Twin Cities",
          "Today's top games to watch, best bets, odds: WNBA marquee showdowns, MLB and more",
          "2025 3M Open predictions, picks, odds, field rankings, golf best bets for TPC Twin Cities as FedEx Cup looms",
          "Future Ryder Cup venues: 2031 event heads to Camiral as Spain welcomes competition for first time in 34 years",
          "Cumulative major leaderboards illustrate Scottie Scheffler's dominance, Rory McIlroy's stellar play in 2025",
          "2025 U.S. Ryder Cup standings: Bryson DeChambeau locked in, path clear for captain Keegan Bradley to play",
          "2025 Open Championship takeaways: Scottie Scheffler's maturity matters, Americans continue dominance in majors",
          "The Open 2025: Staying in his own world, Scottie Scheffler keeps dominating the sport, perplexing his peers",
          "What does Scottie Scheffler need for career grand slam? World No. 1 could join elite group on 30th birthday",
          "The Open 2025: Rory McIlroy falls short of home comeback but leaves Royal Portrush feeling content",
          "2025 British Open purse, prize money: Payouts for winner Scottie Scheffler, players from $17 million pool",
          "Where to watch The Open 2025: TV coverage, schedule, live stream for Rory McIlroy in Round 4 on Sunday",
          "2025 British Open TV schedule, coverage, channel, where to watch, live stream, tee times at Royal Portrush",
          "2025 British Open tee times: Complete schedule, groupings in Round 4 on Sunday at Royal Portrush",
          "2025 Open Championship odds: Surprising picks, Sunday predictions from golf model that nailed 15 majors",
          "2025 Open Championship picks, odds: Rory McIlroy leads golfers capable of catching soaring Scottie Scheffler",
          "The Open 2025: Rory McIlroy contending after strong 66, shockingly hitting two balls on one shot Saturday",
          "Where to watch The Open 2025: TV coverage, schedule, live stream for Rory McIlroy in Round 3 on Saturday",
          "Where to watch The Open 2025: TV coverage, schedule, live stream for Rory McIlroy in Round 2 on Friday",
          "2025 British Open tee times, pairings: Complete schedule, groupings in Round 3 on Saturday at Royal Portrush",
          "2025 Open Championship odds: Surprising picks, weekend predictions from golf model that nailed 15 majors",
          "2025 Open takeaways: Scottie Scheffler appears unstoppable as Rory McIlroy eyes weekend run at Royal Portrush",
          "2025 Open missed cuts: Collin Morikawa, Brooks Koepka among notables not making weekend at Royal Portrush",
          "The Open 2025: Rory McIlroy can exhale entering weekend at Royal Portrush hunting the leaders at home"
         ],
         "legendgroup": "golf",
         "marker": {
          "color": "#FFA15A",
          "opacity": 0.8,
          "size": 10,
          "symbol": "circle"
         },
         "mode": "markers",
         "name": "golf",
         "orientation": "v",
         "showlegend": true,
         "type": "scatter",
         "x": {
          "bdata": "+2fawemHxMGW+7vBqyvawfbkvcHTkc/BJumxQQK+wcHOHMHBtDbIwblKskEtf8/BhpmiwTRfB8I+IwLChBsHwsyEEMJTrwfChMMWwmN64cFLPtjBlVvZwY9q48F1+9/BcjTqwb6HGcJA7dHBc9/RwVmB48HlGN7BdwQUwsUF7sFwrxrC",
          "dtype": "f4"
         },
         "xaxis": "x",
         "y": {
          "bdata": "KZBbwTh8csEi4lLBH49ywUE5GsHZiE/BKNWuwGPOVMFHnDLBZpNLwb6CpMB4H13BUweSwFRTyMC0ldjAG66+wAowTMCbAIvADXB6wD0KYcBEY6/AhdOLwD/RzsBjZR/BtIwRwWR1ksCbsrPARyOewPQv18BvQSPB53TdwKADv8D7I6XA",
          "dtype": "f4"
         },
         "yaxis": "y"
        },
        {
         "customdata": [
          [
           ""
          ],
          [
           ""
          ],
          [
           ""
          ],
          [
           ""
          ],
          [
           ""
          ],
          [
           ""
          ],
          [
           ""
          ],
          [
           ""
          ],
          [
           ""
          ],
          [
           ""
          ],
          [
           ""
          ],
          [
           ""
          ],
          [
           ""
          ],
          [
           ""
          ],
          [
           ""
          ],
          [
           ""
          ],
          [
           ""
          ],
          [
           ""
          ],
          [
           ""
          ],
          [
           ""
          ],
          [
           ""
          ],
          [
           ""
          ],
          [
           ""
          ],
          [
           ""
          ],
          [
           ""
          ],
          [
           ""
          ]
         ],
         "hovertemplate": "<b>%{hovertext}</b><br><a href='%{customdata[0]}' target='_blank'>open article ↗</a><extra></extra>",
         "hovertext": [
          "MLB Best Home Run Bets July 25",
          "MLB DFS: Best DraftKings, FanDuel daily Fantasy baseball picks, lineups, advice for Friday, July 25, 2025",
          "Today's best MLB pitcher strikeout props: Back Padres starter against Cardinals at plus odds",
          "MLB picks: Best bets for Friday's schedule, including Cubs taking care of crosstown rival",
          "MLB trade deadline rumors: Mets add bullpen help; Red Sox eye Dodgers rookie; closer '90%' sure he'll be moved",
          "Playing GM for the Blue Jays: Three MLB trade deadline moves for Toronto, including grabbing a pair of Pirates",
          "Playing GM for the Tigers: Three trade deadline moves AL favorites should make as they eye deep October run",
          "MLB Trade Deadline Tracker: Yankees a Good Bet to Win World Series with Ryan McMahon",
          "Josh Naylor traded to Mariners: Diamondbacks send first baseman to Seattle for two pitchers",
          "MLB trade deadline rumors: Yankees check in on Oneil Cruz; Eugenio Suárez sweepstakes heat up",
          "Mariners vs. Angels prediction, odds, props, best bets: Free 2025 MLB picks for Thursday, July 24",
          "Free MLB home run picks, odds, lines for July 24: Jose Altuve among best bets for Thursday HR player props",
          "MLB Best Home Run Bets July 24",
          "Blue Jays vs. Tigers prediction, odds, start time: 2025 MLB picks, best bets for July 24 by proven model",
          "Free MLB picks, predictions, best bets for Thursday, July 24: Back the Padres to upset the Cardinals",
          "Today's top games to watch, best bets, odds: Important WNBA matchup, MLB and more",
          "Free MLB player props, odds for July 24: Use Vladimir Guerrero, Cal Raleigh in Thursday MLB player props",
          "Diamondbacks admit trade deadline sale is 'responsible' decision: Which players could be on the move?",
          "NL East odds: Best bets as Mets retake division lead over Phillies with roller coaster race far from over",
          "MacKenzie Gore trade rumors: Three reasons why the Nationals are smart to listen to offers for their ace",
          "Playing GM for the Cubs: Three MLB trade deadline moves for Chicago after losing NL Central lead",
          "MLB trade deadline: Five burning questions for buyers, sellers and everyone in between with one week left",
          "Playing GM for the Red Sox: Three MLB trade deadline moves as Boston continues to surge without Rafael Devers",
          "Batting Around: Should MLB move the trade deadline or does July 31 make sense?",
          "Orioles vs. Guardians prediction, odds, start time: 2025 MLB picks, best bets for July 24 by proven model",
          "Playing GM for the Dodgers: Three trade deadline moves for reigning champions looking for World Series repeat"
         ],
         "legendgroup": "mlb",
         "marker": {
          "color": "#19d3f3",
          "opacity": 0.8,
          "size": 10,
          "symbol": "circle"
         },
         "mode": "markers",
         "name": "mlb",
         "orientation": "v",
         "showlegend": true,
         "type": "scatter",
         "x": {
          "bdata": "Gsv7Qfu3CEKEGg1CYnHrQTpKLUKspDpC4P5BQsr86EGSZCpC1uIvQn/iCkIb0gVCYOf4QXsSD0Ic0gVClvSrQTEwCkKfdS5C+O7gQYYAQUJ7Wj5CZMUyQi6xN0IK1TRCWz4RQqUcO0I=",
          "dtype": "f4"
         },
         "xaxis": "x",
         "y": {
          "bdata": "Jb0Lv2FPyD7cOt7Act2JvwFEGEH4Rw1BIrkEQbBrfj32fTlBlYUbQRaQcsDS/qW/NvRyv7ZYHr/OH4XAAuZlwKTVib8vPjFBX0sZwAp5N0G6qyZB9N40QYA8H0Eo1ElBhicVwNuHJEE=",
          "dtype": "f4"
         },
         "yaxis": "y"
        },
        {
         "customdata": [
          [
           ""
          ],
          [
           ""
          ],
          [
           ""
          ],
          [
           ""
          ],
          [
           ""
          ],
          [
           ""
          ],
          [
           ""
          ],
          [
           ""
          ],
          [
           ""
          ],
          [
           ""
          ],
          [
           ""
          ],
          [
           ""
          ],
          [
           ""
          ],
          [
           ""
          ],
          [
           ""
          ],
          [
           ""
          ],
          [
           ""
          ],
          [
           ""
          ],
          [
           ""
          ],
          [
           ""
          ],
          [
           ""
          ],
          [
           ""
          ],
          [
           ""
          ],
          [
           ""
          ],
          [
           ""
          ],
          [
           ""
          ],
          [
           ""
          ],
          [
           ""
          ],
          [
           ""
          ],
          [
           ""
          ]
         ],
         "hovertemplate": "<b>%{hovertext}</b><br><a href='%{customdata[0]}' target='_blank'>open article ↗</a><extra></extra>",
         "hovertext": [
          "UFC Fight Night odds, props, predictions, fight card: Whittaker vs. De Ridder picks, bets from proven expert",
          "UFC veteran Ben Askren leaves hospital after double lung transplant: 'That was a long journey'",
          "UFC 321 fight card: Tom Aspinall to make first title defense against Ciryl Gane in Abu Dhabi",
          "UFC 320 fight card: Alex Pereira, Merab Dvalishvili to headline October PPV in Las Vegas in separate fights",
          "UFC 319 -- Dricus du Plessis vs. Khamzat Chimaev: Fight card, date, odds, location, rumors, complete guide",
          "Jon Jones 'ready for whatever comes next' after Dana White shoots down his inclusion for UFC White House card",
          "2025 UFC event schedule: Robert Whittaker vs. Reinier de Ridder, Dricus du Plessis vs. Khamzat Chimaev on tap",
          "UFC 318 -- Dustin Poirier vs. Max Holloway 3: Results, winners, highlights, fight card, complete guide",
          "UFC 318 odds, props, predictions, fight card: Holloway vs. Poirier 3 picks, bets from proven MMA expert",
          "UFC 318 odds, lines, New Orleans predictions, time: Holloway vs. Poirier 3 picks from expert who's up $21,000",
          "UFC 318 predictions -- Dustin Poirier vs. Max Holloway 3: Fight card, odds, prelims, preview, expert picks",
          "Today's top games to watch, best bets, odds: MLB, WNBA All-Star Game, UFC and more",
          "Dustin Poirier gets to walk off into the sunset as one of MMA's rare good guys: 'I'm just living my life'",
          "Dustin Poirier retirement: Islam Makhachev, Justin Gaethje and more remember legacy of 'The Diamond'",
          "Sean Strickland suspended by Nevada Athletic Commission after attacking regional fighter",
          "Former UFC fighter Diego Sanchez arrested for felony gun charge after shooting",
          "Today's top games to watch, best bets, odds: MLB returns with full slate, WNBA All-Star activities and more",
          "UFC legend Randy Couture released from burn center after serious car crash while training for NHRA debut",
          "UFC 318 fight card: Paulo Costa vs. Roman Kopylov among top undercard fights to watch this weekend",
          "UFC 318 fight card -- Dustin Poirier vs. Max Holloway 3: Five biggest storylines to watch for in New Orleans",
          "UFC Fight Night results, highlights: Derrick Lewis batters Tallison Teixeira for first-round knockout",
          "UFC Fight Night odds, lines, Nashville predictions, time: Lewis vs. Teixeira picks by proven MMA expert",
          "UFC Fight Night prediction -- Derrick Lewis vs. Tallison Teixeira: Card, start time, odds, where to watch",
          "Today's top games to watch, best bets, odds: Phillies vs. Padres leads MLB action, UFC Fight Night and more",
          "UFC star Jon Jones faces additional criminal charges stemming from February car accident, per report",
          "Ben Askren shares health update after pneumonia, double lung transplant: 'I only died four times'",
          "UFC legend Randy Couture airlifted to burn center after car crash",
          "UFC confirms President Donald Trump's plans for White House fight card; Conor McGregor says 'count me in'",
          "UFC Pound-for-Pound Fighter Rankings: Ilia Topuria passes Islam Makhachev for top spot; Jon Jones removed",
          "Former UFC fighter Ben Askren undergoes double lung transplant after pneumonia hospitalization"
         ],
         "legendgroup": "mma",
         "marker": {
          "color": "#FF6692",
          "opacity": 0.8,
          "size": 10,
          "symbol": "circle"
         },
         "mode": "markers",
         "name": "mma",
         "orientation": "v",
         "showlegend": true,
         "type": "scatter",
         "x": {
          "bdata": "iBgqQf3HsMBfkuBALXvrQAnBA0HvjEJACo4PQfHbhEDrFsdAssDIQLV5qkAhma1Bi+9cQHlqfUCMinE+q76XPxbMr0Ghh73ArHubQGLwsUD/djNBNddCQbirP0F9oqxBJ2MfQPofm8DusL3Ar8JXQDyoGEG5rJfA",
          "dtype": "f4"
         },
         "xaxis": "x",
         "y": {
          "bdata": "+lcUwqFFCML6EybCYmkiwkZ+HMKumC7C0yMawpjZEsKhdQ3CgJwMwihyD8LR4tHAUOYLwgRMDcJWtDbCpmM5wq93UcCW6BjC7k8WwhDMFcJboSjCHZYkwgrFJcJi9fLALvUxwlQ8CcKp+BjCeyQswiA7P8J+HwfC",
          "dtype": "f4"
         },
         "yaxis": "y"
        },
        {
         "customdata": [
          [
           ""
          ],
          [
           ""
          ],
          [
           ""
          ],
          [
           ""
          ],
          [
           ""
          ],
          [
           ""
          ],
          [
           ""
          ],
          [
           ""
          ],
          [
           ""
          ],
          [
           ""
          ],
          [
           ""
          ],
          [
           ""
          ],
          [
           ""
          ],
          [
           ""
          ],
          [
           ""
          ],
          [
           ""
          ],
          [
           ""
          ],
          [
           ""
          ],
          [
           ""
          ],
          [
           ""
          ],
          [
           ""
          ],
          [
           ""
          ],
          [
           ""
          ],
          [
           ""
          ],
          [
           ""
          ],
          [
           ""
          ],
          [
           ""
          ],
          [
           ""
          ]
         ],
         "hovertemplate": "<b>%{hovertext}</b><br><a href='%{customdata[0]}' target='_blank'>open article ↗</a><extra></extra>",
         "hovertext": [
          "Spurs' Dylan Harper could make De'Aaron Fox expendable, per report",
          "Resetting the NBA offseason: Best free agents remaining, plus extension-eligible players and trade candidates",
          "Best fits for biggest names in NBA free agency: Ben Simmons to Knicks, Jonathan Kuminga leaves Warriors, more",
          "NBA stars realign as Michael Jordan, Carmelo Anthony lead names moving into media roles amid new TV deals",
          "Jonathan Kuminga in no hurry to re-sign with Warriors, won't accept Golden State's current deal, per report",
          "Suns' Jalen Green addresses Rockets departure after Kevin Durant trade, says Phoenix 'wants me to be me'",
          "Tyrese Haliburton wanted to walk off court like Kobe Bryant after tearing Achilles in NBA Finals",
          "Kyrie Irving reflects on time with Nets: Loyalty to Kevin Durant, lack of due diligence defined short stint",
          "Which NBA stars are playing in EuroBasket 2025? Luka Dončić, Giannis are in, Victor Wembanyama is out",
          "Nebraska QB Dylan Raiola likens relationship with Patrick Mahomes to that of Kobe Bryant, Michael Jordan",
          "Lance Stephenson regrets blowing in LeBron James' ear, and his hysterical story explains why",
          "Nuggets' Nikola Jokic agrees to grant rookie Yang Hansen's special request on one condition",
          "Four NBA reunions we'd like to see: LeBron James takes talents to South Beach, Kevin Durant returns to Thunder",
          "How Bradley Beal welcomed Chris Paul to Clippers with gracious gesture",
          "Lakers' Marcus Smart gives nod to Luka Dončić's recruiting skills for bringing him to L.A.: 'That meant a lot'",
          "Tyrese Haliburton received visit from Kevin Durant as he tries 'to get my mental right' amid Achilles recovery",
          "NBA summer league: Jazz forward Kyle Filipowski earns MVP honors after shining in Las Vegas",
          "Clippers' Chris Paul could sit behind James Harden, Kris Dunn with no playing time guarantees, per report",
          "Kyrie Irving questions whether NBA contracts should be public information: 'It could get a little intrusive'",
          "NBA front office rankings: OKC on top, Lakers and Mavericks low on list, new team falls behind Bulls at No. 30",
          "Celtics, Knicks, Suns among teams interested in Ben Simmons, per report",
          "NBA summer league: Five non-rookies who look ready for potential breakout seasons",
          "LeBron James 'had eyes' for Mavericks before picking up Lakers option, per report",
          "How the Clippers, who keep getting deeper, better and older, are zagging in youth-focused NBA",
          "Damian Lillard reflects on emotional reunion with Trail Blazers after Bucks release: 'Found my way back home'",
          "2025 NBA free agency tracker: Latest moves, player rankings as Chris Paul returns to Clippers",
          "Clippers continue to ace offseason as Chris Paul's homecoming rounds out roster",
          "NBA Las Vegas Summer League winners and losers: Yang Hansen turns heads, Lakers' Dalton Knecht struggles"
         ],
         "legendgroup": "nba",
         "marker": {
          "color": "#B6E880",
          "opacity": 0.8,
          "size": 10,
          "symbol": "circle"
         },
         "mode": "markers",
         "name": "nba",
         "orientation": "v",
         "showlegend": true,
         "type": "scatter",
         "x": {
          "bdata": "n7MjQXueOkEcFDVBmfWHQY7taUGR3OhAbAlpP78D0kCFAERBTgWawaWtm0CBJrlAMsu9QK4cMEHIBxtBSQQsP9bD90AUnChBzIL8P1QS+kDqWC9B5qHUQCLVD0HkUxVB0LylQL8VTUH8cA1BKU3yQA==",
          "dtype": "f4"
         },
         "xaxis": "x",
         "y": {
          "bdata": "kV8uQsgBMUJOBjNClqgyQeAxN0I6wT1CO6U4QjzdOEJUrShCueHyQcNhRkLWBiBCLHBJQqwCR0KGsFdCC+o3QpgpGEKXkUNC0CvcQW23M0KmvDhCeMscQuWdU0Kt/EBCf3dQQlmWMUK67j9CerIeQg==",
          "dtype": "f4"
         },
         "yaxis": "y"
        },
        {
         "customdata": [
          [
           ""
          ],
          [
           ""
          ],
          [
           ""
          ],
          [
           ""
          ],
          [
           ""
          ],
          [
           ""
          ],
          [
           ""
          ],
          [
           ""
          ],
          [
           ""
          ],
          [
           ""
          ],
          [
           ""
          ],
          [
           ""
          ],
          [
           ""
          ],
          [
           ""
          ],
          [
           ""
          ],
          [
           ""
          ],
          [
           ""
          ],
          [
           ""
          ]
         ],
         "hovertemplate": "<b>%{hovertext}</b><br><a href='%{customdata[0]}' target='_blank'>open article ↗</a><extra></extra>",
         "hovertext": [
          "Steelers sign Chuck Clark: Pittsburgh acquires veteran safety, former Raven during Day 2 of training camp",
          "Browns QB battle: Shedeur Sanders accepts underdog role even with limited first-team reps at training camp",
          "'We're not defending s---': The Eagles are reigning Super Bowl champions, but you wouldn't know it",
          "Raiders make surprising release that will lead to $35.2 million battle, plus takeaways from training camp",
          "Cleveland Browns QB Shedeur Sanders on speeding tickets: 'I really don't even drive like that much anymore'",
          "Best shape of his life? For 330-pound Jordan Davis, who weaned off liquid calories, this camp cliche is true",
          "Jordan Hicks, veteran linebacker and 2017 Eagles Super Bowl champion, retires after 10 NFL seasons",
          "2025 NFL jersey tracker: Here are all of the teams getting a new helmet or uniform for the upcoming season",
          "Justin Fields injury: Jets QB returns to practice one day after suffering dislocated toe",
          "Buccaneers GM Jason Licht wants to extend quarterback Baker Mayfield when 'the time is right'",
          "2025 NFL training camp takeaways: Chiefs adding needed wrinkle to offense, Kyle Pitts back in Falcons' plans",
          "Jared Verse explains why working out with Rams legend Aaron Donald made him want to 'call the police'",
          "Explaining Christian Wilkins' Raiders release: What happened, how do the finances work, and what's next?",
          "Raiders release Christian Wilkins: Franchise reportedly voiding DT's contract amid dispute over foot injury",
          "Steelers training camp: Aaron Rodgers shrugs off rocky first practice; 'Good to get that out of the way'",
          "Predicting Eagles 53-man roster, depth chart after first two days of training camp",
          "Michael Penix Jr. says Falcons' offense 'should be the best in the league ... unstoppable'",
          "Browns GM Andrew Berry addresses Shedeur Sanders' speeding violations: 'Just not smart'"
         ],
         "legendgroup": "nfl",
         "marker": {
          "color": "#FF97FF",
          "opacity": 0.8,
          "size": 10,
          "symbol": "circle"
         },
         "mode": "markers",
         "name": "nfl",
         "orientation": "v",
         "showlegend": true,
         "type": "scatter",
         "x": {
          "bdata": "/14Ewgs01cGUx8PB70n6wfZl18GPeszBbrHNwe8eFMJyTP7BHGP+wWKc58GlFMbBgOryweWa8MEbAwDCSyzZwbQF3cHAU9bB",
          "dtype": "f4"
         },
         "xaxis": "x",
         "y": {
          "bdata": "3sQHQvcrzkG4SgZCm4f6QTdPxEEezv1BDS6EQb+VBEKz6/BBbJu1Qdgn+EG9gvpBD0krQroBLELA4AJChHf9QaOyCEIUiMlB",
          "dtype": "f4"
         },
         "yaxis": "y"
        },
        {
         "customdata": [
          [
           ""
          ],
          [
           ""
          ],
          [
           ""
          ],
          [
           ""
          ],
          [
           ""
          ],
          [
           ""
          ],
          [
           ""
          ],
          [
           ""
          ],
          [
           ""
          ],
          [
           ""
          ],
          [
           ""
          ],
          [
           ""
          ],
          [
           ""
          ],
          [
           ""
          ],
          [
           ""
          ],
          [
           ""
          ],
          [
           ""
          ],
          [
           ""
          ],
          [
           ""
          ],
          [
           ""
          ],
          [
           ""
          ],
          [
           ""
          ],
          [
           ""
          ],
          [
           ""
          ],
          [
           ""
          ],
          [
           ""
          ],
          [
           ""
          ],
          [
           ""
          ],
          [
           ""
          ],
          [
           ""
          ],
          [
           ""
          ],
          [
           ""
          ],
          [
           ""
          ]
         ],
         "hovertemplate": "<b>%{hovertext}</b><br><a href='%{customdata[0]}' target='_blank'>open article ↗</a><extra></extra>",
         "hovertext": [
          "Hockey Canada trial verdict: Five junior team players found not guilty in 2018 encounter",
          "LOOK: Oilers stars Connor McDavid, Leon Draisaitl suit up in beer league game",
          "Goaltender Jaroslav Halak retires after 17 years in the NHL, two years removed from last game",
          "NHL schedule release: Ranking the 10 most anticipated games of the 2025-26 season",
          "2025-26 NHL schedule release: Panthers to raise Stanley Cup banner vs. Blackhawks on opening night",
          "NHL free agency tracker: Bowen Byram re-signs with Sabres amidst trade speculation",
          "Mario Lemieux-led ownership group is 'very interested' in buying back the Penguins, per report",
          "WATCH: NHL legend Joe Pavelski seals American Century Championship win with walk-off eagle putt",
          "NHL offseason grades: Panthers conduct masterclass, Golden Knights swing for fences",
          "Gavin McKenna, projected No. 1 pick in 2026 NHL Draft, commits to play at Penn State in 2025-26",
          "Paolo Banchero gets paid; why the NCAA Tournament field should stay at 68; Wimbledon shocker",
          "2026 Stanley Cup odds: Panthers project as favorites again, Mitch Marner makes Golden Knights attractive",
          "NHL Power Rankings: Reigning champion Panthers remain team to beat after draft, free agency",
          "IIHF finalizes agreement for NHL players to compete in Olympics for the first time in 12 years, what it means",
          "NHL free agency: Connor McDavid, Jack Eichel among superstars who could hit the market in 2026",
          "K'Andre Miller trade grades: Hurricanes banking on return to form from star defenseman after deal with Rangers",
          "NHL coaching carousel 2025: Stars hire Glen Gulutzan to replace Peter DeBoer",
          "Mitch Marner trade: How Maple Leafs can replace void left by star winger",
          "Noah Dobson trade: Canadiens earn high marks in deal for star defenseman from Islanders",
          "2025 NHL Draft props: Best bets, odds for top-five selections",
          "NHL free agency 2025 predictions: Top 10 players set to hit the open market and their projected landing spots",
          "JJ Peterka trade grades: Mammoth add dynamic young scorer, Sabres bet big on Michael Kesselring",
          "NHL trade rumors: Jason Robertson, Marco Rossi among notable players who could be dealt at 2025 NHL Draft",
          "NHL considering 84-game season in CBA negotiations, per report",
          "Hockey Hall of Fame class of 2025: Zdeno Chara, Joe Thornton headline this year's inductees",
          "Trevor Zegras traded to Flyers: Grades for Philadelphia, Anaheim Ducks with deal made just before NHL Draft",
          "NHL free agency 2025: Five best landing spots for Mitch Marner, the most coveted player available",
          "Jonathan Toews to sign with Jets: Longtime Blackhawks star, Stanley Cup winner attempting comeback",
          "Buss family sells Lakers to Mark Walter for record $10 billion valuation; Top 100 prospects for NBA Draft",
          "After another Stanley Cup Final loss, how can Oilers finally get over the hump and end Canada's Cup drought?",
          "Panthers have transformed 'culture' from cliché into catalyst behind back-to-back Stanley Cup runs",
          "Panthers celebrate second straight Stanley Cup championship with epic outing at Fort Lauderdale bar",
          "Connor McDavid says Oilers 'banging our heads against the wall' after second straight Stanley Cup Final loss"
         ],
         "legendgroup": "nhl",
         "marker": {
          "color": "#FECB52",
          "opacity": 0.8,
          "size": 10,
          "symbol": "circle"
         },
         "mode": "markers",
         "name": "nhl",
         "orientation": "v",
         "showlegend": true,
         "type": "scatter",
         "x": {
          "bdata": "kZfJQeIr20GO9aBBJT66QdmVs0FJ6OpBJAzjQTPB18E9x+pB0hTYQcBQgkGVUM1BAlHHQSZgvEE7nNpBFdX6Qa/79EGV0NFBJYH0Qbsm3UFWT+JBTFv6QYGn3EE5YatBQkC1Qa5d7UHIAc9BgNr5QXKndkF1uNVBB63pQVoj6kGdtdVB",
          "dtype": "f4"
         },
         "xaxis": "x",
         "y": {
          "bdata": "pTjeQbv87EFTdNlBejsAQtECAUKaFQtCjCUCQs9s3cEg6w1Cud0dQs9MEkFj7gJCmO4GQtc09kGAMgVCkRwbQhLY/kH2NhBCpYgaQgtyGkL9BA1C7XgSQqd8C0I5lQJC68jpQUWQE0KukxBC4IQJQgr1HEH+uPpBy1nUQfnp00GHtOlB",
          "dtype": "f4"
         },
         "yaxis": "y"
        },
        {
         "customdata": [
          [
           ""
          ],
          [
           ""
          ],
          [
           ""
          ],
          [
           ""
          ],
          [
           ""
          ],
          [
           ""
          ],
          [
           ""
          ],
          [
           ""
          ],
          [
           ""
          ],
          [
           ""
          ],
          [
           ""
          ],
          [
           ""
          ],
          [
           ""
          ],
          [
           ""
          ],
          [
           ""
          ],
          [
           ""
          ],
          [
           ""
          ],
          [
           ""
          ],
          [
           ""
          ],
          [
           ""
          ],
          [
           ""
          ],
          [
           ""
          ],
          [
           ""
          ],
          [
           ""
          ],
          [
           ""
          ],
          [
           ""
          ],
          [
           ""
          ],
          [
           ""
          ],
          [
           ""
          ],
          [
           ""
          ],
          [
           ""
          ],
          [
           ""
          ],
          [
           ""
          ],
          [
           ""
          ]
         ],
         "hovertemplate": "<b>%{hovertext}</b><br><a href='%{customdata[0]}' target='_blank'>open article ↗</a><extra></extra>",
         "hovertext": [
          "Liverpool vs. Milan prediction, where to watch, live stream: TV channel, start time for preseason friendly",
          "Worst transfers in USMNT history: Which moves backfired for U.S. Soccer's stars seeking bigger opportunities?",
          "Ranking all the 2025-26 Serie A managers: Antonio Conte at the top, Massimiliano Allegri, Maurizio Sarri, more",
          "How Evander's 'magic' powers FC Cincinnati: 'When you come from Brazil, there are a lot of expectations'",
          "England, Spain renew rivalry in Sunday's Women's Euro final; Preseason underway for Liverpool, Arsenal, Milan",
          "Five transfers you may have missed during Club World Cup: Real Madrid, Chelsea, Atletico make summer moves",
          "Alexander Isak to Liverpool? Newcastle United star reportedly wants to leave as he misses preseason tour",
          "How Hugo Ekitike fits in at Liverpool: PSG castoff fills striker need as Arne Slot and company go all in",
          "Spain into Women's Euro final after edging Germany: Here's what England must do to stop World Cup champs",
          "2025 MLS All-Star Game prediction, odds, start time: MLS vs. Liga MX picks from proven soccer expert",
          "Germany vs. Spain prediction, odds, start time: 2025 UEFA Women's Euro semifinal picks for Wednesday, July 23",
          "MLS All-Stars vs. Liga MX All-Stars, where to watch, live stream: Lionel Messi not named to final roster",
          "Arsenal's friendly vs. Milan shows why Viktor Gyokeres could be the Gunners' missing piece",
          "England stage another late comeback to reach Women's Euro finals; Spain and Germany meet Wednesday in semis",
          "Spain vs. Germany live stream: Where to watch UEFA women's Euro semifinal, prediction, odds, pick",
          "Where to watch Arsenal vs. Milan: Mikel Arteta concerned about squad depth; Massimo Allegri targets UCL",
          "As England advance to Euro 2025 final, Sarina Wiegman and Lionesses must stop playing with fire",
          "USMNT 2026 World Cup roster projection: Christian Pulisic is in, but some familiar faces may be in big trouble",
          "England vs. Italy live stream: Where to watch Women's Euro semifinals, odds, prediction, pick, lineups",
          "England vs. Italy prediction, odds, start time: 2025 UEFA Women's Euro semifinal picks for Tuesday, July 22",
          "Thomas Muller explains why World Cup glory with Germany was sweetest of his many career trophies",
          "Manchester United Keep or Sell: Can Ruben Amorim's side rebuild before the end of the transfer window?",
          "Barcelona's stadium drama explained: Camp Nou returned delayed yet again over permitting issues",
          "Four players to watch in UEFA Women's Euro semifinals: England's Lauren James, Spain's Claudia Pina and more",
          "England soccer star Paul Gascoigne reportedly out of hospital after early morning collapse",
          "Women's Euros hits semifinals as England face underdogs side Italy with winner of Germany vs. Spain looming",
          "UEFA Women's Euro semifinals schedule: England, Spain, Germany, Italy faceoff in semis ahead of Sunday final",
          "USWNT storylines for 2025: Fresh faces, veterans to battle for playing time under Emma Hayes?",
          "Ranking Women's Euro semifinalists: World Cup winners Spain lead the pack, Italy punch above weight",
          "Ranking potential Euro 2025 finals: England, Spain, Germany and Italy provide thrilling possibilities",
          "Inter Miami vs. New York Red Bulls prediction, odds: Free MLS picks, Messi bets for July 19 by soccer expert",
          "Arsenal all in with huge transfer window; Will USMNT's Gio Reyna go to Serie A as he looks for Dortmund exit?",
          "USL Jagermeister Cup draw: How to watch the quarterfinal draw, everything to know about the competition",
          "Inside Arsenal's aggressive transfer window: Shrewd moves, big-money transfers have Gunners going all in"
         ],
         "legendgroup": "soccer",
         "marker": {
          "color": "#636efa",
          "opacity": 0.8,
          "size": 10,
          "symbol": "circle"
         },
         "mode": "markers",
         "name": "soccer",
         "orientation": "v",
         "showlegend": true,
         "type": "scatter",
         "x": {
          "bdata": "8As9v8gMEUCMJEfAXX4wQdVMXD9rMgTAG8Wfv164fL+lvbM/ZsZPQSMNB0B6LkdBurtAwFfxAT9SCLg/5Anqv8BfDj6LLi5AVcyyP+47oD+EgQ7CSsOYPNuGl8GbzD4/H6jewGVg7T9Mk6i/JZRDQDWiaL4wxhE+JdNnQbrjD0C0ml5A1AowwA==",
          "dtype": "f4"
         },
         "xaxis": "x",
         "y": {
          "bdata": "C4hoPTCUxkAOEM5AaqZjwPHqGMCxs49Acz4lQPl3EEDIMBfBQNBywGMTP8H5X2TAbI6QPz+5F8AQ1DTBQlSrvjMqCsHoa59AYKKnwLuz0sAZGB/BcyCGQEnVhMDkiyTBOWIIwtIud8B0nSTBkSWVQPyhJcFPuxzBYjeMwDr+VcDZPEDA1hXDPw==",
          "dtype": "f4"
         },
         "yaxis": "y"
        },
        {
         "customdata": [
          [
           ""
          ],
          [
           ""
          ],
          [
           ""
          ],
          [
           ""
          ],
          [
           ""
          ],
          [
           ""
          ],
          [
           ""
          ],
          [
           ""
          ],
          [
           ""
          ],
          [
           ""
          ],
          [
           ""
          ],
          [
           ""
          ],
          [
           ""
          ],
          [
           ""
          ],
          [
           ""
          ],
          [
           ""
          ],
          [
           ""
          ],
          [
           ""
          ],
          [
           ""
          ],
          [
           ""
          ],
          [
           ""
          ],
          [
           ""
          ],
          [
           ""
          ],
          [
           ""
          ],
          [
           ""
          ],
          [
           ""
          ],
          [
           ""
          ],
          [
           ""
          ],
          [
           ""
          ],
          [
           ""
          ],
          [
           ""
          ],
          [
           ""
          ],
          [
           ""
          ],
          [
           ""
          ]
         ],
         "hovertemplate": "<b>%{hovertext}</b><br><a href='%{customdata[0]}' target='_blank'>open article ↗</a><extra></extra>",
         "hovertext": [
          "Venus Williams vs. Magdalena Frech odds, prediction, start time: Expert releases free 2025 Citi DC Open picks",
          "Tennis legend Venus Williams wins first singles match since 2023, delivers nine aces",
          "Revisiting Serena Williams vs. Venus Williams: Here's who has the edge in the legendary sibling rivalry",
          "Venus Williams vs. Peyton Stearns odds, prediction, start time: Expert releases free 2025 Citi DC Open picks",
          "A Serena Williams comeback? Sister Venus Williams won't rule it out amid her own return to tennis court at 45",
          "Jannik Sinner becomes first Italian man to win Wimbledon; PSG's loses ugly in FIFA Club World Cup final",
          "Jannik Sinner takes Wimbledon: The winning formula to oust Carlos Alcaraz after French Open collapse",
          "2025 Wimbledon prize money, payouts: Jannik Sinner, Iga Swiatek earn more than $4 million for wins in London",
          "2025 Wimbledon men's final odds, predictions, time: Sinner vs. Alcaraz picks, bets from proven tennis expert",
          "Wimbledon 2025 results: Iga Świątek makes history vs. Amanda Anisimova with 6-0, 6-0 win for sixth major",
          "Meet Amanda Anisimova, America's best shot at a Wimbledon championship since Serena Williams",
          "Swiatek vs. Anisimova odds, prediction, props, time: Expert reveals free 2025 Wimbledon women's final picks",
          "Venus Williams accepts wild-card invitation to play in DC Open, ex-world No. 1's first event in over a year",
          "2025 Wimbledon results: Jannik Sinner dominates hobbled Novak Djokovic, sets up final with Carlos Alcaraz",
          "Wimbledon 2025 results: Carlos Alcaraz takes down top American Taylor Fritz to reach third straight final",
          "2025 Wimbledon men's semifinal odds, predictions, time: Djokovic vs. Sinner picks from proven tennis expert",
          "Carlos Alcaraz vs. Taylor Fritz odds, prediction, props: Expert reveals free 2025 Wimbledon semifinal picks",
          "Wimbledon 2025 -- Men's semifinals: Schedule, start time, matches, odds, where to watch, live stream",
          "Wimbledon 2025 results: Amanda Anisimova upsets No. 1 Aryna Sabalenka to reach first Grand Slam final",
          "Novak Djokovic injury update: Serbian star cancels pre-semifinal practice at Wimbledon after 'nasty slip'",
          "2025 Wimbledon women's semifinal odds, predictions, time: Swiatek vs. Bencic picks from proven tennis expert",
          "Aryna Sabalenka vs. Amanda Anisimova odds, prediction: Expert reveals free 2025 Wimbledon semifinal picks",
          "Wimbledon 2025 results, takeaways: Jannik Sinner outclasses American Ben Shelton to reach semifinals",
          "Caitlin Clark to return from injury; our 2025 college football Hot Seat Rankings; NFL All-Quarter Century Team",
          "Novak Djokovic vs. Flavio Cobolli odds, prediction: Expert reveals free 2025 Wimbledon quarterfinal picks",
          "Aryna Sabalenka vs. Laura Siegemund odds, prediction: Expert reveals free 2025 Wimbledon quarterfinal picks",
          "Wimbledon 2025 results: Jannik Sinner advances to quarterfinals after injury forces Grigor Dimitrov to retire",
          "2025 Wimbledon picks, odds for July 6: Expert reveals free Sunday tennis bets, upsets, predictions",
          "2025 Wimbledon picks, odds for July 5: Expert reveals free Saturday tennis bets, upsets, predictions",
          "2025 Wimbledon picks, odds for July 4: Expert reveals free Friday tennis bets, upsets, predictions",
          "Wimbledon 2025 results: Taylor Fritz, Madison Keys among remaining Americans after sluggish opening rounds",
          "2025 Wimbledon picks, odds for July 3: Expert reveals free Thursday tennis bets, upsets, predictions",
          "Why Damian Lillard is big winner after Bucks release; Fever claim Commissioner's Cup without Caitlin Clark",
          "Coco Gauff blames early Wimbledon exit on being 'mentally overwhelmed' after French Open title"
         ],
         "legendgroup": "tennis",
         "marker": {
          "color": "#EF553B",
          "opacity": 0.8,
          "size": 10,
          "symbol": "circle"
         },
         "mode": "markers",
         "name": "tennis",
         "orientation": "v",
         "showlegend": true,
         "type": "scatter",
         "x": {
          "bdata": "6cc3Qol4O0JYcTZC4tc3QvILOELimFRBr3UpQtT8F0It6ytCR/0UQut+EUIuFx9CKzs5Qoe9J0LNjiNCteQvQq8EJ0KVjyJC5VoTQmVPMUKVaSFCv+IhQiLULEJ/JntB9gk2QmApJELVqC5CEQwqQvCXMEIc1ClCM3cPQs+jMEL+lGpBb90LQg==",
          "dtype": "f4"
         },
         "xaxis": "x",
         "y": {
          "bdata": "2nm6wW6do8Egy5rBydC6wfo/nMEtPuhAFKoGwoSCucFtG/vBz6fBwRAZycEpfsPBP+mkwf4cBMJ1NgLCPG75wY3Z8sGHFfrB4A3IwVIkBMIDLL/BGjDKwTIaDcKQIQJBx8jlwTYNzsH+yg3CDt7gwaWh6MHx4ubBvhDTwYOa5cEh5wdBRO/QwQ==",
          "dtype": "f4"
         },
         "yaxis": "y"
        },
        {
         "customdata": [
          [
           ""
          ],
          [
           ""
          ],
          [
           ""
          ],
          [
           ""
          ],
          [
           ""
          ],
          [
           ""
          ],
          [
           ""
          ],
          [
           ""
          ],
          [
           ""
          ],
          [
           ""
          ],
          [
           ""
          ],
          [
           ""
          ],
          [
           ""
          ],
          [
           ""
          ],
          [
           ""
          ],
          [
           ""
          ],
          [
           ""
          ],
          [
           ""
          ],
          [
           ""
          ],
          [
           ""
          ],
          [
           ""
          ],
          [
           ""
          ],
          [
           ""
          ],
          [
           ""
          ],
          [
           ""
          ],
          [
           ""
          ],
          [
           ""
          ],
          [
           ""
          ],
          [
           ""
          ],
          [
           ""
          ],
          [
           ""
          ],
          [
           ""
          ],
          [
           ""
          ],
          [
           ""
          ]
         ],
         "hovertemplate": "<b>%{hovertext}</b><br><a href='%{customdata[0]}' target='_blank'>open article ↗</a><extra></extra>",
         "hovertext": [
          "Dwayne 'The Rock' Johnson pays tribute to Hulk Hogan after legend's death: 'Thank you for the house, brother'",
          "Pro wrestling's greatest star, Hulk Hogan leaves indelible yet complicated legacy behind",
          "Hulk Hogan dies at 71: Vince McMahon, Ric Flair, Triple H, Jake Roberts and more mourn death of WWE icon",
          "Hulk Hogan dies at 71: Most famous professional wrestler in history suffers cardiac arrest at home in Florida",
          "Hulk Hogan dies at 71: Remembering the iconic wrestler's five biggest in-ring moments over storied career",
          "Bianca Belair offers uncertain finger injury update ahead of WWE SummerSlam: 'We might have time'",
          "WATCH: WWE star AJ Styles makes highly anticipated TNA return at Slammiversary",
          "2025 WWE SummerSlam card, date, matches, rumors, match card, predictions, start time, location",
          "Paul Heyman reflects on legacy of Bray Wyatt, the wrestler who 'made us all look bad' before unexpected death",
          "Seth Rollins injury: Paul Heyman reacts after WWE Saturday Night's Main Event setback",
          "Jelly Roll chokeslams Logan Paul through desk on 'Jimmy Kimmel Live!'",
          "Seth Rollins injury update: 'Extended' absence expected after awkward landing at Saturday Night's Main Event",
          "Goldberg expresses frustration with WWE's handling of final match, farewell speech: 'You don't do that'",
          "WWE schedule, list of PPV events for 2025: SummerSlam date, location, start time, where to watch",
          "WWE Evolution 2025 predictions, start time, date, card, matches, where to watch, location, expert picks",
          "WATCH: George Kittle delivers 'sweet chin music' on The Miz during American Century Golf Championship",
          "2025 WWE Evolution card, date, matches, match card, start time, rumors, location, where to watch",
          "Raquel Rodriguez heeds critiques of Kevin Nash before WWE Evolution: 'I fully take that to heart'",
          "Goldberg says only Bron Breakker should use the spear in WWE: 'That's the truth'",
          "2025 WWE Saturday Night's Main Event card, date, matches, rumors, card, start time, match card, location",
          "WWE Saturday Night's Main Event 2025 predictions, start time, card, date, where to watch, matches, location",
          "Inside Goldberg's 'tumultuous' week: Lead-up to WWE retirement vs. Gunther hampered by tragedy, injury",
          "2025 WWE Night of Champions start time, live stream, where to watch online, card, matches",
          "2025 WWE Night of Champions card, date, matches, latest news, location, rumors, match card, latest news",
          "WWE Night of Champions 2025 predictions, expert picks, card, matches, start time, PPV preview, location, date",
          "Mark Henry embraces WWE's 'nepo babies' as second generation stars emerge: 'Why would you not emphasize it?'",
          "Kevin Owens experiencing 'brutal' neck, spinal cord injury symptoms, targets summer surgery",
          "49ers star George Kittle 'would love to' join WWE in some capacity once he retires from NFL",
          "Undertaker confirms talks to join WWE creative team, wife Michelle McCool becomes fellow 'WWE LFG' coach",
          "WWE news, rumors: Liv Morgan suffers apparent shoulder injury, Goldberg returns on Raw to confront Gunther",
          "Logan Paul says John Cena warned him against performing dangerous move at WWE Money in the Bank",
          "Mya Lesnar, daughter of WWE and UFC star Brock Lesnar, wins NCAA national title for shot put",
          "Watch as WWE champion Tiffany Stratton becomes latest entry to infamous ceremonial first pitch list",
          "WWE WrestleMania 42 location: Promotion announces return to Las Vegas for second straight year"
         ],
         "legendgroup": "wwe",
         "marker": {
          "color": "#00cc96",
          "opacity": 0.8,
          "size": 10,
          "symbol": "circle"
         },
         "mode": "markers",
         "name": "wwe",
         "orientation": "v",
         "showlegend": true,
         "type": "scatter",
         "x": {
          "bdata": "VaiFwd4GlME464zBpxuPwX89hsEIgdLBuEWwwW66rcFzab3BxVXFwWv8wsE1+srBwHCZwZELpMF3x73BfE3Swch5usFoFsbB8AqWwXuQmME97ZjBerOZwbWmqcE/cbDBdMu0wV5gsMHvzdTBfbfRwa8qzcH7SdfBDze7wVZLi0ERqoFB/v2YwQ==",
          "dtype": "f4"
         },
         "xaxis": "x",
         "y": {
          "bdata": "w6gLwlTfCsIy3QbC34AJwt2qCML+NjXCGu8qwgm2MsL+5h3CezIhwrucK8L5uSHCLDoXwoucM8K2hTvC4ujuwQ8mP8IJiz/CDHkcwi8RKMJpwijCbBoZwtoYOcJnHTfC0ag3wgYRGcKMIyHCE6zwwce+L8L5jTfCSq4mwhMkKMIBKWBA2l01wg==",
          "dtype": "f4"
         },
         "yaxis": "y"
        }
       ],
       "layout": {
        "legend": {
         "title": {
          "text": "feed"
         },
         "tracegroupgap": 0
        },
        "template": {
         "data": {
          "bar": [
           {
            "error_x": {
             "color": "#2a3f5f"
            },
            "error_y": {
             "color": "#2a3f5f"
            },
            "marker": {
             "line": {
              "color": "#E5ECF6",
              "width": 0.5
             },
             "pattern": {
              "fillmode": "overlay",
              "size": 10,
              "solidity": 0.2
             }
            },
            "type": "bar"
           }
          ],
          "barpolar": [
           {
            "marker": {
             "line": {
              "color": "#E5ECF6",
              "width": 0.5
             },
             "pattern": {
              "fillmode": "overlay",
              "size": 10,
              "solidity": 0.2
             }
            },
            "type": "barpolar"
           }
          ],
          "carpet": [
           {
            "aaxis": {
             "endlinecolor": "#2a3f5f",
             "gridcolor": "white",
             "linecolor": "white",
             "minorgridcolor": "white",
             "startlinecolor": "#2a3f5f"
            },
            "baxis": {
             "endlinecolor": "#2a3f5f",
             "gridcolor": "white",
             "linecolor": "white",
             "minorgridcolor": "white",
             "startlinecolor": "#2a3f5f"
            },
            "type": "carpet"
           }
          ],
          "choropleth": [
           {
            "colorbar": {
             "outlinewidth": 0,
             "ticks": ""
            },
            "type": "choropleth"
           }
          ],
          "contour": [
           {
            "colorbar": {
             "outlinewidth": 0,
             "ticks": ""
            },
            "colorscale": [
             [
              0,
              "#0d0887"
             ],
             [
              0.1111111111111111,
              "#46039f"
             ],
             [
              0.2222222222222222,
              "#7201a8"
             ],
             [
              0.3333333333333333,
              "#9c179e"
             ],
             [
              0.4444444444444444,
              "#bd3786"
             ],
             [
              0.5555555555555556,
              "#d8576b"
             ],
             [
              0.6666666666666666,
              "#ed7953"
             ],
             [
              0.7777777777777778,
              "#fb9f3a"
             ],
             [
              0.8888888888888888,
              "#fdca26"
             ],
             [
              1,
              "#f0f921"
             ]
            ],
            "type": "contour"
           }
          ],
          "contourcarpet": [
           {
            "colorbar": {
             "outlinewidth": 0,
             "ticks": ""
            },
            "type": "contourcarpet"
           }
          ],
          "heatmap": [
           {
            "colorbar": {
             "outlinewidth": 0,
             "ticks": ""
            },
            "colorscale": [
             [
              0,
              "#0d0887"
             ],
             [
              0.1111111111111111,
              "#46039f"
             ],
             [
              0.2222222222222222,
              "#7201a8"
             ],
             [
              0.3333333333333333,
              "#9c179e"
             ],
             [
              0.4444444444444444,
              "#bd3786"
             ],
             [
              0.5555555555555556,
              "#d8576b"
             ],
             [
              0.6666666666666666,
              "#ed7953"
             ],
             [
              0.7777777777777778,
              "#fb9f3a"
             ],
             [
              0.8888888888888888,
              "#fdca26"
             ],
             [
              1,
              "#f0f921"
             ]
            ],
            "type": "heatmap"
           }
          ],
          "histogram": [
           {
            "marker": {
             "pattern": {
              "fillmode": "overlay",
              "size": 10,
              "solidity": 0.2
             }
            },
            "type": "histogram"
           }
          ],
          "histogram2d": [
           {
            "colorbar": {
             "outlinewidth": 0,
             "ticks": ""
            },
            "colorscale": [
             [
              0,
              "#0d0887"
             ],
             [
              0.1111111111111111,
              "#46039f"
             ],
             [
              0.2222222222222222,
              "#7201a8"
             ],
             [
              0.3333333333333333,
              "#9c179e"
             ],
             [
              0.4444444444444444,
              "#bd3786"
             ],
             [
              0.5555555555555556,
              "#d8576b"
             ],
             [
              0.6666666666666666,
              "#ed7953"
             ],
             [
              0.7777777777777778,
              "#fb9f3a"
             ],
             [
              0.8888888888888888,
              "#fdca26"
             ],
             [
              1,
              "#f0f921"
             ]
            ],
            "type": "histogram2d"
           }
          ],
          "histogram2dcontour": [
           {
            "colorbar": {
             "outlinewidth": 0,
             "ticks": ""
            },
            "colorscale": [
             [
              0,
              "#0d0887"
             ],
             [
              0.1111111111111111,
              "#46039f"
             ],
             [
              0.2222222222222222,
              "#7201a8"
             ],
             [
              0.3333333333333333,
              "#9c179e"
             ],
             [
              0.4444444444444444,
              "#bd3786"
             ],
             [
              0.5555555555555556,
              "#d8576b"
             ],
             [
              0.6666666666666666,
              "#ed7953"
             ],
             [
              0.7777777777777778,
              "#fb9f3a"
             ],
             [
              0.8888888888888888,
              "#fdca26"
             ],
             [
              1,
              "#f0f921"
             ]
            ],
            "type": "histogram2dcontour"
           }
          ],
          "mesh3d": [
           {
            "colorbar": {
             "outlinewidth": 0,
             "ticks": ""
            },
            "type": "mesh3d"
           }
          ],
          "parcoords": [
           {
            "line": {
             "colorbar": {
              "outlinewidth": 0,
              "ticks": ""
             }
            },
            "type": "parcoords"
           }
          ],
          "pie": [
           {
            "automargin": true,
            "type": "pie"
           }
          ],
          "scatter": [
           {
            "fillpattern": {
             "fillmode": "overlay",
             "size": 10,
             "solidity": 0.2
            },
            "type": "scatter"
           }
          ],
          "scatter3d": [
           {
            "line": {
             "colorbar": {
              "outlinewidth": 0,
              "ticks": ""
             }
            },
            "marker": {
             "colorbar": {
              "outlinewidth": 0,
              "ticks": ""
             }
            },
            "type": "scatter3d"
           }
          ],
          "scattercarpet": [
           {
            "marker": {
             "colorbar": {
              "outlinewidth": 0,
              "ticks": ""
             }
            },
            "type": "scattercarpet"
           }
          ],
          "scattergeo": [
           {
            "marker": {
             "colorbar": {
              "outlinewidth": 0,
              "ticks": ""
             }
            },
            "type": "scattergeo"
           }
          ],
          "scattergl": [
           {
            "marker": {
             "colorbar": {
              "outlinewidth": 0,
              "ticks": ""
             }
            },
            "type": "scattergl"
           }
          ],
          "scattermap": [
           {
            "marker": {
             "colorbar": {
              "outlinewidth": 0,
              "ticks": ""
             }
            },
            "type": "scattermap"
           }
          ],
          "scattermapbox": [
           {
            "marker": {
             "colorbar": {
              "outlinewidth": 0,
              "ticks": ""
             }
            },
            "type": "scattermapbox"
           }
          ],
          "scatterpolar": [
           {
            "marker": {
             "colorbar": {
              "outlinewidth": 0,
              "ticks": ""
             }
            },
            "type": "scatterpolar"
           }
          ],
          "scatterpolargl": [
           {
            "marker": {
             "colorbar": {
              "outlinewidth": 0,
              "ticks": ""
             }
            },
            "type": "scatterpolargl"
           }
          ],
          "scatterternary": [
           {
            "marker": {
             "colorbar": {
              "outlinewidth": 0,
              "ticks": ""
             }
            },
            "type": "scatterternary"
           }
          ],
          "surface": [
           {
            "colorbar": {
             "outlinewidth": 0,
             "ticks": ""
            },
            "colorscale": [
             [
              0,
              "#0d0887"
             ],
             [
              0.1111111111111111,
              "#46039f"
             ],
             [
              0.2222222222222222,
              "#7201a8"
             ],
             [
              0.3333333333333333,
              "#9c179e"
             ],
             [
              0.4444444444444444,
              "#bd3786"
             ],
             [
              0.5555555555555556,
              "#d8576b"
             ],
             [
              0.6666666666666666,
              "#ed7953"
             ],
             [
              0.7777777777777778,
              "#fb9f3a"
             ],
             [
              0.8888888888888888,
              "#fdca26"
             ],
             [
              1,
              "#f0f921"
             ]
            ],
            "type": "surface"
           }
          ],
          "table": [
           {
            "cells": {
             "fill": {
              "color": "#EBF0F8"
             },
             "line": {
              "color": "white"
             }
            },
            "header": {
             "fill": {
              "color": "#C8D4E3"
             },
             "line": {
              "color": "white"
             }
            },
            "type": "table"
           }
          ]
         },
         "layout": {
          "annotationdefaults": {
           "arrowcolor": "#2a3f5f",
           "arrowhead": 0,
           "arrowwidth": 1
          },
          "autotypenumbers": "strict",
          "coloraxis": {
           "colorbar": {
            "outlinewidth": 0,
            "ticks": ""
           }
          },
          "colorscale": {
           "diverging": [
            [
             0,
             "#8e0152"
            ],
            [
             0.1,
             "#c51b7d"
            ],
            [
             0.2,
             "#de77ae"
            ],
            [
             0.3,
             "#f1b6da"
            ],
            [
             0.4,
             "#fde0ef"
            ],
            [
             0.5,
             "#f7f7f7"
            ],
            [
             0.6,
             "#e6f5d0"
            ],
            [
             0.7,
             "#b8e186"
            ],
            [
             0.8,
             "#7fbc41"
            ],
            [
             0.9,
             "#4d9221"
            ],
            [
             1,
             "#276419"
            ]
           ],
           "sequential": [
            [
             0,
             "#0d0887"
            ],
            [
             0.1111111111111111,
             "#46039f"
            ],
            [
             0.2222222222222222,
             "#7201a8"
            ],
            [
             0.3333333333333333,
             "#9c179e"
            ],
            [
             0.4444444444444444,
             "#bd3786"
            ],
            [
             0.5555555555555556,
             "#d8576b"
            ],
            [
             0.6666666666666666,
             "#ed7953"
            ],
            [
             0.7777777777777778,
             "#fb9f3a"
            ],
            [
             0.8888888888888888,
             "#fdca26"
            ],
            [
             1,
             "#f0f921"
            ]
           ],
           "sequentialminus": [
            [
             0,
             "#0d0887"
            ],
            [
             0.1111111111111111,
             "#46039f"
            ],
            [
             0.2222222222222222,
             "#7201a8"
            ],
            [
             0.3333333333333333,
             "#9c179e"
            ],
            [
             0.4444444444444444,
             "#bd3786"
            ],
            [
             0.5555555555555556,
             "#d8576b"
            ],
            [
             0.6666666666666666,
             "#ed7953"
            ],
            [
             0.7777777777777778,
             "#fb9f3a"
            ],
            [
             0.8888888888888888,
             "#fdca26"
            ],
            [
             1,
             "#f0f921"
            ]
           ]
          },
          "colorway": [
           "#636efa",
           "#EF553B",
           "#00cc96",
           "#ab63fa",
           "#FFA15A",
           "#19d3f3",
           "#FF6692",
           "#B6E880",
           "#FF97FF",
           "#FECB52"
          ],
          "font": {
           "color": "#2a3f5f"
          },
          "geo": {
           "bgcolor": "white",
           "lakecolor": "white",
           "landcolor": "#E5ECF6",
           "showlakes": true,
           "showland": true,
           "subunitcolor": "white"
          },
          "hoverlabel": {
           "align": "left"
          },
          "hovermode": "closest",
          "mapbox": {
           "style": "light"
          },
          "paper_bgcolor": "white",
          "plot_bgcolor": "#E5ECF6",
          "polar": {
           "angularaxis": {
            "gridcolor": "white",
            "linecolor": "white",
            "ticks": ""
           },
           "bgcolor": "#E5ECF6",
           "radialaxis": {
            "gridcolor": "white",
            "linecolor": "white",
            "ticks": ""
           }
          },
          "scene": {
           "xaxis": {
            "backgroundcolor": "#E5ECF6",
            "gridcolor": "white",
            "gridwidth": 2,
            "linecolor": "white",
            "showbackground": true,
            "ticks": "",
            "zerolinecolor": "white"
           },
           "yaxis": {
            "backgroundcolor": "#E5ECF6",
            "gridcolor": "white",
            "gridwidth": 2,
            "linecolor": "white",
            "showbackground": true,
            "ticks": "",
            "zerolinecolor": "white"
           },
           "zaxis": {
            "backgroundcolor": "#E5ECF6",
            "gridcolor": "white",
            "gridwidth": 2,
            "linecolor": "white",
            "showbackground": true,
            "ticks": "",
            "zerolinecolor": "white"
           }
          },
          "shapedefaults": {
           "line": {
            "color": "#2a3f5f"
           }
          },
          "ternary": {
           "aaxis": {
            "gridcolor": "white",
            "linecolor": "white",
            "ticks": ""
           },
           "baxis": {
            "gridcolor": "white",
            "linecolor": "white",
            "ticks": ""
           },
           "bgcolor": "#E5ECF6",
           "caxis": {
            "gridcolor": "white",
            "linecolor": "white",
            "ticks": ""
           }
          },
          "title": {
           "x": 0.05
          },
          "xaxis": {
           "automargin": true,
           "gridcolor": "white",
           "linecolor": "white",
           "ticks": "",
           "title": {
            "standoff": 15
           },
           "zerolinecolor": "white",
           "zerolinewidth": 2
          },
          "yaxis": {
           "automargin": true,
           "gridcolor": "white",
           "linecolor": "white",
           "ticks": "",
           "title": {
            "standoff": 15
           },
           "zerolinecolor": "white",
           "zerolinewidth": 2
          }
         }
        },
        "title": {
         "text": "t-SNE projection of article embeddings"
        },
        "xaxis": {
         "anchor": "y",
         "domain": [
          0,
          1
         ],
         "title": {
          "text": "x"
         }
        },
        "yaxis": {
         "anchor": "x",
         "domain": [
          0,
          1
         ],
         "title": {
          "text": "y"
         }
        }
       }
      }
     },
     "metadata": {},
     "output_type": "display_data"
    }
   ],
   "source": [
    "projection.plot(show_feeds=True)"
   ]
  },
  {
   "cell_type": "markdown",
   "id": "a33aac61",
   "metadata": {},
   "source": [
    "Beautiful! We have colorized the points by feed. You can see that the article embeddings (without knowledge of the feed they came from) have captured a key feature of the data."
   ]
  },
  {
   "cell_type": "markdown",
   "id": "4a1c12ee",
   "metadata": {},
   "source": [
    "## Save to disk"
   ]
  },
  {
   "cell_type": "code",
   "execution_count": 46,
   "id": "1f30cb47",
   "metadata": {},
   "outputs": [],
   "source": [
    "if config.run_demos_live:\n",
    "    embeddings_df.to_parquet(config.embeddings_path, index=True)"
   ]
  },
  {
   "cell_type": "markdown",
   "id": "eadb1d5e",
   "metadata": {},
   "source": [
    "## Key takeaway\n",
    "\n",
    "An embedding is \"just\" an array. Store it in parquet, SQL, a cache, ... anything that holds floats."
   ]
  }
 ],
 "metadata": {
  "kernelspec": {
   "display_name": "momento-buffconf-workshop-py3.11 (3.11.2)",
   "language": "python",
   "name": "python3"
  },
  "language_info": {
   "codemirror_mode": {
    "name": "ipython",
    "version": 3
   },
   "file_extension": ".py",
   "mimetype": "text/x-python",
   "name": "python",
   "nbconvert_exporter": "python",
   "pygments_lexer": "ipython3",
   "version": "3.11.2"
  }
 },
 "nbformat": 4,
 "nbformat_minor": 5
}
