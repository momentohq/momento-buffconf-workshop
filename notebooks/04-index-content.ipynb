{
 "cells": [
  {
   "cell_type": "markdown",
   "id": "5da3ca70",
   "metadata": {},
   "source": [
    "# Index vectors and content in Turbopuffer\n",
    "\n",
    "\"Index once, query many times\".\n",
    "\n",
    "The purpose of this notebook is to store the article metadata and embeddings in a search index. This will allow us to perform similarity search online very quickly.\n",
    "\n",
    "For this we use the external service [Turbopuffer](https://turbopuffer.com/), which is a vector database that supports similarity search. It is built on object storage and is designed to be fast and cost-effective.\n",
    "\n",
    "The client uses the API key from the environment variable `TURBOPUFFER_API_KEY` to authenticate with the Turbopuffer service. We also read the region and namespace from the environment variables `TURBOPUFFER_REGION` and `TURBOPUFFER_NAMESPACE`, respectively. We require the namespace to be set, but the region is optional and defaults to `gcp-us-central1`."
   ]
  },
  {
   "cell_type": "markdown",
   "id": "a7a00001",
   "metadata": {},
   "source": [
    "## Setup"
   ]
  },
  {
   "cell_type": "code",
   "execution_count": 1,
   "id": "0d2de2f5",
   "metadata": {},
   "outputs": [
    {
     "name": "stdout",
     "output_type": "stream",
     "text": [
      "🟢 LIVE DEMO — 04-index-content will generate fresh outputs (📦 snapshot 2025-07-22-16-36-20 (auto))\n"
     ]
    }
   ],
   "source": [
    "from momento_buffconf_workshop import NotebookConfiguration\n",
    "\n",
    "config = NotebookConfiguration.for_indexing()\n",
    "config.print_status_banner()"
   ]
  },
  {
   "cell_type": "code",
   "execution_count": 12,
   "id": "7f6ab5c9",
   "metadata": {},
   "outputs": [],
   "source": [
    "from typing import Generator\n",
    "\n",
    "import turbopuffer\n",
    "import pandas as pd\n",
    "from tqdm import tqdm\n",
    "from pprint import PrettyPrinter\n",
    "from langchain_core.documents import Document\n",
    "\n",
    "from momento_buffconf_workshop import ArticleContent\n",
    "\n",
    "pretty_printer = PrettyPrinter(indent=2)"
   ]
  },
  {
   "cell_type": "markdown",
   "id": "f4a8a79a",
   "metadata": {},
   "source": [
    "## Load article content and embeddings from disk"
   ]
  },
  {
   "cell_type": "code",
   "execution_count": 3,
   "id": "7236a774",
   "metadata": {},
   "outputs": [],
   "source": [
    "embeddings_df = pd.read_parquet(config.embeddings_path)\n",
    "articles = ArticleContent.load_json(config.normalized_article_path)"
   ]
  },
  {
   "cell_type": "markdown",
   "id": "53da05f6",
   "metadata": {},
   "source": [
    "Recall the document structure."
   ]
  },
  {
   "cell_type": "code",
   "execution_count": 4,
   "id": "60f1c94b",
   "metadata": {},
   "outputs": [
    {
     "data": {
      "text/plain": [
       "Document(id='2106511392500355463', metadata={'title': 'Brewers vs. Mariners prediction, odds, props, best bets: Free 2025 MLB picks for Tuesday, July 22', 'link': 'https://www.cbssports.com/mlb/news/brewers-vs-mariners-prediction-odds-props-best-bets-free-2025-mlb-picks-for-tuesday-july-22/', 'authors': ['Richard Louis', 'Min Read', 'R.J. Anderson', 'Matt Snyder', 'Mike Axisa', 'Owen Obrien', 'Dayn Perry'], 'language': 'en', 'description': \"SportsLine's proven model has simulated Milwaukee vs. Seattle 10,000 times and released its MLB best bets for Jacob Misiorowski vs. Logan Gilbert on Tuesday\", 'publish_date': None, 'feed': 'https://www.cbssports.com/rss/headlines/'}, page_content=\"The Milwaukee Brewers are on the road to square off against the Seattle Mariners on Tuesday evening. On Monday, Milwaukee shut out the Mariners en route to a 6-0 victory. The Brewers have now won four straight games. On the flip side, Seattle has dropped two straight games after winning the first two matchups out of All-Star break. NL Rookie of the Year candidate Jacob Misiorowski (4-1, 2.81 ERA) gets the start for the Brewers. Logan Gilbert (2-3, 3.39 ERA) gets the ball for the home team.\\n\\nFirst pitch from T-Mobile Park in Seattle is set for 9:40 p.m. ET. Seattle is a -126 favorite (risk $126 to win $100) in the latest Brewers vs. Mariners odds from DraftKings Sportsbook, while Milwaukee is a +104 underdog (risk $100 to win $104). The over/under for total runs scored is 7. Seattle's Cal Raleigh, who leads the majors with 38 home runs, is +245 to hit a homer, while Misiorowski is +120 to throw 7+ strikeouts. Before making any Brewers vs. Mariners picks, be sure to see the MLB betting predictions from SportsLine's proven model. Bet on Brewers vs. Mariners and every other MLB game at DraftKings, where you can get $150 in bonus bets instantly with the latest DraftKings promo code:\\n\\nThe SportsLine Projection Model simulates every MLB game 10,000 times. It entered Week 17 of the 2025 MLB season 46-43 on top-rated MLB picks. It has excelled making home run prop picks this season, returning more than 40 units of profit. Anybody following at sportsbooks and on betting apps could have seen strong returns, especially when paired with the latest BetMGM promo code and FanDuel promo code, just to name a few. At BetMGM, new users can get up to $1,500 back in bonus bets if their first bet loses.\\n\\nHere are the model's three best bets for Brewers vs. Mariners on Tuesday:\\n\\nJ.P. Crawford Over 0.5 hits (-160)\\n\\nJackson Chourio Seager Total Bases Over 1.5 (+140)\\n\\nJacob Lopez Over 5.5 strikeouts (+110)\\n\\nJ.P. Crawford Over 0.5 hits (-160)\\n\\nCrawford leads the team in batting average (.285), OBP (.384) and hits (103). He's finished with over 0.5 hits in 13 of his last 15 outings. On Sunday against the Astros, Crawford went 2-of-5 with two singles. The model is projecting him to finish with 0.8 hits in Tuesday's contest against Milwaukee.\\n\\nJackson Chourio Total Bases Over 1.5 (+140)\\n\\nChourio rolls into this affair with a .267 batting average, 16 dingers, and 64 RBI. He's also leading the club in hits (112). He's gone over 1.5 total bases in four of his last six games. In last night's game against Seattle, the 21-year-old went 2-of-4. The SportsLine model projects him to log 1.7 total bases.\\n\\nLogan Gilbert Over 6.5 strikeouts (-145)\\n\\nGilbert heads on the mound with 3.39 ERA along with 88 strikeouts on the season. The 28-year-old has gone over 6.5 strikeouts in seven of his last 10 games. In his last start against the Tigers, Gilbert tossed 9 Ks in 5.1 innings. In two career starts against the Brewers, Gilbert has finished with at least seven strikeouts.\\n\\nWant more MLB picks for Tuesday?\\n\\nYou've seen the model's MLB picks for Brewers vs. Mariners on Tuesday. Now, get more MLB picks from No. 1 expert Bruce Marshall, who is up nearly 17 units on his last 104 MLB picks.\")"
      ]
     },
     "execution_count": 4,
     "metadata": {},
     "output_type": "execute_result"
    }
   ],
   "source": [
    "articles.all_articles[0]"
   ]
  },
  {
   "cell_type": "markdown",
   "id": "d355e072",
   "metadata": {},
   "source": [
    "And the embeddings"
   ]
  },
  {
   "cell_type": "code",
   "execution_count": 5,
   "id": "4df6e840",
   "metadata": {},
   "outputs": [
    {
     "data": {
      "text/html": [
       "<div>\n",
       "<style scoped>\n",
       "    .dataframe tbody tr th:only-of-type {\n",
       "        vertical-align: middle;\n",
       "    }\n",
       "\n",
       "    .dataframe tbody tr th {\n",
       "        vertical-align: top;\n",
       "    }\n",
       "\n",
       "    .dataframe thead th {\n",
       "        text-align: right;\n",
       "    }\n",
       "</style>\n",
       "<table border=\"1\" class=\"dataframe\">\n",
       "  <thead>\n",
       "    <tr style=\"text-align: right;\">\n",
       "      <th></th>\n",
       "      <th>0</th>\n",
       "      <th>1</th>\n",
       "      <th>2</th>\n",
       "      <th>3</th>\n",
       "      <th>4</th>\n",
       "      <th>5</th>\n",
       "      <th>6</th>\n",
       "      <th>7</th>\n",
       "      <th>8</th>\n",
       "      <th>9</th>\n",
       "      <th>...</th>\n",
       "      <th>1526</th>\n",
       "      <th>1527</th>\n",
       "      <th>1528</th>\n",
       "      <th>1529</th>\n",
       "      <th>1530</th>\n",
       "      <th>1531</th>\n",
       "      <th>1532</th>\n",
       "      <th>1533</th>\n",
       "      <th>1534</th>\n",
       "      <th>1535</th>\n",
       "    </tr>\n",
       "  </thead>\n",
       "  <tbody>\n",
       "    <tr>\n",
       "      <th>2106511392500355463</th>\n",
       "      <td>-0.013085</td>\n",
       "      <td>-0.011851</td>\n",
       "      <td>0.036119</td>\n",
       "      <td>-0.012097</td>\n",
       "      <td>-0.015739</td>\n",
       "      <td>-0.007123</td>\n",
       "      <td>0.012542</td>\n",
       "      <td>-0.037773</td>\n",
       "      <td>-0.016615</td>\n",
       "      <td>-0.041600</td>\n",
       "      <td>...</td>\n",
       "      <td>-0.005348</td>\n",
       "      <td>0.027133</td>\n",
       "      <td>0.022368</td>\n",
       "      <td>0.011684</td>\n",
       "      <td>0.018800</td>\n",
       "      <td>0.004478</td>\n",
       "      <td>-0.013406</td>\n",
       "      <td>0.015085</td>\n",
       "      <td>0.009962</td>\n",
       "      <td>0.037156</td>\n",
       "    </tr>\n",
       "    <tr>\n",
       "      <th>11680095918679394614</th>\n",
       "      <td>-0.034367</td>\n",
       "      <td>0.014086</td>\n",
       "      <td>0.019519</td>\n",
       "      <td>0.023919</td>\n",
       "      <td>0.038669</td>\n",
       "      <td>-0.036899</td>\n",
       "      <td>-0.011904</td>\n",
       "      <td>0.036948</td>\n",
       "      <td>0.000300</td>\n",
       "      <td>0.001288</td>\n",
       "      <td>...</td>\n",
       "      <td>-0.001681</td>\n",
       "      <td>0.021657</td>\n",
       "      <td>0.003223</td>\n",
       "      <td>0.006361</td>\n",
       "      <td>-0.001838</td>\n",
       "      <td>0.012101</td>\n",
       "      <td>-0.000037</td>\n",
       "      <td>-0.014713</td>\n",
       "      <td>-0.005006</td>\n",
       "      <td>-0.005694</td>\n",
       "    </tr>\n",
       "    <tr>\n",
       "      <th>12856337718644557554</th>\n",
       "      <td>-0.001574</td>\n",
       "      <td>0.003733</td>\n",
       "      <td>0.042999</td>\n",
       "      <td>-0.009715</td>\n",
       "      <td>-0.007737</td>\n",
       "      <td>0.034318</td>\n",
       "      <td>0.006149</td>\n",
       "      <td>-0.005420</td>\n",
       "      <td>0.000990</td>\n",
       "      <td>-0.035923</td>\n",
       "      <td>...</td>\n",
       "      <td>-0.034951</td>\n",
       "      <td>0.004863</td>\n",
       "      <td>0.014898</td>\n",
       "      <td>0.007811</td>\n",
       "      <td>0.021126</td>\n",
       "      <td>0.013383</td>\n",
       "      <td>0.040603</td>\n",
       "      <td>0.006358</td>\n",
       "      <td>-0.005349</td>\n",
       "      <td>0.027965</td>\n",
       "    </tr>\n",
       "    <tr>\n",
       "      <th>381717524761140991</th>\n",
       "      <td>-0.036959</td>\n",
       "      <td>0.033685</td>\n",
       "      <td>0.086462</td>\n",
       "      <td>0.009977</td>\n",
       "      <td>0.011970</td>\n",
       "      <td>-0.029312</td>\n",
       "      <td>0.030736</td>\n",
       "      <td>0.057325</td>\n",
       "      <td>0.018792</td>\n",
       "      <td>-0.004620</td>\n",
       "      <td>...</td>\n",
       "      <td>-0.001577</td>\n",
       "      <td>-0.010345</td>\n",
       "      <td>-0.028213</td>\n",
       "      <td>0.020441</td>\n",
       "      <td>0.026463</td>\n",
       "      <td>-0.022378</td>\n",
       "      <td>-0.004648</td>\n",
       "      <td>-0.011370</td>\n",
       "      <td>-0.009902</td>\n",
       "      <td>0.007678</td>\n",
       "    </tr>\n",
       "    <tr>\n",
       "      <th>910252479210792168</th>\n",
       "      <td>-0.025778</td>\n",
       "      <td>-0.004437</td>\n",
       "      <td>-0.016493</td>\n",
       "      <td>0.042342</td>\n",
       "      <td>-0.029573</td>\n",
       "      <td>0.004189</td>\n",
       "      <td>-0.016135</td>\n",
       "      <td>-0.027425</td>\n",
       "      <td>-0.004935</td>\n",
       "      <td>-0.005218</td>\n",
       "      <td>...</td>\n",
       "      <td>-0.001605</td>\n",
       "      <td>0.024179</td>\n",
       "      <td>0.017066</td>\n",
       "      <td>0.021386</td>\n",
       "      <td>-0.005239</td>\n",
       "      <td>-0.012853</td>\n",
       "      <td>0.009100</td>\n",
       "      <td>-0.046161</td>\n",
       "      <td>0.013140</td>\n",
       "      <td>0.037664</td>\n",
       "    </tr>\n",
       "  </tbody>\n",
       "</table>\n",
       "<p>5 rows × 1536 columns</p>\n",
       "</div>"
      ],
      "text/plain": [
       "                          0         1         2         3         4     \\\n",
       "2106511392500355463  -0.013085 -0.011851  0.036119 -0.012097 -0.015739   \n",
       "11680095918679394614 -0.034367  0.014086  0.019519  0.023919  0.038669   \n",
       "12856337718644557554 -0.001574  0.003733  0.042999 -0.009715 -0.007737   \n",
       "381717524761140991   -0.036959  0.033685  0.086462  0.009977  0.011970   \n",
       "910252479210792168   -0.025778 -0.004437 -0.016493  0.042342 -0.029573   \n",
       "\n",
       "                          5         6         7         8         9     ...  \\\n",
       "2106511392500355463  -0.007123  0.012542 -0.037773 -0.016615 -0.041600  ...   \n",
       "11680095918679394614 -0.036899 -0.011904  0.036948  0.000300  0.001288  ...   \n",
       "12856337718644557554  0.034318  0.006149 -0.005420  0.000990 -0.035923  ...   \n",
       "381717524761140991   -0.029312  0.030736  0.057325  0.018792 -0.004620  ...   \n",
       "910252479210792168    0.004189 -0.016135 -0.027425 -0.004935 -0.005218  ...   \n",
       "\n",
       "                          1526      1527      1528      1529      1530  \\\n",
       "2106511392500355463  -0.005348  0.027133  0.022368  0.011684  0.018800   \n",
       "11680095918679394614 -0.001681  0.021657  0.003223  0.006361 -0.001838   \n",
       "12856337718644557554 -0.034951  0.004863  0.014898  0.007811  0.021126   \n",
       "381717524761140991   -0.001577 -0.010345 -0.028213  0.020441  0.026463   \n",
       "910252479210792168   -0.001605  0.024179  0.017066  0.021386 -0.005239   \n",
       "\n",
       "                          1531      1532      1533      1534      1535  \n",
       "2106511392500355463   0.004478 -0.013406  0.015085  0.009962  0.037156  \n",
       "11680095918679394614  0.012101 -0.000037 -0.014713 -0.005006 -0.005694  \n",
       "12856337718644557554  0.013383  0.040603  0.006358 -0.005349  0.027965  \n",
       "381717524761140991   -0.022378 -0.004648 -0.011370 -0.009902  0.007678  \n",
       "910252479210792168   -0.012853  0.009100 -0.046161  0.013140  0.037664  \n",
       "\n",
       "[5 rows x 1536 columns]"
      ]
     },
     "execution_count": 5,
     "metadata": {},
     "output_type": "execute_result"
    }
   ],
   "source": [
    "embeddings_df.head()"
   ]
  },
  {
   "cell_type": "markdown",
   "id": "3af3b2c7",
   "metadata": {},
   "source": [
    "## Index into Turbopuffer\n",
    "\n",
    "We need to index the articles and their embeddings. For that we need to join the embeddings with the article data and metadata.\n",
    "\n",
    "Since the Turbopuffer API is batch-oriented, we will create a generator that yields batches of articles and their embeddings."
   ]
  },
  {
   "cell_type": "markdown",
   "id": "ee48987d",
   "metadata": {},
   "source": [
    "1. Instantiate the turbopuffer client."
   ]
  },
  {
   "cell_type": "code",
   "execution_count": null,
   "id": "8f95d16f",
   "metadata": {},
   "outputs": [],
   "source": [
    "turbopuffer_client = turbopuffer.Turbopuffer(\n",
    "    # API tokens are created in the dashboard: https://turbopuffer.com/dashboard\n",
    "    api_key=config.turbopuffer_api_key,\n",
    "    # The region where the data will be stored. For this workshop, it defaults to `gcp-us-central1`.\n",
    "    region=config.turbopuffer_region,\n",
    ")"
   ]
  },
  {
   "cell_type": "markdown",
   "id": "2898e468",
   "metadata": {},
   "source": [
    "2. Set up the `namespace`, which is the logical grouping of the index."
   ]
  },
  {
   "cell_type": "code",
   "execution_count": 7,
   "id": "6f3cae91",
   "metadata": {},
   "outputs": [],
   "source": [
    "turbopuffer_namespace = turbopuffer_client.namespace(config.turbopuffer_namespace)"
   ]
  },
  {
   "cell_type": "markdown",
   "id": "0b3a0c39",
   "metadata": {},
   "source": [
    "3. Here we define a couple helper functions:\n",
    "\n",
    "- `gen_batch`: This function generates batches of articles and their embeddings for indexing. It yields batches of articles, their IDs, and their embeddings.\n",
    "\n",
    "- `flatten_metadata`: This function flattens the metadata of an article into a dictionary format suitable for indexing. It prefixes each metadata key with \"metadata$\" to avoid conflicts with other fields in the index.\n",
    "    - This is because Turbopuffer does not support nested metadata, so we need to flatten it."
   ]
  },
  {
   "cell_type": "code",
   "execution_count": 8,
   "id": "e1cb96fb",
   "metadata": {},
   "outputs": [],
   "source": [
    "def gen_batch(articles, batch_size) -> Generator[tuple[list[Document], list[str], list[list[float]]], None, None]:\n",
    "    for i in range(0, len(articles), batch_size):\n",
    "        batch = articles[i:i + batch_size]\n",
    "        batch_ids = [article.id for article in batch]\n",
    "        batch_embeddings = embeddings_df.loc[batch_ids].values.tolist()\n",
    "        yield batch, batch_ids, batch_embeddings\n",
    "\n",
    "\n",
    "def flatten_metadata(article: Document) -> dict:\n",
    "    return {f\"metadata${key}\": value for key, value in article.metadata.items()}"
   ]
  },
  {
   "cell_type": "markdown",
   "id": "8f289f7b",
   "metadata": {},
   "source": [
    "4. Now index the data"
   ]
  },
  {
   "cell_type": "code",
   "execution_count": 9,
   "id": "667e0c2b",
   "metadata": {},
   "outputs": [
    {
     "name": "stderr",
     "output_type": "stream",
     "text": [
      "  0%|          | 0/18 [00:00<?, ?it/s]"
     ]
    },
    {
     "name": "stderr",
     "output_type": "stream",
     "text": [
      "19it [00:20,  1.08s/it]                        \n"
     ]
    }
   ],
   "source": [
    "batch_size = 25\n",
    "\n",
    "for batch_articles, batch_ids, batch_embeddings in tqdm(gen_batch(articles.all_articles, batch_size), total=len(articles.all_articles) // batch_size):\n",
    "    turbopuffer_namespace.write(\n",
    "        upsert_rows=[\n",
    "            {\n",
    "                \"id\": id,\n",
    "                \"vector\": embedding,\n",
    "                \"page_content\": article.page_content,\n",
    "                **flatten_metadata(article)\n",
    "            }                for article, id, embedding in zip(batch_articles, batch_ids, batch_embeddings)\n",
    "        ],\n",
    "        distance_metric=\"cosine_distance\"\n",
    "    )"
   ]
  },
  {
   "cell_type": "markdown",
   "id": "1a325bf9",
   "metadata": {},
   "source": [
    "## Sanity check"
   ]
  },
  {
   "cell_type": "markdown",
   "id": "aa47dd8d",
   "metadata": {},
   "source": [
    "First let's inspect the schema.\n",
    "\n",
    "Note that the vector field has dimension 1536, which is the dimension of the embeddings we generated earlier."
   ]
  },
  {
   "cell_type": "code",
   "execution_count": 10,
   "id": "89bef134",
   "metadata": {},
   "outputs": [
    {
     "data": {
      "text/plain": [
       "{'authors': AttributeSchemaConfig(ann=None, filterable=True, full_text_search=None, type='[]string'),\n",
       " 'description': AttributeSchemaConfig(ann=None, filterable=True, full_text_search=None, type='string'),\n",
       " 'feed': AttributeSchemaConfig(ann=None, filterable=True, full_text_search=None, type='string'),\n",
       " 'id': AttributeSchemaConfig(ann=None, filterable=None, full_text_search=None, type='string'),\n",
       " 'language': AttributeSchemaConfig(ann=None, filterable=True, full_text_search=None, type='string'),\n",
       " 'link': AttributeSchemaConfig(ann=None, filterable=True, full_text_search=None, type='string'),\n",
       " 'metadata$authors': AttributeSchemaConfig(ann=None, filterable=True, full_text_search=None, type='[]string'),\n",
       " 'metadata$description': AttributeSchemaConfig(ann=None, filterable=True, full_text_search=None, type='string'),\n",
       " 'metadata$feed': AttributeSchemaConfig(ann=None, filterable=True, full_text_search=None, type='string'),\n",
       " 'metadata$language': AttributeSchemaConfig(ann=None, filterable=True, full_text_search=None, type='string'),\n",
       " 'metadata$link': AttributeSchemaConfig(ann=None, filterable=True, full_text_search=None, type='string'),\n",
       " 'metadata$publish_date': AttributeSchemaConfig(ann=None, filterable=True, full_text_search=None, type='string'),\n",
       " 'metadata$title': AttributeSchemaConfig(ann=None, filterable=True, full_text_search=None, type='string'),\n",
       " 'page_content': AttributeSchemaConfig(ann=None, filterable=True, full_text_search=None, type='string'),\n",
       " 'title': AttributeSchemaConfig(ann=None, filterable=True, full_text_search=None, type='string'),\n",
       " 'vector': AttributeSchemaConfig(ann=True, filterable=None, full_text_search=None, type='[1536]f32')}"
      ]
     },
     "execution_count": 10,
     "metadata": {},
     "output_type": "execute_result"
    }
   ],
   "source": [
    "{ k: v for k, v in sorted(turbopuffer_namespace.schema().items()) }"
   ]
  },
  {
   "cell_type": "markdown",
   "id": "bb786d8c",
   "metadata": {},
   "source": [
    "Let's inspect how many items we have indexed."
   ]
  },
  {
   "cell_type": "code",
   "execution_count": 11,
   "id": "81364860",
   "metadata": {},
   "outputs": [
    {
     "name": "stdout",
     "output_type": "stream",
     "text": [
      "{'count': 869}\n"
     ]
    }
   ],
   "source": [
    "results = turbopuffer_namespace.query(\n",
    "    aggregate_by={'count': ('Count', 'id')},\n",
    ")\n",
    "assert results is not None, \"Query failed\"\n",
    "\n",
    "print(results.aggregations)"
   ]
  }
 ],
 "metadata": {
  "kernelspec": {
   "display_name": "momento-buffconf-workshop-py3.11 (3.11.2)",
   "language": "python",
   "name": "python3"
  },
  "language_info": {
   "codemirror_mode": {
    "name": "ipython",
    "version": 3
   },
   "file_extension": ".py",
   "mimetype": "text/x-python",
   "name": "python",
   "nbconvert_exporter": "python",
   "pygments_lexer": "ipython3",
   "version": "3.11.2"
  }
 },
 "nbformat": 4,
 "nbformat_minor": 5
}
