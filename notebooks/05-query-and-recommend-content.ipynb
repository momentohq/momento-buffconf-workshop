{
 "cells": [
  {
   "cell_type": "markdown",
   "id": "5da3ca70",
   "metadata": {},
   "source": [
    "# Query and recommend content\n",
    "\n",
    "Learn to:\n",
    "\n",
    "1. Run a similarity search\n",
    "2. Recommend content based on a user preferences, including:\n",
    "   - Using the user's content-viewing history as a surrogate for their preferences\n",
    "   - Building a user preference vector from their content-viewing history\n",
    "   - Running a similarity search against the user preference vector to find similar content\n",
    "\n",
    "\n",
    "## Turbopuffer configuration\n",
    "\n",
    "   The client uses the API key from the environment variable `TURBOPUFFER_API_KEY` to authenticate with the Turbopuffer service. We also read the region and namespace from the environment variables `TURBOPUFFER_REGION` and `TURBOPUFFER_NAMESPACE`, respectively. We require the namespace to be set, but the region is optional and defaults to `gcp-us-central1`."
   ]
  },
  {
   "cell_type": "markdown",
   "id": "a7a00001",
   "metadata": {},
   "source": [
    "## Setup"
   ]
  },
  {
   "cell_type": "code",
   "execution_count": 1,
   "id": "a1782cc7",
   "metadata": {},
   "outputs": [
    {
     "name": "stdout",
     "output_type": "stream",
     "text": [
      "🟢 LIVE DEMO — 05-query-and-recommend-content will generate fresh outputs (📦 snapshot 2025-07-22-16-36-20 (auto))\n"
     ]
    }
   ],
   "source": [
    "from momento_buffconf_workshop import NotebookConfiguration\n",
    "\n",
    "config = NotebookConfiguration.for_querying()\n",
    "config.print_status_banner()"
   ]
  },
  {
   "cell_type": "code",
   "execution_count": 3,
   "id": "7f6ab5c9",
   "metadata": {},
   "outputs": [],
   "source": [
    "from functools import lru_cache\n",
    "from pprint import PrettyPrinter\n",
    "\n",
    "import numpy as np\n",
    "from openai import OpenAI\n",
    "import pandas as pd\n",
    "import turbopuffer\n",
    "from turbopuffer.types import NamespaceQueryResponse, Row\n",
    "\n",
    "from momento_buffconf_workshop import ArticleContent\n",
    "\n",
    "pretty_printer = PrettyPrinter(indent=2)"
   ]
  },
  {
   "cell_type": "markdown",
   "id": "77f03eaf",
   "metadata": {},
   "source": [
    "## Basic similarity search"
   ]
  },
  {
   "cell_type": "markdown",
   "id": "f4a8a79a",
   "metadata": {},
   "source": [
    "### Load article content and embeddings from disk"
   ]
  },
  {
   "cell_type": "code",
   "execution_count": 4,
   "id": "7236a774",
   "metadata": {},
   "outputs": [],
   "source": [
    "embeddings_df = pd.read_parquet(config.embeddings_path)\n",
    "articles = ArticleContent.load_json(config.normalized_article_path)"
   ]
  },
  {
   "cell_type": "markdown",
   "id": "53da05f6",
   "metadata": {},
   "source": [
    "Recall the document structure."
   ]
  },
  {
   "cell_type": "code",
   "execution_count": 5,
   "id": "60f1c94b",
   "metadata": {},
   "outputs": [
    {
     "data": {
      "text/plain": [
       "Document(id='2106511392500355463', metadata={'title': 'Brewers vs. Mariners prediction, odds, props, best bets: Free 2025 MLB picks for Tuesday, July 22', 'link': 'https://www.cbssports.com/mlb/news/brewers-vs-mariners-prediction-odds-props-best-bets-free-2025-mlb-picks-for-tuesday-july-22/', 'authors': ['Richard Louis', 'Min Read', 'R.J. Anderson', 'Matt Snyder', 'Mike Axisa', 'Owen Obrien', 'Dayn Perry'], 'language': 'en', 'description': \"SportsLine's proven model has simulated Milwaukee vs. Seattle 10,000 times and released its MLB best bets for Jacob Misiorowski vs. Logan Gilbert on Tuesday\", 'publish_date': None, 'feed': 'https://www.cbssports.com/rss/headlines/'}, page_content=\"The Milwaukee Brewers are on the road to square off against the Seattle Mariners on Tuesday evening. On Monday, Milwaukee shut out the Mariners en route to a 6-0 victory. The Brewers have now won four straight games. On the flip side, Seattle has dropped two straight games after winning the first two matchups out of All-Star break. NL Rookie of the Year candidate Jacob Misiorowski (4-1, 2.81 ERA) gets the start for the Brewers. Logan Gilbert (2-3, 3.39 ERA) gets the ball for the home team.\\n\\nFirst pitch from T-Mobile Park in Seattle is set for 9:40 p.m. ET. Seattle is a -126 favorite (risk $126 to win $100) in the latest Brewers vs. Mariners odds from DraftKings Sportsbook, while Milwaukee is a +104 underdog (risk $100 to win $104). The over/under for total runs scored is 7. Seattle's Cal Raleigh, who leads the majors with 38 home runs, is +245 to hit a homer, while Misiorowski is +120 to throw 7+ strikeouts. Before making any Brewers vs. Mariners picks, be sure to see the MLB betting predictions from SportsLine's proven model. Bet on Brewers vs. Mariners and every other MLB game at DraftKings, where you can get $150 in bonus bets instantly with the latest DraftKings promo code:\\n\\nThe SportsLine Projection Model simulates every MLB game 10,000 times. It entered Week 17 of the 2025 MLB season 46-43 on top-rated MLB picks. It has excelled making home run prop picks this season, returning more than 40 units of profit. Anybody following at sportsbooks and on betting apps could have seen strong returns, especially when paired with the latest BetMGM promo code and FanDuel promo code, just to name a few. At BetMGM, new users can get up to $1,500 back in bonus bets if their first bet loses.\\n\\nHere are the model's three best bets for Brewers vs. Mariners on Tuesday:\\n\\nJ.P. Crawford Over 0.5 hits (-160)\\n\\nJackson Chourio Seager Total Bases Over 1.5 (+140)\\n\\nJacob Lopez Over 5.5 strikeouts (+110)\\n\\nJ.P. Crawford Over 0.5 hits (-160)\\n\\nCrawford leads the team in batting average (.285), OBP (.384) and hits (103). He's finished with over 0.5 hits in 13 of his last 15 outings. On Sunday against the Astros, Crawford went 2-of-5 with two singles. The model is projecting him to finish with 0.8 hits in Tuesday's contest against Milwaukee.\\n\\nJackson Chourio Total Bases Over 1.5 (+140)\\n\\nChourio rolls into this affair with a .267 batting average, 16 dingers, and 64 RBI. He's also leading the club in hits (112). He's gone over 1.5 total bases in four of his last six games. In last night's game against Seattle, the 21-year-old went 2-of-4. The SportsLine model projects him to log 1.7 total bases.\\n\\nLogan Gilbert Over 6.5 strikeouts (-145)\\n\\nGilbert heads on the mound with 3.39 ERA along with 88 strikeouts on the season. The 28-year-old has gone over 6.5 strikeouts in seven of his last 10 games. In his last start against the Tigers, Gilbert tossed 9 Ks in 5.1 innings. In two career starts against the Brewers, Gilbert has finished with at least seven strikeouts.\\n\\nWant more MLB picks for Tuesday?\\n\\nYou've seen the model's MLB picks for Brewers vs. Mariners on Tuesday. Now, get more MLB picks from No. 1 expert Bruce Marshall, who is up nearly 17 units on his last 104 MLB picks.\")"
      ]
     },
     "execution_count": 5,
     "metadata": {},
     "output_type": "execute_result"
    }
   ],
   "source": [
    "articles.all_articles[0]"
   ]
  },
  {
   "cell_type": "markdown",
   "id": "d355e072",
   "metadata": {},
   "source": [
    "And the embeddings"
   ]
  },
  {
   "cell_type": "code",
   "execution_count": 6,
   "id": "4df6e840",
   "metadata": {},
   "outputs": [
    {
     "data": {
      "text/html": [
       "<div>\n",
       "<style scoped>\n",
       "    .dataframe tbody tr th:only-of-type {\n",
       "        vertical-align: middle;\n",
       "    }\n",
       "\n",
       "    .dataframe tbody tr th {\n",
       "        vertical-align: top;\n",
       "    }\n",
       "\n",
       "    .dataframe thead th {\n",
       "        text-align: right;\n",
       "    }\n",
       "</style>\n",
       "<table border=\"1\" class=\"dataframe\">\n",
       "  <thead>\n",
       "    <tr style=\"text-align: right;\">\n",
       "      <th></th>\n",
       "      <th>0</th>\n",
       "      <th>1</th>\n",
       "      <th>2</th>\n",
       "      <th>3</th>\n",
       "      <th>4</th>\n",
       "      <th>5</th>\n",
       "      <th>6</th>\n",
       "      <th>7</th>\n",
       "      <th>8</th>\n",
       "      <th>9</th>\n",
       "      <th>...</th>\n",
       "      <th>1526</th>\n",
       "      <th>1527</th>\n",
       "      <th>1528</th>\n",
       "      <th>1529</th>\n",
       "      <th>1530</th>\n",
       "      <th>1531</th>\n",
       "      <th>1532</th>\n",
       "      <th>1533</th>\n",
       "      <th>1534</th>\n",
       "      <th>1535</th>\n",
       "    </tr>\n",
       "  </thead>\n",
       "  <tbody>\n",
       "    <tr>\n",
       "      <th>2106511392500355463</th>\n",
       "      <td>-0.013085</td>\n",
       "      <td>-0.011851</td>\n",
       "      <td>0.036119</td>\n",
       "      <td>-0.012097</td>\n",
       "      <td>-0.015739</td>\n",
       "      <td>-0.007123</td>\n",
       "      <td>0.012542</td>\n",
       "      <td>-0.037773</td>\n",
       "      <td>-0.016615</td>\n",
       "      <td>-0.041600</td>\n",
       "      <td>...</td>\n",
       "      <td>-0.005348</td>\n",
       "      <td>0.027133</td>\n",
       "      <td>0.022368</td>\n",
       "      <td>0.011684</td>\n",
       "      <td>0.018800</td>\n",
       "      <td>0.004478</td>\n",
       "      <td>-0.013406</td>\n",
       "      <td>0.015085</td>\n",
       "      <td>0.009962</td>\n",
       "      <td>0.037156</td>\n",
       "    </tr>\n",
       "    <tr>\n",
       "      <th>11680095918679394614</th>\n",
       "      <td>-0.034367</td>\n",
       "      <td>0.014086</td>\n",
       "      <td>0.019519</td>\n",
       "      <td>0.023919</td>\n",
       "      <td>0.038669</td>\n",
       "      <td>-0.036899</td>\n",
       "      <td>-0.011904</td>\n",
       "      <td>0.036948</td>\n",
       "      <td>0.000300</td>\n",
       "      <td>0.001288</td>\n",
       "      <td>...</td>\n",
       "      <td>-0.001681</td>\n",
       "      <td>0.021657</td>\n",
       "      <td>0.003223</td>\n",
       "      <td>0.006361</td>\n",
       "      <td>-0.001838</td>\n",
       "      <td>0.012101</td>\n",
       "      <td>-0.000037</td>\n",
       "      <td>-0.014713</td>\n",
       "      <td>-0.005006</td>\n",
       "      <td>-0.005694</td>\n",
       "    </tr>\n",
       "    <tr>\n",
       "      <th>12856337718644557554</th>\n",
       "      <td>-0.001574</td>\n",
       "      <td>0.003733</td>\n",
       "      <td>0.042999</td>\n",
       "      <td>-0.009715</td>\n",
       "      <td>-0.007737</td>\n",
       "      <td>0.034318</td>\n",
       "      <td>0.006149</td>\n",
       "      <td>-0.005420</td>\n",
       "      <td>0.000990</td>\n",
       "      <td>-0.035923</td>\n",
       "      <td>...</td>\n",
       "      <td>-0.034951</td>\n",
       "      <td>0.004863</td>\n",
       "      <td>0.014898</td>\n",
       "      <td>0.007811</td>\n",
       "      <td>0.021126</td>\n",
       "      <td>0.013383</td>\n",
       "      <td>0.040603</td>\n",
       "      <td>0.006358</td>\n",
       "      <td>-0.005349</td>\n",
       "      <td>0.027965</td>\n",
       "    </tr>\n",
       "    <tr>\n",
       "      <th>381717524761140991</th>\n",
       "      <td>-0.036959</td>\n",
       "      <td>0.033685</td>\n",
       "      <td>0.086462</td>\n",
       "      <td>0.009977</td>\n",
       "      <td>0.011970</td>\n",
       "      <td>-0.029312</td>\n",
       "      <td>0.030736</td>\n",
       "      <td>0.057325</td>\n",
       "      <td>0.018792</td>\n",
       "      <td>-0.004620</td>\n",
       "      <td>...</td>\n",
       "      <td>-0.001577</td>\n",
       "      <td>-0.010345</td>\n",
       "      <td>-0.028213</td>\n",
       "      <td>0.020441</td>\n",
       "      <td>0.026463</td>\n",
       "      <td>-0.022378</td>\n",
       "      <td>-0.004648</td>\n",
       "      <td>-0.011370</td>\n",
       "      <td>-0.009902</td>\n",
       "      <td>0.007678</td>\n",
       "    </tr>\n",
       "    <tr>\n",
       "      <th>910252479210792168</th>\n",
       "      <td>-0.025778</td>\n",
       "      <td>-0.004437</td>\n",
       "      <td>-0.016493</td>\n",
       "      <td>0.042342</td>\n",
       "      <td>-0.029573</td>\n",
       "      <td>0.004189</td>\n",
       "      <td>-0.016135</td>\n",
       "      <td>-0.027425</td>\n",
       "      <td>-0.004935</td>\n",
       "      <td>-0.005218</td>\n",
       "      <td>...</td>\n",
       "      <td>-0.001605</td>\n",
       "      <td>0.024179</td>\n",
       "      <td>0.017066</td>\n",
       "      <td>0.021386</td>\n",
       "      <td>-0.005239</td>\n",
       "      <td>-0.012853</td>\n",
       "      <td>0.009100</td>\n",
       "      <td>-0.046161</td>\n",
       "      <td>0.013140</td>\n",
       "      <td>0.037664</td>\n",
       "    </tr>\n",
       "  </tbody>\n",
       "</table>\n",
       "<p>5 rows × 1536 columns</p>\n",
       "</div>"
      ],
      "text/plain": [
       "                          0         1         2         3         4     \\\n",
       "2106511392500355463  -0.013085 -0.011851  0.036119 -0.012097 -0.015739   \n",
       "11680095918679394614 -0.034367  0.014086  0.019519  0.023919  0.038669   \n",
       "12856337718644557554 -0.001574  0.003733  0.042999 -0.009715 -0.007737   \n",
       "381717524761140991   -0.036959  0.033685  0.086462  0.009977  0.011970   \n",
       "910252479210792168   -0.025778 -0.004437 -0.016493  0.042342 -0.029573   \n",
       "\n",
       "                          5         6         7         8         9     ...  \\\n",
       "2106511392500355463  -0.007123  0.012542 -0.037773 -0.016615 -0.041600  ...   \n",
       "11680095918679394614 -0.036899 -0.011904  0.036948  0.000300  0.001288  ...   \n",
       "12856337718644557554  0.034318  0.006149 -0.005420  0.000990 -0.035923  ...   \n",
       "381717524761140991   -0.029312  0.030736  0.057325  0.018792 -0.004620  ...   \n",
       "910252479210792168    0.004189 -0.016135 -0.027425 -0.004935 -0.005218  ...   \n",
       "\n",
       "                          1526      1527      1528      1529      1530  \\\n",
       "2106511392500355463  -0.005348  0.027133  0.022368  0.011684  0.018800   \n",
       "11680095918679394614 -0.001681  0.021657  0.003223  0.006361 -0.001838   \n",
       "12856337718644557554 -0.034951  0.004863  0.014898  0.007811  0.021126   \n",
       "381717524761140991   -0.001577 -0.010345 -0.028213  0.020441  0.026463   \n",
       "910252479210792168   -0.001605  0.024179  0.017066  0.021386 -0.005239   \n",
       "\n",
       "                          1531      1532      1533      1534      1535  \n",
       "2106511392500355463   0.004478 -0.013406  0.015085  0.009962  0.037156  \n",
       "11680095918679394614  0.012101 -0.000037 -0.014713 -0.005006 -0.005694  \n",
       "12856337718644557554  0.013383  0.040603  0.006358 -0.005349  0.027965  \n",
       "381717524761140991   -0.022378 -0.004648 -0.011370 -0.009902  0.007678  \n",
       "910252479210792168   -0.012853  0.009100 -0.046161  0.013140  0.037664  \n",
       "\n",
       "[5 rows x 1536 columns]"
      ]
     },
     "execution_count": 6,
     "metadata": {},
     "output_type": "execute_result"
    }
   ],
   "source": [
    "embeddings_df.head()"
   ]
  },
  {
   "cell_type": "markdown",
   "id": "3af3b2c7",
   "metadata": {},
   "source": [
    "### Set up the Turbopuffer client"
   ]
  },
  {
   "cell_type": "code",
   "execution_count": null,
   "id": "8f95d16f",
   "metadata": {},
   "outputs": [],
   "source": [
    "turbopuffer_client = turbopuffer.Turbopuffer(\n",
    "    # API tokens are created in the dashboard: https://turbopuffer.com/dashboard\n",
    "    api_key=config.turbopuffer_api_key,\n",
    "    # The region where the data will be stored. For this workshop, it defaults to `gcp-us-central1`.\n",
    "    region=config.turbopuffer_region,\n",
    ")\n",
    "\n",
    "turbopuffer_namespace = turbopuffer_client.namespace(config.turbopuffer_namespace)"
   ]
  },
  {
   "cell_type": "markdown",
   "id": "c8d44b24",
   "metadata": {},
   "source": [
    "### Set up the Open AI client\n",
    "\n",
    "We set up the OpenAI client as before and use a helper function to generate embeddings on the fly."
   ]
  },
  {
   "cell_type": "code",
   "execution_count": 8,
   "id": "16df79c8",
   "metadata": {},
   "outputs": [],
   "source": [
    "openai_client = OpenAI()\n",
    "\n",
    "@lru_cache\n",
    "def embed_text(content: str) -> list[float]:\n",
    "    if content is None or content.strip() == \"\":\n",
    "        content = \"No content provided\"\n",
    "    response = openai_client.embeddings.create(\n",
    "        input=content,\n",
    "        model=\"text-embedding-3-small\"\n",
    "    )\n",
    "    return response.data[0].embedding\n"
   ]
  },
  {
   "cell_type": "code",
   "execution_count": 9,
   "id": "a21a5424",
   "metadata": {},
   "outputs": [
    {
     "data": {
      "text/plain": [
       "ArticleIndex with 457 articles and 457 embeddings."
      ]
     },
     "execution_count": 9,
     "metadata": {},
     "output_type": "execute_result"
    }
   ],
   "source": [
    "article_index = articles.create_index_with_embeddings(embeddings_df)\n",
    "article_index"
   ]
  },
  {
   "cell_type": "markdown",
   "id": "da3cf38c",
   "metadata": {},
   "source": [
    "### Helper to print result sets"
   ]
  },
  {
   "cell_type": "code",
   "execution_count": 10,
   "id": "0b387f8d",
   "metadata": {},
   "outputs": [],
   "source": [
    "def print_resultset(results: NamespaceQueryResponse) -> None:\n",
    "    print_rows([row for row in results.rows]) # type: ignore\n",
    "\n",
    "\n",
    "def print_rows(rows: list[Row]) -> None:\n",
    "    for row in rows:\n",
    "        row_as_dict = row.to_dict()\n",
    "        score, title, link = row_as_dict.get(\"$dist\", None), row_as_dict.get(\"metadata$title\", None), row_as_dict.get(\"metadata$link\", None)\n",
    "        print(f\"score={score} {title} ({link})\")"
   ]
  },
  {
   "cell_type": "markdown",
   "id": "a9942dc1",
   "metadata": {},
   "source": [
    "### Query the index"
   ]
  },
  {
   "cell_type": "markdown",
   "id": "d2c4505f",
   "metadata": {},
   "source": [
    "We can find the closest articles to some embedded text using the `query` method.\n",
    "\n",
    "This performs a similarity search using the input vector as the query vector and the indexed vectors as the search space.\n",
    "\n",
    "Note we make use of our helper `embed_text` function to generate the embedding on the fly."
   ]
  },
  {
   "cell_type": "code",
   "execution_count": 11,
   "id": "dda7308a",
   "metadata": {},
   "outputs": [],
   "source": [
    "result = turbopuffer_namespace.query(\n",
    "    rank_by=(\"vector\", \"ANN\", embed_text(\"Portland Trail Blazers\")),\n",
    "    top_k=10,\n",
    "    include_attributes=[\"id\", \"metadata$title\", \"metadata$link\"],\n",
    ")"
   ]
  },
  {
   "cell_type": "code",
   "execution_count": 12,
   "id": "800a58ed",
   "metadata": {},
   "outputs": [
    {
     "name": "stdout",
     "output_type": "stream",
     "text": [
      "score=0.47903758 Damian Lillard returning to Trail Blazers: Nine-time All-Star reuniting with Portland on $42M deal, per report (https://www.cbssports.com/nba/news/damian-lillard-returning-to-trail-blazers-nine-time-all-star-reuniting-with-portland-on-42m-deal-per-report/)\n",
      "score=0.48103642 How Damian Lillard just won the offseason by returning to the Trail Blazers (https://www.cbssports.com/nba/news/how-damian-lillard-just-won-the-offseason-by-returning-to-the-trail-blazers/)\n",
      "score=0.51186144 Damian Lillard reflects on emotional reunion with Trail Blazers after Bucks release: 'Found my way back home' (https://www.cbssports.com/nba/news/damian-lillard-reflects-on-emotional-reunion-with-trail-blazers-after-bucks-release-found-my-way-back-home/)\n",
      "score=0.52472556 Damian Lillard's return to Portland is a great story, but also a questionable basketball move (https://www.cbssports.com/nba/news/damian-lillards-return-to-portland-is-a-great-story-but-also-a-questionable-basketball-move/)\n",
      "score=0.5420524 St. Louis City SC vs. Portland Timbers prediction, odds: Free MLS picks, bets from soccer expert for July 13 (https://www.cbssports.com/betting/news/st-louis-city-sc-vs-portland-timbers-prediction-odds-free-mls-picks-bets-from-soccer-expert-for-july-13/)\n",
      "score=0.55974174 Damian Lillard's return to Trail Blazers puts Scoot Henderson squarely on the clock in Portland (https://www.cbssports.com/nba/news/damian-lillards-return-to-trail-blazers-puts-scoot-henderson-squarely-on-the-clock-in-portland/)\n",
      "score=0.56517136 NBA trade rumors: Celtics exploring options for recent acquisition Anfernee Simons in cost-cutting move (https://www.cbssports.com/nba/news/nba-trade-rumors-celtics-exploring-options-for-recent-acquisition-anfernee-simons-in-cost-cutting-move/)\n",
      "score=0.5740855 Why Damian Lillard is big winner after Bucks release; Fever claim Commissioner's Cup without Caitlin Clark (https://www.cbssports.com/nba/news/why-damian-lillard-is-big-winner-after-bucks-release-fever-claim-commissioners-cup-without-caitlin-clark/)\n",
      "score=0.58360267 2025 two-round NBA Mock Draft: From Cooper Flagg at No. 1 to a Michigan big at No. 59, our swing at every pick (https://www.cbssports.com/nba/news/2025-two-round-nba-mock-draft-from-cooper-flagg-at-no-1-to-a-michigan-big-at-no-59-our-swing-at-every-pick/)\n",
      "score=0.5839517 NBA summer league rosters: Full list for Lakers, Knicks, Warriors, more with lots of familiar names in Vegas (https://www.cbssports.com/nba/news/nba-summer-league-rosters-full-list-for-lakers-knicks-warriors-more-with-lots-of-familiar-names-in-vegas/)\n"
     ]
    }
   ],
   "source": [
    "print_resultset(result)"
   ]
  },
  {
   "cell_type": "markdown",
   "id": "0a205899",
   "metadata": {},
   "source": [
    "In the above function call, you'll notice that the `rank_by` parameter is set to `(\"vector\", \"ANN\", query_vector)`. Some explanation:\n",
    "\n",
    "- Up until now we've been referring to vector search as \"similarity search\".\n",
    "\n",
    "- Formally speaking, similarity search is a type of `k-nearest neighbor` (k-NN) search, which is kind of `nearest neighbor search`.\n",
    "\n",
    "- Nearest neighbor search is the problem of: given a set of points $S$ and a query point $q$, find the point in $S$ that is closest to $q$.\n",
    "\n",
    "- k-NN search is the problem of: given a set of points $S$ and a query point $q$, find the $k$ points in $S$ that are closest to $q$.\n",
    "\n",
    "- That is a hard problem in general. Production systems use `approximate nearest neighbor` (ANN) search to speed up the search."
   ]
  },
  {
   "cell_type": "markdown",
   "id": "435158d6",
   "metadata": {},
   "source": [
    "We can also retrieve a specific article by its ID"
   ]
  },
  {
   "cell_type": "code",
   "execution_count": 13,
   "id": "d31f8158",
   "metadata": {},
   "outputs": [
    {
     "name": "stdout",
     "output_type": "stream",
     "text": [
      "score=None Ilia Topuria will 'push' to fight Islam Makhachev for UFC welterweight title (https://www.cbssports.com/mma/news/ilia-topura-will-push-to-fight-islam-makhachev-for-ufc-welterweight-title/)\n"
     ]
    }
   ],
   "source": [
    "result = turbopuffer_namespace.query(\n",
    "    top_k=10,\n",
    "    filters=(\"id\", \"In\", [\"8111679230865285788\"]),\n",
    "    include_attributes=[\"id\", \"metadata$link\", \"metadata$title\"]\n",
    ")\n",
    "\n",
    "print_resultset(result)"
   ]
  },
  {
   "cell_type": "markdown",
   "id": "1c5f9f69",
   "metadata": {},
   "source": [
    "## Recommendations: build a user preference vector\n",
    "\n",
    "As discussed before, we can make recommendations to users based on their content-viewing history.\n",
    "\n",
    "We can do this as follows:\n",
    "- Retrieve a list of the user's last viewed articles\n",
    "- Look up the embeddings for those articles\n",
    "- Average the embeddings to create a \"user-preference\" vector\n",
    "- Query the index for the closest articles to the user-preference vector\n",
    "- Filter out articles that the user has already viewed"
   ]
  },
  {
   "cell_type": "markdown",
   "id": "422dc0a3",
   "metadata": {},
   "source": [
    "Let's suppose our hypothetical user likes the Seattle Mariners. Let's find some articles they would enjoy."
   ]
  },
  {
   "cell_type": "code",
   "execution_count": 14,
   "id": "0b2d17f8",
   "metadata": {},
   "outputs": [
    {
     "name": "stdout",
     "output_type": "stream",
     "text": [
      "score=0.4356718 Brewers vs. Mariners prediction, odds, props, best bets: Free 2025 MLB picks for Tuesday, July 22 (https://www.cbssports.com/mlb/news/brewers-vs-mariners-prediction-odds-props-best-bets-free-2025-mlb-picks-for-tuesday-july-22/)\n",
      "score=0.44696057 Free MLB picks, predictions, best bets for Sunday, July 20: This three-leg baseball parlay pays nearly 7-1 (https://www.cbssports.com/betting/news/free-mlb-picks-predictions-best-bets-for-sunday-july-20-this-three-leg-baseball-parlay-pays-nearly-7-1/)\n",
      "score=0.44854653 Mariners vs. Tigers predictions, odds, props, best bets: Free 2025 MLB picks for Friday, July 11 (https://www.cbssports.com/mlb/news/mariners-vs-tigers-predictions-odds-props-best-bets-free-2025-mlb-picks-for-friday-july-11/)\n",
      "score=0.53065103 MLB trade deadline rumors: Cardinals to revisit Nolan Arenado's no-trade clause, Twins listening on rentals (https://www.cbssports.com/mlb/news/mlb-trade-deadline-rumors-cardinals-to-revisit-nolan-arenados-no-trade-clause-twins-listening-on-rentals/)\n",
      "score=0.5398147 Today's best MLB pitcher strikeout props: Fade Phillies starter against Red Sox (https://www.cbssports.com/betting/news/todays-best-mlb-pitcher-strikeout-props-fade-phillies-starter-against-red-sox/)\n",
      "score=0.57312274 Mariners closer Andrés Muñoz was tipping pitches and Yankees weren't shy in picking it up (https://www.cbssports.com/mlb/news/mariners-closer-andres-munoz-was-tipping-pitches-and-yankees-werent-shy-in-picking-it-up/)\n",
      "score=0.5739238 Yankees, after being no-hit into eighth inning, mount improbable comeback to stun Mariners, 6-5 (https://www.cbssports.com/mlb/news/yankees-after-being-no-hit-into-eighth-inning-mount-improbable-comeback-to-stun-mariners-6-5/)\n",
      "score=0.58516294 Today's best MLB pitcher strikeout props: Back Yankees rookie against Blue Jays (https://www.cbssports.com/mlb/news/todays-best-mlb-pitcher-strikeout-props-back-yankees-rookie-against-blue-jays/)\n",
      "score=0.5854689 MLB trade deadline rumors: Mets could move big-league roster pieces; Cardinals dangle starting pitcher (https://www.cbssports.com/mlb/news/mlb-trade-deadline-rumors-mets-could-move-big-league-roster-pieces-cardinals-dangle-starting-pitcher/)\n",
      "score=0.58595896 Athletics vs. Rangers predictions, odds, props, best bets: Free 2025 MLB picks for Monday, July 21 (https://www.cbssports.com/mlb/news/athletics-vs-rangers-predictions-odds-props-best-bets-free-2025-mlb-picks-for-monday-july-21/)\n"
     ]
    }
   ],
   "source": [
    "mariners_results = turbopuffer_namespace.query(\n",
    "    rank_by=(\"vector\", \"ANN\", embed_text(\"Seattle Mariners\")),\n",
    "    top_k=10,\n",
    "    include_attributes=[\"id\", \"metadata$title\", \"metadata$link\", \"vector\"]\n",
    ")\n",
    "\n",
    "assert mariners_results is not None, \"No results found for Mariners articles.\"\n",
    "\n",
    "print_resultset(mariners_results)"
   ]
  },
  {
   "cell_type": "markdown",
   "id": "a3924817",
   "metadata": {},
   "source": [
    "That looks promising! Let's assume the first five. We'll use that to bootstrap a user preference vector.\n",
    "\n",
    "First let's gather the liked article IDs:"
   ]
  },
  {
   "cell_type": "code",
   "execution_count": 15,
   "id": "bd79350f",
   "metadata": {},
   "outputs": [
    {
     "data": {
      "text/plain": [
       "['2106511392500355463',\n",
       " '8524303056634532461',\n",
       " '3851069739594685409',\n",
       " '9475560483609406170',\n",
       " '8214622016198778880']"
      ]
     },
     "execution_count": 15,
     "metadata": {},
     "output_type": "execute_result"
    }
   ],
   "source": [
    "liked_article_ids = [row.id for row in mariners_results.rows[:5]]\n",
    "liked_article_ids"
   ]
  },
  {
   "cell_type": "markdown",
   "id": "32f5dc9a",
   "metadata": {},
   "source": [
    "And the liked article embeddings:"
   ]
  },
  {
   "cell_type": "code",
   "execution_count": 16,
   "id": "abf22556",
   "metadata": {},
   "outputs": [
    {
     "data": {
      "text/plain": [
       "(5, 1536)"
      ]
     },
     "execution_count": 16,
     "metadata": {},
     "output_type": "execute_result"
    }
   ],
   "source": [
    "liked_article_embeddings = np.array([row.vector for row in mariners_results.rows[:5]])\n",
    "liked_article_embeddings.shape"
   ]
  },
  {
   "cell_type": "code",
   "execution_count": 17,
   "id": "83a9f01e",
   "metadata": {},
   "outputs": [
    {
     "data": {
      "text/plain": [
       "array([[-0.01308494, -0.01185051,  0.03611936, ...,  0.01508471,\n",
       "         0.00996183,  0.03715628],\n",
       "       [-0.00677523, -0.03349172,  0.0422851 , ..., -0.0013612 ,\n",
       "         0.00651094,  0.03776828],\n",
       "       [-0.03124473, -0.01423051,  0.03186866, ...,  0.00077467,\n",
       "         0.0171342 ,  0.02634924],\n",
       "       [-0.06179104,  0.03318503,  0.0482855 , ...,  0.02548044,\n",
       "         0.011499  ,  0.03560316],\n",
       "       [-0.01301354,  0.02161742,  0.04168894, ...,  0.01072635,\n",
       "         0.03071549,  0.01784135]], shape=(5, 1536))"
      ]
     },
     "execution_count": 17,
     "metadata": {},
     "output_type": "execute_result"
    }
   ],
   "source": [
    "liked_article_embeddings"
   ]
  },
  {
   "cell_type": "markdown",
   "id": "41b15c7a",
   "metadata": {},
   "source": [
    "Now we can generate a user preference embedding by averaging the liked article embeddings.\n",
    "\n",
    "We want the \"average article embedding\", that is, for each dimension of the vector, we take the average across the liked articles.\n",
    "\n",
    "The output should have shape `(1536,)`, ie a single vector with 1536 dimensions.\n",
    "\n",
    "If we made a mistake, we _could_ average across the dimensions and get a vector of shape `(5,)`, but that would be wrong."
   ]
  },
  {
   "cell_type": "code",
   "execution_count": 18,
   "id": "68df0d2d",
   "metadata": {},
   "outputs": [
    {
     "data": {
      "text/plain": [
       "(1536,)"
      ]
     },
     "execution_count": 18,
     "metadata": {},
     "output_type": "execute_result"
    }
   ],
   "source": [
    "user_preference_vector = np.mean(liked_article_embeddings, axis=0)\n",
    "user_preference_vector.shape"
   ]
  },
  {
   "cell_type": "code",
   "execution_count": 19,
   "id": "c00be03e",
   "metadata": {},
   "outputs": [
    {
     "data": {
      "text/plain": [
       "array([-0.02518189, -0.00095406,  0.04004951, ...,  0.01014099,\n",
       "        0.0151643 ,  0.03094366], shape=(1536,))"
      ]
     },
     "execution_count": 19,
     "metadata": {},
     "output_type": "execute_result"
    }
   ],
   "source": [
    "user_preference_vector"
   ]
  },
  {
   "cell_type": "markdown",
   "id": "a91b75bf",
   "metadata": {},
   "source": [
    "Now let's search for articles to recommend against the user preference embedding:"
   ]
  },
  {
   "cell_type": "code",
   "execution_count": 20,
   "id": "3d48f5f7",
   "metadata": {},
   "outputs": [
    {
     "name": "stdout",
     "output_type": "stream",
     "text": [
      "score=0.1904934 Today's best MLB pitcher strikeout props: Back Yankees rookie against Blue Jays (https://www.cbssports.com/mlb/news/todays-best-mlb-pitcher-strikeout-props-back-yankees-rookie-against-blue-jays/)\n",
      "score=0.20667213 Free MLB picks, predictions, best bets for Friday, July 18: This four-leg baseball parlay pays well over 8-1 (https://www.cbssports.com/betting/news/free-mlb-picks-predictions-best-bets-for-friday-july-18-this-four-leg-baseball-parlay-pays-well-over-8-1/)\n",
      "score=0.20872134 Today's best MLB pitcher strikeout props: Back Nationals righty against Padres at plus odds (https://www.cbssports.com/betting/news/todays-best-mlb-pitcher-strikeout-props-back-nationals-righty-against-padres-at-plus-odds/)\n",
      "score=0.22304255 Free MLB player props, odds for July 20: Use Merrill Kelly, Tarik Skubal, Jose Ramirez in Sunday MLB props (https://www.cbssports.com/betting/news/free-mlb-player-props-odds-for-july-20-use-merrill-kelly-tarik-skubal-jose-ramirez-in-sunday-mlb-props/)\n",
      "score=0.22557396 Free MLB player props, odds for July 11: Use Kodai Senga, Ketel Marte, George Springer in Friday MLB prop bets (https://www.cbssports.com/betting/news/free-mlb-player-props-odds-for-july-11-use-kodai-senga-ketel-marte-george-springer-in-friday-mlb-prop-bets/)\n",
      "score=0.22822708 Today's best MLB pitcher strikeout props, predictions: Back Blue Jays starter against White Sox (https://www.cbssports.com/betting/news/todays-best-mlb-pitcher-strikeout-props-predictions-back-blue-jays-starter-against-white-sox/)\n",
      "score=0.22879034 Free MLB player props, odds for July 21: Use Riley Greene, Carlos Rodon in Monday MLB player props (https://www.cbssports.com/betting/news/free-mlb-player-props-odds-for-july-21-use-riley-greene-carlos-rodon-in-monday-mlb-player-props/)\n",
      "score=0.23663539 Today's best MLB pitcher strikeout props: Fade Cy Young-winning Tigers starter against Mariners (https://www.cbssports.com/betting/news/todays-best-mlb-pitcher-strikeout-props-fade-cy-young-winning-tigers-starter-against-mariners/)\n",
      "score=0.23935711 Free MLB picks, predictions, best bets for Saturday, July 19: This three-leg baseball parlay pays nearly 7-1 (https://www.cbssports.com/betting/news/free-mlb-picks-predictions-best-bets-for-saturday-july-19-this-three-leg-baseball-parlay-pays-nearly-7-1/)\n",
      "score=0.24318701 Free MLB picks, predictions, best bets for Monday, July 7: This four-leg baseball parlay pays almost 16-1 (https://www.cbssports.com/betting/news/free-mlb-picks-predictions-best-bets-for-monday-july-7-this-four-leg-baseball-parlay-pays-almost-16-1/)\n",
      "score=0.24811465 MLB DFS: Top DraftKings, FanDuel daily Fantasy baseball picks, lineups, advice for Friday, July 11, 2025 (https://www.cbssports.com/mlb/news/mlb-dfs-top-draftkings-fanduel-daily-fantasy-baseball-picks-lineups-advice-for-friday-july-11-2025/)\n",
      "score=0.24824232 MLB DFS: Best DraftKings, FanDuel daily Fantasy baseball picks, lineups, advice for Monday, July 21, 2025 (https://www.cbssports.com/mlb/news/mlb-dfs-best-draftkings-fanduel-daily-fantasy-baseball-picks-lineups-advice-for-monday-july-21-2025/)\n",
      "score=0.2487526 Free MLB player props, odds on July 9: Use Giancarlo Stanton, Luis Arraez, Trevor Story in Wednesday MLB props (https://www.cbssports.com/betting/news/free-mlb-player-props-odds-on-july-9-use-giancarlo-stanton-luis-arraez-trevor-story-in-wednesday-mlb-props/)\n",
      "score=0.2524426 Free MLB picks, predictions, best bets for Thursday, July 10: This three-leg baseball parlay pays almost 6-1 (https://www.cbssports.com/betting/news/free-mlb-picks-predictions-best-bets-for-thursday-july-10-this-three-leg-baseball-parlay-pays-almost-6-1/)\n",
      "score=0.2527489 Free MLB picks, predictions, best bets for Monday, July 21: Back the Twins and Red Sox to pull off upsets (https://www.cbssports.com/mlb/news/free-mlb-picks-predictions-best-bets-for-monday-july-21-back-the-twins-and-red-sox-to-pull-off-upsets/)\n",
      "score=0.2536044 Dodgers vs. Brewers predictions, odds, props, best bets: Free 2025 MLB picks for Monday, July 7 (https://www.cbssports.com/mlb/news/dodgers-vs-brewers-predictions-odds-props-best-bets-free-2025-mlb-picks-for-monday-july-7/)\n",
      "score=0.25538456 Free MLB player props, odds for July 18: Use Kyle Schwarber, Rafael Devers, Riley Greene in Friday MLB props (https://www.cbssports.com/betting/news/free-mlb-player-props-odds-for-july-18-use-kyle-schwarber-rafael-devers-riley-greene-in-friday-mlb-props/)\n",
      "score=0.25594234 Free MLB player props, odds for July 22: Use Jose Ramirez, Francisco Lindor in Tuesday MLB player props (https://www.cbssports.com/betting/news/free-mlb-player-props-odds-for-july-22-use-jose-ramirez-francisco-lindor-in-tuesday-mlb-player-props/)\n",
      "score=0.2583471 Today's best MLB pitcher strikeout props: Back Nationals starter, plus more predictions (https://www.cbssports.com/betting/news/todays-best-mlb-pitcher-strikeout-props-back-nationals-starter-plus-more-predictions/)\n",
      "score=0.25916928 Tigers vs. Rangers prediction, odds, props, start time: Free Sunday Night Baseball picks from proven model (https://www.cbssports.com/mlb/news/tigers-vs-rangers-prediction-odds-props-start-time-free-sunday-night-baseball-picks-from-proven-model/)\n"
     ]
    }
   ],
   "source": [
    "recommended_articles_results = turbopuffer_namespace.query(\n",
    "    rank_by=(\"vector\", \"ANN\", user_preference_vector.tolist()),\n",
    "    top_k=20,\n",
    "    include_attributes=[\"id\", \"metadata$title\", \"metadata$link\", \"page_content\"],\n",
    "    filters=(\"id\", \"NotIn\", liked_article_ids)\n",
    ")\n",
    "\n",
    "print_resultset(recommended_articles_results)"
   ]
  },
  {
   "cell_type": "markdown",
   "id": "f72ed64c",
   "metadata": {},
   "source": [
    "These are strong matches (score < 0.6) and not already viewed by the user. Let's inspect the first one:"
   ]
  },
  {
   "cell_type": "code",
   "execution_count": 21,
   "id": "c6296bca",
   "metadata": {},
   "outputs": [],
   "source": [
    "recommended_articles = [row for row in recommended_articles_results.rows] # type: ignore"
   ]
  },
  {
   "cell_type": "code",
   "execution_count": 22,
   "id": "e3226158",
   "metadata": {},
   "outputs": [
    {
     "name": "stdout",
     "output_type": "stream",
     "text": [
      "('The Milwaukee Brewers are going for their 12th win in a row Tuesday, July 22 '\n",
      " \"when they visit the Seattle Mariners, and they'll be fortunate to have ace \"\n",
      " 'Jacob Misiorowski (4-1, 2.81 ERA) on the mound when they attempt to extend '\n",
      " 'their winning streak. Misiorowski has been the real deal this season, '\n",
      " 'striking out 12 in six innings against the Los Angeles Dodgers in his last '\n",
      " 'appearance. He allowed just one run in that 3-1 victory. The Mariners will '\n",
      " 'counter with Logan Gilbert (2-3, 3.39 ERA), who allowed just two runs in 5 '\n",
      " '1/3 innings in a win over the Detroit Tigers, striking out nine in the '\n",
      " 'process.\\n'\n",
      " '\\n'\n",
      " \"Sportsbooks have set both Misiorowski's and Gilbert's total strikeout player \"\n",
      " 'prop at 6.5. The SportsLine Projection Model, which simulates every MLB game '\n",
      " '10,000 times, rates Misiorowski Under 6.5 as a 4-star play on its five-star '\n",
      " 'scale and Gilbert Over 6.5 as a 2.5-star play.\\n'\n",
      " '\\n'\n",
      " \"However, the model has found better value elsewhere on Tuesday's 15-game \"\n",
      " 'schedule. There are three pitcher strikeout player props that the model has '\n",
      " 'rated at 5 stars, including one that would pay plus money. Here they are:\\n'\n",
      " '\\n'\n",
      " 'Brad Lord Over 2.5 strikeouts (-154) vs. Reds (6:45 p.m. ET)\\n'\n",
      " '\\n'\n",
      " 'Rating: 5 stars\\n'\n",
      " '\\n'\n",
      " 'Model projection: 4.1 strikeouts\\n'\n",
      " '\\n'\n",
      " 'The 25-year-old Nationals rookie has been working out of the bullpen since '\n",
      " 'mid-May, but on Tuesday he returns to the starting rotation to replace '\n",
      " 'Shinnosuke Ogasawara. In six previous starts this season, Lord (2-5, 3.46) '\n",
      " 'went Over 2.5 strikeouts five times, averaging 3.5 strikeouts per game. On '\n",
      " 'Tuesday he will face a Cincinnati club that strikes out 8.6 times per game, '\n",
      " 'the 10th highest rate in the majors.\\n'\n",
      " '\\n'\n",
      " 'Cam Schlittler Over 3.5 strikeouts (-145) vs. Blue Jays (7:07 p.m. ET)\\n'\n",
      " '\\n'\n",
      " 'Rating: 5 stars\\n'\n",
      " '\\n'\n",
      " 'Model projection: 5.1 strikeouts\\n'\n",
      " '\\n'\n",
      " '\\n'\n",
      " '\\n'\n",
      " 'Schlittler (1-0, 5.06 ERA) may have gotten the victory in his first start '\n",
      " 'but he got roughed up a bit against the Mariners, giving up three runs in 5 '\n",
      " '1/3 innings in a 9-6 Yankees win. New York lost the series opener thanks to '\n",
      " 'a four-run fifth inning for the Blue Jays, highlighted by two errors. The '\n",
      " 'Yankees need Schlittler to have a strong showing to get back in the series '\n",
      " \"and that's going to be tough against a Toronto lineup with the best batting \"\n",
      " 'average in baseball and the lowest number of strikeouts but the SportsLine '\n",
      " \"model has a strong lean to the Over on Schlittler's strikeouts prop.\\n\"\n",
      " '\\n'\n",
      " 'J.T. Ginn Over 3.5 strikeouts (+108) vs. Rangers (8:05 p.m. ET)\\n'\n",
      " '\\n'\n",
      " 'Rating: 5 stars\\n'\n",
      " '\\n'\n",
      " 'Model projection: 5.7 strikeouts\\n'\n",
      " '\\n'\n",
      " '\\n'\n",
      " '\\n'\n",
      " \"This is the model's best pitcher strikeout prop for Tuesday. Like Lord, Ginn \"\n",
      " '(1-2, 4.91) started games earlier this season, went to the bullpen, and he '\n",
      " 'returns to the rotation on Tuesday. In his four starts this year, he went '\n",
      " 'Over 3.5 strikeouts three times and averaged 5.5 strikeouts per start. He is '\n",
      " 'scheduled to face a Texas ballclub that has averaged 11.0 strikeouts over '\n",
      " 'the last three games, the second-highest total over that stretch.')\n"
     ]
    }
   ],
   "source": [
    "first_result_content = recommended_articles[0].page_content\n",
    "\n",
    "pretty_printer.pprint(first_result_content)"
   ]
  },
  {
   "cell_type": "markdown",
   "id": "a4bc67e1",
   "metadata": {},
   "source": [
    "That does contain info about the Mariners! It takes some sleuthing. So let's make a helper function to zero in:"
   ]
  },
  {
   "cell_type": "code",
   "execution_count": 23,
   "id": "03103a3a",
   "metadata": {},
   "outputs": [],
   "source": [
    "def narrow_by_phrase(content: str, phrase: str, width: int = 100) -> str:\n",
    "    \"\"\"Narrow down the content to a specific phrase with some context.\"\"\"\n",
    "    phrase_position = content.lower().find(phrase.lower())\n",
    "    if phrase_position == -1:\n",
    "        return \"Phrase not found in content.\"\n",
    "\n",
    "    start = max(0, phrase_position - width)\n",
    "    end = phrase_position + len(phrase) + width\n",
    "    \n",
    "    return content[start:end].strip()"
   ]
  },
  {
   "cell_type": "code",
   "execution_count": 24,
   "id": "ca20820b",
   "metadata": {},
   "outputs": [
    {
     "data": {
      "text/plain": [
       "\"ilwaukee Brewers are going for their 12th win in a row Tuesday, July 22 when they visit the Seattle Mariners, and they'll be fortunate to have ace Jacob Misiorowski (4-1, 2.81 ERA) on the mound when they atte\""
      ]
     },
     "execution_count": 24,
     "metadata": {},
     "output_type": "execute_result"
    }
   ],
   "source": [
    "narrow_by_phrase(first_result_content, \"Mariners\")"
   ]
  },
  {
   "cell_type": "markdown",
   "id": "5307e089",
   "metadata": {},
   "source": [
    "# Appendix"
   ]
  },
  {
   "cell_type": "markdown",
   "id": "03e363b0",
   "metadata": {},
   "source": [
    "## Diversify with MMR"
   ]
  },
  {
   "cell_type": "markdown",
   "id": "82d5157c",
   "metadata": {},
   "source": [
    "As you can see above, the recommended articles are all very similar to each other. In particular, there are a lot of articles about the offseason grades.\n",
    "\n",
    "One straightforward way to improve the recommendations is to do the similarity search as before, except with a larger `top_k` value to cast a wider net. Then build the list of recommended articles.\n",
    "\n",
    "- For each article recommended compute the similarity to the already recommended articles.\n",
    "    - If it is too similar to an already recommended article, skip it. Do not include it in the final list.\n",
    "    - Otherwise include it in the final list.\n",
    "\n",
    "A real strength of this approach is that we can use the already computed article embeddings yet again! Since they are already stored in the index, we can request they be included in the returned data. Then we can compute the intra-result-set similarities. This approach is called `max marginal relevance` and is a common technique in information retrieval."
   ]
  },
  {
   "cell_type": "code",
   "execution_count": 24,
   "id": "3ae234e8",
   "metadata": {},
   "outputs": [],
   "source": [
    "def max_marginal_relevance(rows: list[Row], lambda_param: float = 0.2) -> list[Row]:\n",
    "    \"\"\"\n",
    "    Implement Max Marginal Relevance (MMR) to filter out overly similar articles.\n",
    "    \n",
    "    Args:\n",
    "        rows (list[Row]): List of rows to filter.\n",
    "        lambda_param (float): Trade-off parameter between relevance and diversity.\n",
    "        \n",
    "    Returns:\n",
    "        list[Row]: Filtered list of rows.\n",
    "    \"\"\"\n",
    "    selected_rows = []\n",
    "    selected_vectors = np.array([])\n",
    "    for row in rows:\n",
    "        if not selected_rows:\n",
    "            selected_rows.append(row)\n",
    "            selected_vectors = np.array([row.vector])\n",
    "            continue\n",
    "        \n",
    "        # Calculate similarity with already selected rows\n",
    "        this_vector = np.array(row.vector)\n",
    "        cosine_distances = (1 - np.dot(selected_vectors, this_vector)) / 2\n",
    "        if min(cosine_distances) > lambda_param:\n",
    "            selected_rows.append(row)\n",
    "            selected_vectors = np.vstack([selected_vectors, this_vector])\n",
    "    \n",
    "    return selected_rows"
   ]
  },
  {
   "cell_type": "code",
   "execution_count": 26,
   "id": "a7f3443a",
   "metadata": {},
   "outputs": [
    {
     "name": "stdout",
     "output_type": "stream",
     "text": [
      "score=0.1904934 Today's best MLB pitcher strikeout props: Back Yankees rookie against Blue Jays (https://www.cbssports.com/mlb/news/todays-best-mlb-pitcher-strikeout-props-back-yankees-rookie-against-blue-jays/)\n",
      "score=0.28728622 Orioles vs. Rays prediction, odds, props, start time, July 20 bets: Free Sunday picks from proven model (https://www.cbssports.com/mlb/news/orioles-vs-rays-prediction-odds-props-start-time-july-20-bets-free-sunday-picks-from-proven-model/)\n",
      "score=0.31040543 MLB picks, baseball best bets for Friday: Dodgers bounce back, Cubs vs. Yankees and home run derby play (https://www.cbssports.com/mlb/news/mlb-picks-baseball-best-bets-for-friday-dodgers-bounce-back-cubs-vs-yankees-and-home-run-derby-play/)\n",
      "score=0.31311893 MLB trade deadline rumors: Mets could move big-league roster pieces; Cardinals dangle starting pitcher (https://www.cbssports.com/mlb/news/mlb-trade-deadline-rumors-mets-could-move-big-league-roster-pieces-cardinals-dangle-starting-pitcher/)\n",
      "score=0.3307194 Cubs vs. Twins predictions, odds, line, start time: 2025 MLB picks, July 10 bets from proven model (https://www.cbssports.com/mlb/news/cubs-vs-twins-predictions-odds-line-start-time-2025-mlb-picks-july-10-bets-from-proven-model/)\n",
      "score=0.3442775 Today's top games to watch, best bets, odds: Cooper Flagg vs. Bronny James, Mariners at Yankees, WNBA and more (https://www.cbssports.com/betting/news/todays-top-games-to-watch-best-bets-odds-cooper-flagg-vs-bronny-james-mariners-at-yankees-wnba-and-more/)\n",
      "score=0.3544371 Red Sox vs. Phillies odds, line, prediction, time: 2025 MLB picks, best bets for July 21 by proven model (https://www.cbssports.com/mlb/news/red-sox-vs-phillies-odds-line-prediction-time-2025-mlb-picks-best-bets-for-july-21-by-proven-model/)\n",
      "score=0.3565274 Marlins vs. Reds predictions, odds, props, best bets: Free 2025 MLB picks for Thursday, July 10 (https://www.cbssports.com/mlb/news/marlins-vs-reds-predictions-odds-props-best-bets-free-2025-mlb-picks-for-thursday-july-10/)\n",
      "score=0.37869442 Seattle Sounders vs. Columbus Crew prediction, odds, time: Free picks, best bets from soccer expert for July 6 (https://www.cbssports.com/betting/news/seattle-sounders-vs-columbus-crew-prediction-odds-time-free-picks-best-bets-from-soccer-expert-for-july-6/)\n",
      "score=0.4026401 White Sox vs. Guardians odds, line, props, prediction, time: 2025 MLB picks, bets for July 11 by proven model (https://www.cbssports.com/mlb/news/white-sox-vs-guardians-odds-line-props-prediction-time-2025-mlb-picks-bets-for-july-11-by-proven-model/)\n"
     ]
    }
   ],
   "source": [
    "recommended_articles_results = turbopuffer_namespace.query(\n",
    "    rank_by=(\"vector\", \"ANN\", user_preference_vector.tolist()),\n",
    "    top_k=100,\n",
    "    include_attributes=[\"id\", \"metadata$title\", \"metadata$link\", \"page_content\", \"vector\"],\n",
    "    filters=(\"id\", \"NotIn\", liked_article_ids)\n",
    ")\n",
    "\n",
    "recommended_articles = max_marginal_relevance(list(recommended_articles_results.rows))[:10] # type: ignore\n",
    "\n",
    "print_rows(recommended_articles)"
   ]
  },
  {
   "cell_type": "markdown",
   "id": "f526c488",
   "metadata": {},
   "source": [
    "Note that the articles are more diverse now."
   ]
  }
 ],
 "metadata": {
  "kernelspec": {
   "display_name": "momento-buffconf-workshop-py3.11 (3.11.2)",
   "language": "python",
   "name": "python3"
  },
  "language_info": {
   "codemirror_mode": {
    "name": "ipython",
    "version": 3
   },
   "file_extension": ".py",
   "mimetype": "text/x-python",
   "name": "python",
   "nbconvert_exporter": "python",
   "pygments_lexer": "ipython3",
   "version": "3.11.2"
  }
 },
 "nbformat": 4,
 "nbformat_minor": 5
}
