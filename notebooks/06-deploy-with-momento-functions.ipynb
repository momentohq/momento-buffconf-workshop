{
 "cells": [
  {
   "cell_type": "markdown",
   "id": "f13dcef3",
   "metadata": {},
   "source": [
    "# Deploy to Momento Functions\n",
    "\n",
    "In this final notebook, we will tie together all the pieces we have built in the previous notebooks and deploy our indexer and recommender functions to Momento Functions.\n",
    "\n",
    "Momento Functions is a serverless compute platform that lets you deploy WebAssembly binaries with zero infrastructure or API Gateway setup. Simply upload your WASM files to Momento, and your code is instantly available at a public HTTP endpoint—no configuration required. You get scalable, production-ready endpoints without managing servers or networking.\n",
    "\n",
    "For this notebook we will need the following API keys (in the environment variables):\n",
    "- `MOMENTO_API_KEY`\n",
    "- `OPENAI_API_KEY`\n",
    "- `TURBOPUFFER_API_KEY`\n",
    "- `TURBOPUFFER_NAMESPACE`\n",
    "- `TURBOPUFFER_REGION`"
   ]
  },
  {
   "cell_type": "markdown",
   "id": "a92525fa",
   "metadata": {},
   "source": [
    "# Setup"
   ]
  },
  {
   "cell_type": "code",
   "execution_count": null,
   "id": "e54e435c",
   "metadata": {},
   "outputs": [],
   "source": [
    "from momento_buffconf_workshop import NotebookConfiguration\n",
    "\n",
    "config = NotebookConfiguration.for_functions()\n",
    "config.print_status_banner()"
   ]
  },
  {
   "cell_type": "code",
   "execution_count": 24,
   "id": "fad70990",
   "metadata": {},
   "outputs": [],
   "source": [
    "import base64\n",
    "import os\n",
    "from pathlib import Path\n",
    "from typing import Any, Mapping\n",
    "\n",
    "from momento import CredentialProvider\n",
    "import requests\n",
    "\n",
    "from momento_buffconf_workshop import ArticleContent"
   ]
  },
  {
   "cell_type": "markdown",
   "id": "d179d2a3",
   "metadata": {},
   "source": [
    "Before we add our functions we need to create a namespace in Momento."
   ]
  },
  {
   "cell_type": "code",
   "execution_count": 25,
   "id": "06fed22c",
   "metadata": {},
   "outputs": [],
   "source": [
    "# Note that for the workshop you do not need to run this code.\n",
    "# A cache has already been created for you.\n",
    "\n",
    "# from datetime import timedelta\n",
    "# from momento import CacheClient, Configurations\n",
    "\n",
    "# momento_client = CacheClient(\n",
    "#     Configurations.Laptop.v1(),\n",
    "#     CredentialProvider.from_environment_variable(\"MOMENTO_API_KEY\"),\n",
    "#     default_ttl=timedelta(minutes=5))\n",
    "\n",
    "# momento_client.create_cache(config.momento_cache_name)\n"
   ]
  },
  {
   "cell_type": "markdown",
   "id": "6a96a19c",
   "metadata": {},
   "source": [
    "# Minimal client\n",
    "\n",
    "Momento Functions has a simple HTTP API. In order to reduce boilerplate, we provide a minimal client to abstract away the HTTP details."
   ]
  },
  {
   "cell_type": "code",
   "execution_count": null,
   "id": "acb8fcc6",
   "metadata": {},
   "outputs": [],
   "source": [
    "class MomentoFunctionsClient:\n",
    "    \"\"\"\n",
    "    Minimal wrapper for Momento Functions HTTP API.\n",
    "    Only two calls: put_function() and invoke_function().\n",
    "    \"\"\"\n",
    "\n",
    "    def __init__(self, api_key: str):\n",
    "        \"\"\" Initialize the client with the Momento API key.\n",
    "\n",
    "        Args:\n",
    "            api_key (str): Momento API key.\n",
    "\n",
    "        Raises:\n",
    "            ValueError: If the API key is not provided.\n",
    "        \"\"\"\n",
    "        if not api_key:\n",
    "            raise ValueError(\"Momento API key is required\")\n",
    "        self._api_key = api_key\n",
    "        self._function_api_prefix = f\"https://api.{CredentialProvider.from_string(api_key).cache_endpoint}\"\n",
    "\n",
    "    def put_function(\n",
    "        self,\n",
    "        *,\n",
    "        cache_name: str,\n",
    "        function_name: str,\n",
    "        wasm_file_path: Path,\n",
    "        environment_variables: Mapping[str, str] | None = None,\n",
    "        timeout: int = 60,\n",
    "    ) -> dict[str, Any]:\n",
    "        \"\"\"Upload or update a Wasm function.\n",
    "\n",
    "        Args:\n",
    "            cache_name (str): The name of the cache.\n",
    "            function_name (str): The name of the function.\n",
    "            wasm_file_path (Path): The path to the Wasm file.\n",
    "            environment_variables (Mapping[str, str] | None, optional): Environment variables to set for the function. Defaults to None.\n",
    "            timeout (int, optional): Timeout for the request in seconds. Defaults to 60.\n",
    "\n",
    "        Returns:\n",
    "            dict[str, Any]: The response from the Momento Functions API.\n",
    "        \"\"\"\n",
    "        endpoint = (\n",
    "            f\"{self._function_api_prefix}/functions/manage/{cache_name}/{function_name}\"\n",
    "        )\n",
    "\n",
    "        with open(wasm_file_path, \"rb\") as fh:\n",
    "            inline_wasm_b64 = base64.b64encode(fh.read()).decode()\n",
    "\n",
    "        payload = {\n",
    "            \"environment_variables\": environment_variables or {},\n",
    "            \"inline_wasm\": inline_wasm_b64,\n",
    "        }\n",
    "\n",
    "        return self._request(\"PUT\", endpoint, json_=payload, timeout=timeout)\n",
    "\n",
    "    def invoke_function(\n",
    "        self,\n",
    "        *,\n",
    "        cache_name: str,\n",
    "        function_name: str,\n",
    "        payload: Any,\n",
    "        debug: bool = False,\n",
    "        timeout: int = 60,\n",
    "    ) -> dict[str, Any]:\n",
    "        \"\"\" Invoke a Momento function.\n",
    "\n",
    "        Args:\n",
    "            cache_name (str): The name of the cache where the function is deployed.\n",
    "            function_name (str): The name of the function to invoke.\n",
    "            payload (Any): The JSON payload to send to the function.\n",
    "            debug (bool, optional): Whether to enable debug logging. Defaults to False.\n",
    "            timeout (int, optional): Timeout for the request in seconds. Defaults to 60.\n",
    "\n",
    "        Returns:\n",
    "            dict[str, Any]: The response from the Momento Functions API.\n",
    "        \"\"\"\n",
    "        \n",
    "        endpoint = (\n",
    "            f\"{self._function_api_prefix}/functions/{cache_name}/{function_name}\"\n",
    "        )\n",
    "\n",
    "        headers = {}\n",
    "        if debug:\n",
    "            headers[\"x-momento-log\"] = \"debug\"\n",
    "\n",
    "        return self._request(\n",
    "            \"POST\", endpoint, headers=headers, json_=payload, timeout=timeout\n",
    "        )\n",
    "\n",
    "    # ---------- internal ------------------------------------------------\n",
    "    def _request(\n",
    "        self,\n",
    "        method: str,\n",
    "        url: str,\n",
    "        *,\n",
    "        json_: Any,\n",
    "        headers: Mapping[str, str] | None = None,\n",
    "        timeout: int,\n",
    "    ) -> dict[str, Any]:\n",
    "        headers_to_send = {\"authorization\": self._api_key, \"Content-Type\": \"application/json\"}\n",
    "        if headers:\n",
    "            headers_to_send.update(headers)\n",
    "\n",
    "        resp = requests.request(\n",
    "            method=method,\n",
    "            url=url,\n",
    "            headers=headers_to_send,\n",
    "            json=json_,\n",
    "            timeout=timeout,\n",
    "        )\n",
    "        try:\n",
    "            resp.raise_for_status()\n",
    "        except requests.HTTPError as e:\n",
    "            raise RuntimeError(\n",
    "                f\"Momento Functions API error {resp.status_code}: {resp.text}\"\n",
    "            ) from e\n",
    "\n",
    "        return resp.json() if resp.text else {}\n"
   ]
  },
  {
   "cell_type": "code",
   "execution_count": null,
   "id": "32471d92",
   "metadata": {},
   "outputs": [],
   "source": [
    "client = MomentoFunctionsClient(api_key=os.environ[\"MOMENTO_API_KEY\"])"
   ]
  },
  {
   "cell_type": "markdown",
   "id": "3671c4f7",
   "metadata": {},
   "source": [
    "# Index articles"
   ]
  },
  {
   "cell_type": "markdown",
   "id": "f9709ee4",
   "metadata": {},
   "source": [
    "## Create the indexer function"
   ]
  },
  {
   "cell_type": "markdown",
   "id": "a5abd83d",
   "metadata": {},
   "source": [
    "First let's add the index-articles function to Momento."
   ]
  },
  {
   "cell_type": "code",
   "execution_count": null,
   "id": "b9a172e3",
   "metadata": {},
   "outputs": [],
   "source": [
    "INDEX_ARTICLES_FUNCTION_NAME = \"turbopuffer-index-articles\""
   ]
  },
  {
   "cell_type": "code",
   "execution_count": null,
   "id": "76d0421c",
   "metadata": {},
   "outputs": [],
   "source": [
    "client.put_function(\n",
    "    cache_name=config.momento_cache_name,\n",
    "    function_name=INDEX_ARTICLES_FUNCTION_NAME,\n",
    "    wasm_file_path=config.index_articles_function_wasm_path,\n",
    "    environment_variables={\n",
    "        \"OPENAI_API_KEY\": os.environ[\"OPENAI_API_KEY\"],\n",
    "        \"TURBOPUFFER_API_KEY\": os.environ[\"TURBOPUFFER_API_KEY\"],\n",
    "        \"TURBOPUFFER_REGION\": os.environ[\"TURBOPUFFER_REGION\"],\n",
    "        \"TURBOPUFFER_NAMESPACE\": os.environ[\"TURBOPUFFER_NAMESPACE\"],\n",
    "    },\n",
    "    timeout=60,\n",
    ")"
   ]
  },
  {
   "cell_type": "markdown",
   "id": "7e4dc65d",
   "metadata": {},
   "source": [
    "## Index our articles"
   ]
  },
  {
   "cell_type": "markdown",
   "id": "da95c913",
   "metadata": {},
   "source": [
    "With our production indexer deployed, we can now index our articles.\n",
    "\n",
    "First let's load our data and inspect it."
   ]
  },
  {
   "cell_type": "code",
   "execution_count": null,
   "id": "80a41670",
   "metadata": {},
   "outputs": [],
   "source": [
    "articles = ArticleContent.load_json(config.normalized_article_path)\n",
    "article_payload = [article.model_dump() for article in articles.all_articles]\n",
    "article_payload[:5]"
   ]
  },
  {
   "cell_type": "markdown",
   "id": "c4ba5254",
   "metadata": {},
   "source": [
    "Now let's index our articles using the indexer function we just deployed."
   ]
  },
  {
   "cell_type": "code",
   "execution_count": null,
   "id": "bdd5c5b7",
   "metadata": {},
   "outputs": [],
   "source": [
    "client.invoke_function(\n",
    "    cache_name=config.momento_cache_name,\n",
    "    function_name=INDEX_ARTICLES_FUNCTION_NAME,\n",
    "    payload=article_payload,\n",
    "    timeout=60,\n",
    ")"
   ]
  },
  {
   "cell_type": "markdown",
   "id": "0d94083f",
   "metadata": {},
   "source": [
    "That was easy!\n",
    "\n",
    "In a production system we would have a cron job to run this periodically, or even triggered on new articles added to our content management system."
   ]
  },
  {
   "cell_type": "markdown",
   "id": "a3cae3b0",
   "metadata": {},
   "source": [
    "# Recommend content\n",
    "\n",
    "With our indexer live and data indexed, we can now deploy our recommender function to recommend content to our users."
   ]
  },
  {
   "cell_type": "markdown",
   "id": "c8f2f254",
   "metadata": {},
   "source": [
    "## Create the recommender function"
   ]
  },
  {
   "cell_type": "markdown",
   "id": "9452678b",
   "metadata": {},
   "source": [
    "Now put the recommend-articles function in Momento."
   ]
  },
  {
   "cell_type": "code",
   "execution_count": null,
   "id": "92330784",
   "metadata": {},
   "outputs": [],
   "source": [
    "RECOMMEND_ARTICLES_FUNCTION_NAME = \"turbopuffer-recommend-articles\""
   ]
  },
  {
   "cell_type": "code",
   "execution_count": null,
   "id": "dd0efa97",
   "metadata": {},
   "outputs": [],
   "source": [
    "client.put_function(\n",
    "    cache_name=config.momento_cache_name,\n",
    "    function_name=RECOMMEND_ARTICLES_FUNCTION_NAME,\n",
    "    wasm_file_path=config.recommend_articles_function_wasm_path,\n",
    "    environment_variables={\n",
    "        \"TURBOPUFFER_API_KEY\": os.environ[\"TURBOPUFFER_API_KEY\"],\n",
    "        \"TURBOPUFFER_REGION\": os.environ[\"TURBOPUFFER_REGION\"],\n",
    "        \"TURBOPUFFER_NAMESPACE\": os.environ[\"TURBOPUFFER_NAMESPACE\"],\n",
    "    },\n",
    "    timeout=60,\n",
    ")"
   ]
  },
  {
   "cell_type": "markdown",
   "id": "fb43dc4e",
   "metadata": {},
   "source": [
    "## Recommend content"
   ]
  },
  {
   "cell_type": "markdown",
   "id": "f6a98c73",
   "metadata": {},
   "source": [
    "Recall that our recommender algorithm takes as input the user's content viewing history in order to recommend similar content.\n",
    "\n",
    "Let's suppose our hypothetical user enjoys Basketball. We can grab some ids from the `NBA` RSS feed we used earlier as a substitute for the user's viewing history."
   ]
  },
  {
   "cell_type": "code",
   "execution_count": null,
   "id": "216dc251",
   "metadata": {},
   "outputs": [],
   "source": [
    "nba_articles = articles.articles[\"nba\"][:5]\n",
    "nba_ids = [article.id for article in nba_articles]\n",
    "for nba_article in nba_articles:\n",
    "    print(f\"{nba_article.metadata['title']} ==== {nba_article.page_content[:100]}\")"
   ]
  },
  {
   "cell_type": "markdown",
   "id": "af52984b",
   "metadata": {},
   "source": [
    "That looks good. Let's pass this in as the user's viewing history to our recommender function and see what happens."
   ]
  },
  {
   "cell_type": "code",
   "execution_count": null,
   "id": "e5fcab57",
   "metadata": {},
   "outputs": [],
   "source": [
    "client.invoke_function(\n",
    "    cache_name=config.momento_cache_name,\n",
    "    function_name=RECOMMEND_ARTICLES_FUNCTION_NAME,\n",
    "    payload={\n",
    "        \"article_ids\": nba_ids\n",
    "    },\n",
    "    timeout=60,\n",
    ")"
   ]
  },
  {
   "cell_type": "markdown",
   "id": "927b2df4",
   "metadata": {},
   "source": [
    "Our user would be engaged with the content we recommended!\n",
    "\n",
    "As a reminder, here are the various RSS feeds we index previously. Try running the flow with various feeds to see how the recommendations change:"
   ]
  },
  {
   "cell_type": "code",
   "execution_count": 4,
   "id": "99026765",
   "metadata": {},
   "outputs": [
    {
     "data": {
      "text/plain": [
       "['general',\n",
       " 'boxing',\n",
       " 'college_basketball',\n",
       " 'college_football',\n",
       " 'golf',\n",
       " 'masters',\n",
       " 'mlb',\n",
       " 'mma',\n",
       " 'nba',\n",
       " 'nfl',\n",
       " 'nhl',\n",
       " 'soccer',\n",
       " 'tennis',\n",
       " 'wwe',\n",
       " 'betting']"
      ]
     },
     "execution_count": 4,
     "metadata": {},
     "output_type": "execute_result"
    }
   ],
   "source": [
    "list(articles.articles.keys())"
   ]
  },
  {
   "cell_type": "markdown",
   "id": "223a992f",
   "metadata": {},
   "source": [
    "# Key takeaways\n",
    "\n",
    "We deployed our indexer and recommender functions to Momento Functions with almost no boilerplate, no API Gateway to configure, and no infrastructure to manage."
   ]
  }
 ],
 "metadata": {
  "kernelspec": {
   "display_name": "momento-buffconf-workshop-py3.11 (3.11.2)",
   "language": "python",
   "name": "python3"
  },
  "language_info": {
   "codemirror_mode": {
    "name": "ipython",
    "version": 3
   },
   "file_extension": ".py",
   "mimetype": "text/x-python",
   "name": "python",
   "nbconvert_exporter": "python",
   "pygments_lexer": "ipython3",
   "version": "3.11.2"
  }
 },
 "nbformat": 4,
 "nbformat_minor": 5
}
